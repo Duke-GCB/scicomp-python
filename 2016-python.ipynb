{
 "cells": [
  {
   "cell_type": "markdown",
   "metadata": {
    "slideshow": {
     "slide_type": "slide"
    }
   },
   "source": [
    "# Programming with Python\n",
    "\n",
    "Derived from [Novice Python lesson using Python 2.7 - Copyright © Software Carpentry](https://github.com/swcarpentry/python-novice-inflammation-2.7) "
   ]
  },
  {
   "cell_type": "markdown",
   "metadata": {
    "slideshow": {
     "slide_type": "fragment"
    }
   },
   "source": [
    "### Programming is hard. Expectations & Takeaways"
   ]
  },
  {
   "cell_type": "markdown",
   "metadata": {
    "slideshow": {
     "slide_type": "slide"
    }
   },
   "source": [
    "How many books about riding a bike did you read?\n",
    "\n",
    "[What Riding A Bike Has To Do With Learning Programming](http://twonontechies.com/bicycles-can-help-you-learn-programming/)\n",
    "\n",
    "> You can be a scientist in the science of bike ride mechanics and it still won’t help you one bit to do the actual thing."
   ]
  },
  {
   "cell_type": "markdown",
   "metadata": {
    "slideshow": {
     "slide_type": "slide"
    }
   },
   "source": [
    "The best way to learn how to program is to do something useful,\n",
    "so this introduction to Python is built around a common scientific task:\n",
    "data analysis.\n",
    "\n",
    "Our real goal isn't to teach you Python,\n",
    "but to teach you the basic concepts that all programming depends on.\n",
    "We use Python in our lessons because:\n",
    "\n",
    "1.  we have to use *something* for examples;\n",
    "2.  it's free, well-documented, and runs almost everywhere;\n",
    "3.  it has a large (and growing) user base among scientists; and\n",
    "4.  experience shows that it's easier for novices to pick up than most other languages.\n",
    "\n",
    "But the two most important things are\n",
    "to use whatever language your colleagues are using,\n",
    "so that you can share your work with them easily,\n",
    "and to use that language *well*."
   ]
  },
  {
   "cell_type": "markdown",
   "metadata": {
    "slideshow": {
     "slide_type": "slide"
    }
   },
   "source": [
    "We learned some programming earlier today, using `bash` to work with collections of files and ask some simple questions about files. `bash` is great for generally gluing commands together, but a language like python can offer more specialization when it comes to working with data. With python, you can:\n",
    "\n",
    "* Write programs that understand and represent numbers, collections, and other complex data types\n",
    "* Use existing tools (libraries) for fetching, processing, analyzing, and visualizing data\n",
    "* Automate these operations, share, and publish\n",
    "\n",
    "The example data for this lesson is going to be some DNA sequence data. We're going to write some programs that \n",
    "\n",
    "* understand sequence data\n",
    "* tell us some basic information about that data (length, count)\n",
    "* perform operations on that data (reverse complement)\n",
    "* make plots of our data (GC content)\n",
    "* work on common file formats (fasta)\n",
    "\n",
    "To do all that, we'll have to learn a little bit about programming."
   ]
  },
  {
   "cell_type": "markdown",
   "metadata": {
    "slideshow": {
     "slide_type": "slide"
    }
   },
   "source": [
    "# tktktk (update this)\n",
    "\n",
    "## Prerequisites\n",
    "\n",
    "Learners need to understand the concepts of files and directories\n",
    "(including the working directory) and how to start the Jupyter Notebook\n",
    "interpreter before tackling this lesson. This lesson references the Jupyter (IPython)\n",
    "Notebook although it can be taught through any Python interpreter.\n",
    "The commands in this lesson pertain to **Python 2**.\n",
    "\n",
    "## Getting started\n",
    "\n",
    "1. Launch **Jupyter Notebook**\n",
    "2. Wait for a web browser to open\n",
    "![jupyter home](fig/jupyter-notebook-start.png)"
   ]
  },
  {
   "cell_type": "markdown",
   "metadata": {
    "slideshow": {
     "slide_type": "slide"
    }
   },
   "source": [
    "## 01-Warmup: Python & Notebook"
   ]
  },
  {
   "cell_type": "markdown",
   "metadata": {},
   "source": [
    "These gray boxes are cells. Inside the cells I type code and click the play button to run that code. What's code? Code is telling the computer to do something. Here we're telling the comptuer to add 5 and 3"
   ]
  },
  {
   "cell_type": "code",
   "execution_count": 3,
   "metadata": {
    "collapsed": false
   },
   "outputs": [
    {
     "data": {
      "text/plain": [
       "8"
      ]
     },
     "execution_count": 3,
     "metadata": {},
     "output_type": "execute_result"
    }
   ],
   "source": [
    "5 + 3"
   ]
  },
  {
   "cell_type": "markdown",
   "metadata": {},
   "source": [
    "Here we're telling the computer to show (print) a message"
   ]
  },
  {
   "cell_type": "code",
   "execution_count": 4,
   "metadata": {
    "collapsed": false,
    "scrolled": true
   },
   "outputs": [
    {
     "name": "stdout",
     "output_type": "stream",
     "text": [
      "Hello, World\n"
     ]
    }
   ],
   "source": [
    "print 'Hello, World'"
   ]
  },
  {
   "cell_type": "markdown",
   "metadata": {},
   "source": [
    "We don't have to print the message directly, we can store it in a variable and then print the variable."
   ]
  },
  {
   "cell_type": "code",
   "execution_count": 5,
   "metadata": {
    "collapsed": false
   },
   "outputs": [
    {
     "name": "stdout",
     "output_type": "stream",
     "text": [
      "Aloha\n"
     ]
    }
   ],
   "source": [
    "greeting = 'Aloha'\n",
    "print greeting"
   ]
  },
  {
   "cell_type": "markdown",
   "metadata": {},
   "source": [
    "And we can print multiple things by inserting commas. So let's all greet our neighbor:"
   ]
  },
  {
   "cell_type": "code",
   "execution_count": 6,
   "metadata": {
    "collapsed": false
   },
   "outputs": [
    {
     "name": "stdout",
     "output_type": "stream",
     "text": [
      "Hello John\n"
     ]
    }
   ],
   "source": [
    "neighbor = 'John'\n",
    "print 'Hello', neighbor"
   ]
  },
  {
   "cell_type": "markdown",
   "metadata": {},
   "source": [
    "Remember, we can work with numbers too"
   ]
  },
  {
   "cell_type": "code",
   "execution_count": 7,
   "metadata": {
    "collapsed": false
   },
   "outputs": [
    {
     "name": "stdout",
     "output_type": "stream",
     "text": [
      "My daughter is 3 years old.\n",
      "Next year she will be 4\n"
     ]
    }
   ],
   "source": [
    "age = 3\n",
    "print 'My daughter is', age, 'years old.'\n",
    "age = age + 1\n",
    "print 'Next year she will be', age"
   ]
  },
  {
   "cell_type": "markdown",
   "metadata": {
    "collapsed": true
   },
   "source": [
    "## 02-Expressions, Statements, and Variables (oh my!)"
   ]
  },
  {
   "cell_type": "markdown",
   "metadata": {},
   "source": [
    "We jumped right in, greeting each other and printing out numbers. We'll get to analyzing DNA sequences in just a minute, but first let's understand the pieces we've been using.\n",
    "\n",
    "- An expression **represents** something - can be evaluated to a value: 3, 'hello', 5+3\n",
    "- A statement **does** something, usually with an expression: print 'hello', x = 8\n",
    "- Variables are **names** we give to expressions (which includes a value). name = 'Dan'\n",
    "\n",
    "via http://stackoverflow.com/a/4782649 and http://stackoverflow.com/a/4728147 (slightly simplified)\n",
    "\n",
    "The programs we write will be a series of statements, since they **do** things. Statements are made up of expressions, and we use variables to connect the statements together:\n",
    "\n",
    "    age = 3\n",
    "    print 'My daughter is', age, 'years old.'\n",
    "    age = age + 1\n",
    "    print 'Next year she will be', age\n",
    "\n",
    "Now, one feature of the notebook is that we can put an expression in one of these `In [ ]:` cells, run it, and the notebook will tell us what the value is:"
   ]
  },
  {
   "cell_type": "code",
   "execution_count": 8,
   "metadata": {
    "collapsed": false
   },
   "outputs": [
    {
     "data": {
      "text/plain": [
       "168"
      ]
     },
     "execution_count": 8,
     "metadata": {},
     "output_type": "execute_result"
    }
   ],
   "source": [
    "56 * 3"
   ]
  },
  {
   "cell_type": "code",
   "execution_count": 9,
   "metadata": {
    "collapsed": false
   },
   "outputs": [
    {
     "name": "stdout",
     "output_type": "stream",
     "text": [
      "168\n"
     ]
    }
   ],
   "source": [
    "print 56 * 3"
   ]
  },
  {
   "cell_type": "markdown",
   "metadata": {},
   "source": [
    "### Floats"
   ]
  },
  {
   "cell_type": "markdown",
   "metadata": {},
   "source": [
    "So far, we've seen two data types used in our expressions: string and integer. There are a few other data types:\n",
    "\n",
    "For numeric data, there's also `float` - for decimal numbers/fractions and `complex` for complex numbers."
   ]
  },
  {
   "cell_type": "code",
   "execution_count": 10,
   "metadata": {
    "collapsed": false
   },
   "outputs": [
    {
     "name": "stdout",
     "output_type": "stream",
     "text": [
      "110.0\n"
     ]
    }
   ],
   "source": [
    "weight_lb = 50.0\n",
    "weight_kg = weight_lb * 2.2\n",
    "print weight_kg"
   ]
  },
  {
   "cell_type": "markdown",
   "metadata": {},
   "source": [
    "In Python 2, be careful dividing integers. You'll always get an integer back!"
   ]
  },
  {
   "cell_type": "code",
   "execution_count": 11,
   "metadata": {
    "collapsed": false
   },
   "outputs": [
    {
     "data": {
      "text/plain": [
       "0"
      ]
     },
     "execution_count": 11,
     "metadata": {},
     "output_type": "execute_result"
    }
   ],
   "source": [
    "9/10"
   ]
  },
  {
   "cell_type": "markdown",
   "metadata": {},
   "source": [
    "### Strings"
   ]
  },
  {
   "cell_type": "markdown",
   "metadata": {},
   "source": [
    "We've used strings to hold small bits of text - words, sentences, etc. We'll use them all the time in Python, and usually with single quotes.\n",
    "\n",
    "Strings are one of Python's `sequence` types. The string `'abc'` is a sequence of the characters `a`, `b`, then `c`, in that order.\n",
    "\n",
    "There is a lot of functionality with any sequence. We can access individual elements by number:"
   ]
  },
  {
   "cell_type": "code",
   "execution_count": 12,
   "metadata": {
    "collapsed": false
   },
   "outputs": [
    {
     "name": "stdout",
     "output_type": "stream",
     "text": [
      "D\n",
      "a\n",
      "n\n",
      "l\n"
     ]
    }
   ],
   "source": [
    "name = 'Daniel'\n",
    "print name[0]\n",
    "print name[1]\n",
    "print name[2]\n",
    "print name[-1]"
   ]
  },
  {
   "cell_type": "markdown",
   "metadata": {},
   "source": [
    "Note that Python starts counting at 0. We can also **slice** sequences with a colon: "
   ]
  },
  {
   "cell_type": "code",
   "execution_count": 13,
   "metadata": {
    "collapsed": false
   },
   "outputs": [
    {
     "name": "stdout",
     "output_type": "stream",
     "text": [
      "Daniel\n",
      "iel\n"
     ]
    }
   ],
   "source": [
    "print name[0:6]\n",
    "print name[3:6]"
   ]
  },
  {
   "cell_type": "markdown",
   "metadata": {},
   "source": [
    "Or check if a letter exists in a string:\n"
   ]
  },
  {
   "cell_type": "code",
   "execution_count": 14,
   "metadata": {
    "collapsed": false
   },
   "outputs": [
    {
     "data": {
      "text/plain": [
       "True"
      ]
     },
     "execution_count": 14,
     "metadata": {},
     "output_type": "execute_result"
    }
   ],
   "source": [
    "'a' in name"
   ]
  },
  {
   "cell_type": "markdown",
   "metadata": {},
   "source": [
    "Sidenote: **True** is actually a new type of data called a boolean. We'll cover these later, but it's very helpful to do things like check membership or compare two numbers, and boolean values are used for that."
   ]
  },
  {
   "cell_type": "markdown",
   "metadata": {},
   "source": [
    "### Assigning Variables"
   ]
  },
  {
   "cell_type": "markdown",
   "metadata": {},
   "source": [
    "We will be using variables extensively to store data and call it back between different statements. Variables act like a sticky note. You write a name and label a piece of data with it. And anywhere we'd use a value directly (like printing or adding), we can instead use the variable name:\n"
   ]
  },
  {
   "cell_type": "code",
   "execution_count": 15,
   "metadata": {
    "collapsed": false
   },
   "outputs": [
    {
     "name": "stdout",
     "output_type": "stream",
     "text": [
      "6\n",
      "6\n"
     ]
    }
   ],
   "source": [
    "print 3 + 3\n",
    "sum = 3 + 3\n",
    "print sum"
   ]
  },
  {
   "cell_type": "markdown",
   "metadata": {},
   "source": [
    "The `=` means to assign the expression on the right to the variable on the left. Variable names (like sticky notes) can be reused, and it works like moving the sticky note:"
   ]
  },
  {
   "cell_type": "code",
   "execution_count": 16,
   "metadata": {
    "collapsed": false
   },
   "outputs": [
    {
     "name": "stdout",
     "output_type": "stream",
     "text": [
      "4\n"
     ]
    }
   ],
   "source": [
    "x = 6\n",
    "x = 4\n",
    "print x"
   ]
  },
  {
   "cell_type": "markdown",
   "metadata": {},
   "source": [
    "Just as I can put multiple sticky notes on the same object, I can have multiple variables referencing the same piece of data, and later move them around:"
   ]
  },
  {
   "cell_type": "code",
   "execution_count": 17,
   "metadata": {
    "collapsed": false
   },
   "outputs": [],
   "source": [
    "x = y = 7"
   ]
  },
  {
   "cell_type": "code",
   "execution_count": 18,
   "metadata": {
    "collapsed": false
   },
   "outputs": [
    {
     "name": "stdout",
     "output_type": "stream",
     "text": [
      "7 7\n"
     ]
    }
   ],
   "source": [
    "print x, y"
   ]
  },
  {
   "cell_type": "markdown",
   "metadata": {},
   "source": [
    "Let's change `x` to a different value, `5`. What happens to `y`"
   ]
  },
  {
   "cell_type": "code",
   "execution_count": 19,
   "metadata": {
    "collapsed": false
   },
   "outputs": [
    {
     "name": "stdout",
     "output_type": "stream",
     "text": [
      "5 7\n"
     ]
    }
   ],
   "source": [
    "x = 5\n",
    "print x,y "
   ]
  },
  {
   "cell_type": "code",
   "execution_count": 20,
   "metadata": {
    "collapsed": false
   },
   "outputs": [
    {
     "name": "stdout",
     "output_type": "stream",
     "text": [
      "0 4\n"
     ]
    }
   ],
   "source": [
    "a = 3\n",
    "b = a + 1\n",
    "a = 0\n",
    "print a, b"
   ]
  },
  {
   "cell_type": "markdown",
   "metadata": {},
   "source": [
    "`b` doesn't **remember** where it came from. When the statement `b = a + 1` runs, it **evaluates** the expression `a + 1`, gets `4`, and **assigns** that to `b`. This doesn't work like a spreadsheet. In a spreadsheet, computations can reference other cells, and changing one automatically re-computes the others"
   ]
  },
  {
   "cell_type": "markdown",
   "metadata": {},
   "source": [
    "### Working with a DNA Sequence"
   ]
  },
  {
   "cell_type": "markdown",
   "metadata": {},
   "source": [
    "Let's start working with genomic data. Here's a DNA sequence we can all copy/paste from the web site. This is a string, and we are going to store it in a variable called `seq10`:"
   ]
  },
  {
   "cell_type": "code",
   "execution_count": 21,
   "metadata": {
    "collapsed": true
   },
   "outputs": [],
   "source": [
    "seq10 = 'ACCTGCATGC'"
   ]
  },
  {
   "cell_type": "markdown",
   "metadata": {},
   "source": [
    "So, we can get the 4th base by indexing into the string at position 3. Remember, Python starts counting at 0!"
   ]
  },
  {
   "cell_type": "code",
   "execution_count": 22,
   "metadata": {
    "collapsed": false
   },
   "outputs": [
    {
     "name": "stdout",
     "output_type": "stream",
     "text": [
      "T\n"
     ]
    }
   ],
   "source": [
    "b4 = seq10[3]\n",
    "print b4\n"
   ]
  },
  {
   "cell_type": "markdown",
   "metadata": {},
   "source": [
    "We can combine two strings to make a new string using the plus sign. And the order matters - so we can add to the beginning or the end here:"
   ]
  },
  {
   "cell_type": "code",
   "execution_count": 23,
   "metadata": {
    "collapsed": true
   },
   "outputs": [],
   "source": [
    "seq12 = 'CC' + seq10"
   ]
  },
  {
   "cell_type": "code",
   "execution_count": 24,
   "metadata": {
    "collapsed": false
   },
   "outputs": [
    {
     "name": "stdout",
     "output_type": "stream",
     "text": [
      "CCACCTGCATGC\n"
     ]
    }
   ],
   "source": [
    "print seq12"
   ]
  },
  {
   "cell_type": "code",
   "execution_count": 25,
   "metadata": {
    "collapsed": false
   },
   "outputs": [],
   "source": [
    "seq14 = seq12 + 'TT'"
   ]
  },
  {
   "cell_type": "code",
   "execution_count": 26,
   "metadata": {
    "collapsed": false
   },
   "outputs": [
    {
     "name": "stdout",
     "output_type": "stream",
     "text": [
      "CCACCTGCATGCTT\n"
     ]
    }
   ],
   "source": [
    "print seq14"
   ]
  },
  {
   "cell_type": "markdown",
   "metadata": {},
   "source": [
    "Again, `seq10` is unchanged because we didn't assign anything back to it. When you have a string in Python, there is no way to change it. We'll see some other data types later on that you can change the contents of, or mutate, but with strings, if you want to change them, you need to need to build new strings - even if you put them back in the same variable."
   ]
  },
  {
   "cell_type": "code",
   "execution_count": 27,
   "metadata": {
    "collapsed": false
   },
   "outputs": [
    {
     "name": "stdout",
     "output_type": "stream",
     "text": [
      "ACCTGCATGC\n"
     ]
    }
   ],
   "source": [
    "print seq10"
   ]
  },
  {
   "cell_type": "markdown",
   "metadata": {},
   "source": [
    "Now, we'd like to perform an operation on the sequence: **reverse complement**. It's a useful process when working with sequences, and it's a great example of a problem you can write down and explain, but may not immediately know how to program.\n",
    "\n",
    "With any programming endeavor, we'll start by breaking the problem down into parts and then combining them. So to reverse-complemment a sequence, first we'll learn how to reverse it."
   ]
  },
  {
   "cell_type": "markdown",
   "metadata": {},
   "source": [
    "### Reversing - loops"
   ]
  },
  {
   "cell_type": "markdown",
   "metadata": {},
   "source": [
    "Let's quickly take stock of what we know. \n",
    "\n",
    "1. Our DNA sequence is represented as a string, and has a variable name\n",
    "2. Strings are sequences of characters, each character at a numbered position (starting from 0)\n",
    "3. We can access characters with the `[ ]` square brackets and the position number\n",
    "4. We can combine characters back into strings with the `+` (plus sign)\n",
    "\n",
    "So, we can pull out characters in any order we want, and combine them into a new sequence by adding them together:"
   ]
  },
  {
   "cell_type": "code",
   "execution_count": 28,
   "metadata": {
    "collapsed": false
   },
   "outputs": [
    {
     "name": "stdout",
     "output_type": "stream",
     "text": [
      "CGTACGTCCA\n"
     ]
    }
   ],
   "source": [
    "rev10 = seq10[9] + seq10[8] + seq10[7] + seq10[6] + seq10[5] + seq10[4] + seq10[3] + seq10[2] + seq10[1] + seq10[0]\n",
    "print rev10"
   ]
  },
  {
   "cell_type": "markdown",
   "metadata": {},
   "source": [
    "but that's a bad approach for two reasons:\n",
    "\n",
    "1.  It doesn't scale:\n",
    "    if we want to print the characters in a string that's hundreds of letters long,\n",
    "    we'd be better off just typing them in.\n",
    "\n",
    "1.  It's fragile:\n",
    "    if we give it a longer sequence,\n",
    "    it only reverses part of the data,\n",
    "    and if we give it a shorter one,\n",
    "    it produces an error because we're asking for characters that don't exist."
   ]
  },
  {
   "cell_type": "markdown",
   "metadata": {},
   "source": [
    "A better way to do this is with a loop. Loops work on sequences like strings, and let you do something with each element, no matter how long the sequence is. Let's start with a basic loop:"
   ]
  },
  {
   "cell_type": "code",
   "execution_count": 29,
   "metadata": {
    "collapsed": false
   },
   "outputs": [
    {
     "name": "stdout",
     "output_type": "stream",
     "text": [
      "A\n",
      "C\n",
      "C\n",
      "T\n",
      "G\n",
      "C\n",
      "A\n",
      "T\n",
      "G\n",
      "C\n"
     ]
    }
   ],
   "source": [
    "for s in seq10:\n",
    "    print s"
   ]
  },
  {
   "cell_type": "markdown",
   "metadata": {},
   "source": [
    "A few things happened here. \n",
    "\n",
    "1. First, we introduced a couple new keywords `for` and `in`. This constructs the loop and says we want to work on each element in `seq20`. This line must end with a **colon**.\n",
    "2. Second, we created a new variable `s`. This is called a **loop variable** that because it changes at each iteration of the loop.\n",
    "3. Third, we indented the code that we want to repeat. In some languages you use special words or characters to start or end loops. In Python, the body of the loop is defined by the lines that are indented after the colon."
   ]
  },
  {
   "cell_type": "code",
   "execution_count": 30,
   "metadata": {
    "collapsed": false
   },
   "outputs": [
    {
     "name": "stdout",
     "output_type": "stream",
     "text": [
      "Before\n",
      "s is A\n",
      "s is C\n",
      "s is C\n",
      "s is T\n",
      "s is G\n",
      "s is C\n",
      "s is A\n",
      "s is T\n",
      "s is G\n",
      "s is C\n",
      "After\n"
     ]
    }
   ],
   "source": [
    "print 'Before'\n",
    "for s in seq10:\n",
    "    print 's is', s\n",
    "print 'After'\n"
   ]
  },
  {
   "cell_type": "markdown",
   "metadata": {},
   "source": [
    "We can do other things in the body - they don't have to relate to the loop variable. For example, if we want to count how long the sequence is, we can use a variable that we add one to every time:"
   ]
  },
  {
   "cell_type": "code",
   "execution_count": 31,
   "metadata": {
    "collapsed": false
   },
   "outputs": [
    {
     "name": "stdout",
     "output_type": "stream",
     "text": [
      "10\n"
     ]
    }
   ],
   "source": [
    "count = 0\n",
    "for s in seq10:\n",
    "    count = count + 1\n",
    "print count"
   ]
  },
  {
   "cell_type": "markdown",
   "metadata": {},
   "source": [
    "Now, I think we're ready to reverse the sequence. Let's make this a hands-on exercise to write some code that reverses the sequence in `seq10` and puts it in a variable called `rev10`. Remember, you can add strings together and the order is important!"
   ]
  },
  {
   "cell_type": "code",
   "execution_count": 32,
   "metadata": {
    "collapsed": false
   },
   "outputs": [
    {
     "name": "stdout",
     "output_type": "stream",
     "text": [
      "A\n",
      "C\n",
      "C\n",
      "T\n",
      "G\n",
      "C\n",
      "A\n",
      "T\n",
      "G\n",
      "C\n"
     ]
    }
   ],
   "source": [
    "rev10 = ''\n",
    "for s in seq10:\n",
    "    print s\n"
   ]
  },
  {
   "cell_type": "markdown",
   "metadata": {},
   "source": [
    "Discussion and other solutions"
   ]
  },
  {
   "cell_type": "markdown",
   "metadata": {},
   "source": [
    "### Dictionaries - lookups"
   ]
  },
  {
   "cell_type": "markdown",
   "metadata": {},
   "source": [
    "Now that we've got reverse figured out, we can tackle complementing. To do that, we need to look up the complementary base for base, and build a new sequence:\n",
    "\n",
    "    A -> T\n",
    "    C -> G\n",
    "    G -> C\n",
    "    T -> A\n",
    "\n",
    "Python has a data type called a dictionary that's great for looking things up. It works like a dictionary - you have a key (e.g. the word you're looking up) and a value (e.g. the definition). Each key can only be in the dictionary once, but the values may be repeated."
   ]
  },
  {
   "cell_type": "markdown",
   "metadata": {},
   "source": [
    "Dictionaries are created with the curly `{}` braces, and accessed with the square `[]` brackets. Let's make a simple dictionary:"
   ]
  },
  {
   "cell_type": "code",
   "execution_count": 33,
   "metadata": {
    "collapsed": false
   },
   "outputs": [
    {
     "name": "stdout",
     "output_type": "stream",
     "text": [
      "{'apples': 5, 'oranges': 4, 'bananas': 8}\n"
     ]
    }
   ],
   "source": [
    "fruits = {'apples': 5, 'bananas': 8, 'oranges': 4}\n",
    "print fruits"
   ]
  },
  {
   "cell_type": "markdown",
   "metadata": {},
   "source": [
    "Like a string, we access elements in the dictionary with square brackets `[]`. Inside the brackets, we put the **key**, and the elements are the values"
   ]
  },
  {
   "cell_type": "code",
   "execution_count": 34,
   "metadata": {
    "collapsed": false
   },
   "outputs": [
    {
     "name": "stdout",
     "output_type": "stream",
     "text": [
      "I have 5 juicy red apples and 8 yummy yellow bananas\n"
     ]
    }
   ],
   "source": [
    "print 'I have', fruits['apples'], 'juicy red apples and', fruits['bananas'], 'yummy yellow bananas'"
   ]
  },
  {
   "cell_type": "markdown",
   "metadata": {},
   "source": [
    "But unlike a string, dictionaries are **mutable**. This means we can change their contents. Let's correct the number of apples to 3:"
   ]
  },
  {
   "cell_type": "code",
   "execution_count": 35,
   "metadata": {
    "collapsed": false
   },
   "outputs": [
    {
     "name": "stdout",
     "output_type": "stream",
     "text": [
      "I need more apples, I only have 3\n"
     ]
    }
   ],
   "source": [
    "fruits['apples'] = 3\n",
    "print 'I need more apples, I only have', fruits['apples'], "
   ]
  },
  {
   "cell_type": "markdown",
   "metadata": {},
   "source": [
    "For this key, we can use a variable. So let's say we can't agree on a favorite fruit but want to use the same code."
   ]
  },
  {
   "cell_type": "code",
   "execution_count": 36,
   "metadata": {
    "collapsed": false
   },
   "outputs": [
    {
     "name": "stdout",
     "output_type": "stream",
     "text": [
      "Time to eat bananas\n",
      "Now I have 6 bananas\n"
     ]
    }
   ],
   "source": [
    "favorite = 'bananas'\n",
    "print 'Time to eat', favorite\n",
    "fruits[favorite] = fruits[favorite] - 2\n",
    "print 'Now I have', fruits[favorite], favorite"
   ]
  },
  {
   "cell_type": "markdown",
   "metadata": {},
   "source": [
    "And we can loop over things in a dictionary. It's a lot like looping on a string:"
   ]
  },
  {
   "cell_type": "code",
   "execution_count": 37,
   "metadata": {
    "collapsed": false
   },
   "outputs": [
    {
     "name": "stdout",
     "output_type": "stream",
     "text": [
      "apples 3\n",
      "oranges 4\n",
      "bananas 6\n"
     ]
    }
   ],
   "source": [
    "for fruit in fruits:\n",
    "    print fruit, fruits[fruit]"
   ]
  },
  {
   "cell_type": "markdown",
   "metadata": {},
   "source": [
    "But there are two differences. First, the loop variable is just the key. To get the value we need to use the dictionary and the key. Second, dictionaries are not ordered. Before we get back to our DNA sequence, let's take a minute to total up how many pieces of fruit we have, by looping over the dictionary"
   ]
  },
  {
   "cell_type": "code",
   "execution_count": 38,
   "metadata": {
    "collapsed": false
   },
   "outputs": [
    {
     "name": "stdout",
     "output_type": "stream",
     "text": [
      "13\n"
     ]
    }
   ],
   "source": [
    "count = 0\n",
    "for fruit in fruits:\n",
    "    count = count + fruits[fruit]\n",
    "print count"
   ]
  },
  {
   "cell_type": "markdown",
   "metadata": {},
   "source": [
    "Dictionaries are great because they're flexible, so we can use them to look up anything like complementary bases. So let's start by creating a dictionary with the complements for A and T."
   ]
  },
  {
   "cell_type": "code",
   "execution_count": 39,
   "metadata": {
    "collapsed": true
   },
   "outputs": [],
   "source": [
    "complements = {'A':'T', 'T':'A'}"
   ]
  },
  {
   "cell_type": "markdown",
   "metadata": {},
   "source": [
    "So if I want to read the complement of `A`, I write `complements['A']`:"
   ]
  },
  {
   "cell_type": "code",
   "execution_count": 40,
   "metadata": {
    "collapsed": false
   },
   "outputs": [
    {
     "name": "stdout",
     "output_type": "stream",
     "text": [
      "T\n"
     ]
    }
   ],
   "source": [
    "print complements['A']"
   ]
  },
  {
   "cell_type": "markdown",
   "metadata": {},
   "source": [
    "We just have A and T here. With dictionaries, we can add more items or even change existing ones:"
   ]
  },
  {
   "cell_type": "code",
   "execution_count": 41,
   "metadata": {
    "collapsed": true
   },
   "outputs": [],
   "source": [
    "complements['C'] = 'G'\n",
    "complements['G'] = 'C'"
   ]
  },
  {
   "cell_type": "code",
   "execution_count": 42,
   "metadata": {
    "collapsed": false
   },
   "outputs": [
    {
     "name": "stdout",
     "output_type": "stream",
     "text": [
      "{'A': 'T', 'C': 'G', 'T': 'A', 'G': 'C'}\n"
     ]
    }
   ],
   "source": [
    "print complements"
   ]
  },
  {
   "cell_type": "markdown",
   "metadata": {},
   "source": [
    "Now, I can complement my sequence from before by looking up the complement inside a loop"
   ]
  },
  {
   "cell_type": "code",
   "execution_count": 43,
   "metadata": {
    "collapsed": false
   },
   "outputs": [
    {
     "name": "stdout",
     "output_type": "stream",
     "text": [
      "ACCTGCATGC TGGACGTACG GCATGCAGGT\n"
     ]
    }
   ],
   "source": [
    "comp10 = ''\n",
    "for s in seq10:\n",
    "    c = complements[s]\n",
    "    comp10 = comp10 + c\n",
    "revcomp10 = ''\n",
    "for c in comp10:\n",
    "    revcomp10 = c + revcomp10\n",
    "print seq10, comp10, revcomp10"
   ]
  },
  {
   "cell_type": "markdown",
   "metadata": {},
   "source": [
    "As an exercise, let's do this in one single loop instead of two separate ones."
   ]
  },
  {
   "cell_type": "markdown",
   "metadata": {},
   "source": [
    "### Lists\n",
    "\n",
    "We've looked at strings and dictionaries as collection types. There's another one that's really useful, and it's called a list. It's an ordered collection of elements. Lists use the `[]` square brackets, and elments are separated by commas.\n",
    "\n",
    "Here's one that contains our 3 sequences.:"
   ]
  },
  {
   "cell_type": "code",
   "execution_count": 71,
   "metadata": {
    "collapsed": false
   },
   "outputs": [
    {
     "name": "stdout",
     "output_type": "stream",
     "text": [
      "ACCTGCATGC\n",
      "TGGACGTACG\n",
      "GCATGCAGGT\n"
     ]
    }
   ],
   "source": [
    "sequences = [seq10, comp10, revcomp10]\n",
    "for seq in sequences:\n",
    "    print seq"
   ]
  },
  {
   "cell_type": "markdown",
   "metadata": {},
   "source": [
    "Lists, unlike strings, are mutable. So I can add or remove to a list, reorder it, or swap items out."
   ]
  },
  {
   "cell_type": "code",
   "execution_count": 72,
   "metadata": {
    "collapsed": true
   },
   "outputs": [],
   "source": [
    "sequences[0] = 'AAAAAGGGGG'"
   ]
  },
  {
   "cell_type": "code",
   "execution_count": 73,
   "metadata": {
    "collapsed": false
   },
   "outputs": [
    {
     "name": "stdout",
     "output_type": "stream",
     "text": [
      "['AAAAAGGGGG', 'TGGACGTACG', 'GCATGCAGGT']\n"
     ]
    }
   ],
   "source": [
    "print sequences"
   ]
  },
  {
   "cell_type": "markdown",
   "metadata": {},
   "source": [
    "Both dictionaries and lists let you delete things with the `del` keyword - again because they're mutable."
   ]
  },
  {
   "cell_type": "code",
   "execution_count": 74,
   "metadata": {
    "collapsed": false
   },
   "outputs": [
    {
     "name": "stdout",
     "output_type": "stream",
     "text": [
      "['AAAAAGGGGG', 'TGGACGTACG']\n"
     ]
    }
   ],
   "source": [
    "del sequences[2]\n",
    "print sequences"
   ]
  },
  {
   "cell_type": "markdown",
   "metadata": {},
   "source": [
    "### Tuples\n",
    "\n",
    "Like a list, but immutable"
   ]
  },
  {
   "cell_type": "code",
   "execution_count": 47,
   "metadata": {
    "collapsed": false
   },
   "outputs": [
    {
     "name": "stdout",
     "output_type": "stream",
     "text": [
      "RNA\n"
     ]
    }
   ],
   "source": [
    "sequence_types = ('RNA','DNA')\n",
    "print sequence_types[0]"
   ]
  },
  {
   "cell_type": "code",
   "execution_count": 48,
   "metadata": {
    "collapsed": false
   },
   "outputs": [
    {
     "ename": "TypeError",
     "evalue": "'tuple' object does not support item assignment",
     "output_type": "error",
     "traceback": [
      "\u001b[0;31m---------------------------------------------------------------------------\u001b[0m",
      "\u001b[0;31mTypeError\u001b[0m                                 Traceback (most recent call last)",
      "\u001b[0;32m<ipython-input-48-fcf55ed9dede>\u001b[0m in \u001b[0;36m<module>\u001b[0;34m()\u001b[0m\n\u001b[0;32m----> 1\u001b[0;31m \u001b[0msequence_types\u001b[0m\u001b[0;34m[\u001b[0m\u001b[0;36m1\u001b[0m\u001b[0;34m]\u001b[0m \u001b[0;34m=\u001b[0m \u001b[0;34m'dna'\u001b[0m\u001b[0;34m\u001b[0m\u001b[0m\n\u001b[0m",
      "\u001b[0;31mTypeError\u001b[0m: 'tuple' object does not support item assignment"
     ]
    }
   ],
   "source": [
    "sequence_types[1] = 'dna'"
   ]
  },
  {
   "cell_type": "markdown",
   "metadata": {},
   "source": [
    "### Data Types Review\n",
    "\n",
    "Numeric:\n",
    "- Integer: 1, 76, 400\n",
    "- Float: -1.2, 0.5, 3.1415926\n",
    "- Boolean: True, False\n",
    "\n",
    "Text:\n",
    "- Strings: 'ACTGACAG'\n",
    "\n",
    "Collections:\n",
    "- Dictionaries: {'apples': 3, 'bananas': 4} **mutable**\n",
    "- Lists: [1, 3, 5, 7] **mutable**\n",
    "- Tuples: ('RNA','DNA')\n",
    "\n",
    "Text and collections can be used in loops!"
   ]
  },
  {
   "cell_type": "markdown",
   "metadata": {},
   "source": [
    "### Making choices / Conditionals\n",
    "\n",
    "We can ask Python to take different actions, depending on a condition, with an if statement:"
   ]
  },
  {
   "cell_type": "code",
   "execution_count": 58,
   "metadata": {
    "collapsed": false
   },
   "outputs": [
    {
     "name": "stdout",
     "output_type": "stream",
     "text": [
      "Found a GC\n",
      "done\n"
     ]
    }
   ],
   "source": [
    "if 'GC' in seq10:\n",
    "    print 'Found a GC'\n",
    "else:\n",
    "    print 'Did not find a GC'\n",
    "print 'done'"
   ]
  },
  {
   "cell_type": "markdown",
   "metadata": {},
   "source": [
    "The second line of this code uses the keyword `if` to tell Python that we want to make a choice.\n",
    "If the test that follows the `if` statement is true,\n",
    "the body of the `if`\n",
    "(i.e., the lines indented underneath it) are executed.\n",
    "If the test is false,\n",
    "the body of the `else` is executed instead.\n",
    "Only one or the other is ever executed\n",
    "\n",
    "Conditional statements don't have to include an `else`.\n",
    "If there isn't one, Python simply does nothing if the test is false:"
   ]
  },
  {
   "cell_type": "markdown",
   "metadata": {},
   "source": [
    "We can have multiple conditions we check too, and to demonstrate that, I want to calculate the **GC-content percentage** of the sequence.\n",
    "\n",
    "(G + C) / (A + T + G + C)\n",
    "        "
   ]
  },
  {
   "cell_type": "markdown",
   "metadata": {},
   "source": [
    "So to approach this, we're going to loop over the sequence and total up the G's and C's. We also need to total up The A's and T's\n",
    "\n",
    "The general algorithm here will be\n",
    "\n",
    "- Loop over each item in the sequence\n",
    "    - If it's a `G` or a `C`, increment our GC counter\n",
    "    - For all items, increment our ATGC counter\n",
    "    \n",
    "We know how to write a loop, and we know how to write a counter and incrment it. And we just saw `if`, but we haven't used it in our loop, so let's write that"
   ]
  },
  {
   "cell_type": "code",
   "execution_count": 59,
   "metadata": {
    "collapsed": false
   },
   "outputs": [
    {
     "name": "stdout",
     "output_type": "stream",
     "text": [
      "GC-content percentage: 60 %\n"
     ]
    }
   ],
   "source": [
    "count_GC = 0\n",
    "count_ATGC = 0\n",
    "for s in seq10:\n",
    "    if s == 'G':\n",
    "        count_GC = count_GC + 1\n",
    "    if s == 'C':\n",
    "        count_GC = count_GC + 1\n",
    "    count_ATGC = count_ATGC + 1\n",
    "percent_GC = (count_GC * 100) / count_ATGC\n",
    "print 'GC-content percentage:', percent_GC, '%'"
   ]
  },
  {
   "cell_type": "markdown",
   "metadata": {},
   "source": [
    "Now that works, but we've got some repetition there. In both cases (`G` and `C`), we're running the same code. One of Python's philosophies is _Don't Repeat Yourself_, and it's generally a good idea.\n",
    "\n",
    "So, when we want to check if one condition is true **or** another, we the keyword **or** in between the two tests."
   ]
  },
  {
   "cell_type": "code",
   "execution_count": 60,
   "metadata": {
    "collapsed": false
   },
   "outputs": [
    {
     "name": "stdout",
     "output_type": "stream",
     "text": [
      "GC-content percentage: 60 %\n"
     ]
    }
   ],
   "source": [
    "count_GC = 0\n",
    "count_ATGC = 0\n",
    "for s in seq10:\n",
    "    if s == 'G' or s == 'C':\n",
    "        count_GC = count_GC + 1\n",
    "    count_ATGC = count_ATGC + 1\n",
    "percent_GC = (count_GC * 100) / count_ATGC\n",
    "print 'GC-content percentage:', percent_GC, '%'"
   ]
  },
  {
   "cell_type": "markdown",
   "metadata": {},
   "source": [
    "Now, another common case for conditionals is testing if numbers are above or below certain thresholds. Let's say we want to identify GC content percentages of greater than 60 as **high** and below 30 as **low**. These conditions are exclusive - meaning only one can be true, so we can write our if statement like this:"
   ]
  },
  {
   "cell_type": "code",
   "execution_count": 61,
   "metadata": {
    "collapsed": false
   },
   "outputs": [
    {
     "name": "stdout",
     "output_type": "stream",
     "text": [
      "Normal GC-content\n"
     ]
    }
   ],
   "source": [
    "if percent_GC > 60:\n",
    "    print 'High GC-content'\n",
    "elif percent_GC < 30:\n",
    "    print 'Low GC-content'\n",
    "else:\n",
    "    print 'Normal GC-content'"
   ]
  },
  {
   "cell_type": "markdown",
   "metadata": {},
   "source": [
    "## Break here"
   ]
  },
  {
   "cell_type": "markdown",
   "metadata": {},
   "source": [
    "# Leaving off here September 29, 2016"
   ]
  },
  {
   "cell_type": "markdown",
   "metadata": {},
   "source": [
    "### Functions"
   ]
  },
  {
   "cell_type": "markdown",
   "metadata": {},
   "source": [
    "We've said that these sequence types have a lot of common functionality - We can access individual elements, slice them, or loop over them. But there's a lot more things we can do with **functions**. There's about 75 functions that are built-in and just ready to use. They can do things like tell you the size of a collection, convert between data types, reverse collections, and open files.\n",
    "\n",
    "You can spot them by a name followed by parenthesis. Here's one now:"
   ]
  },
  {
   "cell_type": "markdown",
   "metadata": {},
   "source": [
    "We can use the `len` function to get the size of any collection:"
   ]
  },
  {
   "cell_type": "code",
   "execution_count": null,
   "metadata": {
    "collapsed": false
   },
   "outputs": [],
   "source": [
    "print len(seq10), len(complements), len(sequence_types)"
   ]
  },
  {
   "cell_type": "markdown",
   "metadata": {},
   "source": [
    "We can get the absolute value of a number:"
   ]
  },
  {
   "cell_type": "code",
   "execution_count": null,
   "metadata": {
    "collapsed": false
   },
   "outputs": [],
   "source": [
    "print abs(2j)"
   ]
  },
  {
   "cell_type": "markdown",
   "metadata": {},
   "source": [
    "Or get the largest item of a list"
   ]
  },
  {
   "cell_type": "code",
   "execution_count": null,
   "metadata": {
    "collapsed": false
   },
   "outputs": [],
   "source": [
    "x = [7,3,2,8,4]\n",
    "max(x)"
   ]
  },
  {
   "cell_type": "markdown",
   "metadata": {},
   "source": [
    "Or convert a string to a number"
   ]
  },
  {
   "cell_type": "code",
   "execution_count": null,
   "metadata": {
    "collapsed": false
   },
   "outputs": [],
   "source": [
    "print float('3.14')"
   ]
  },
  {
   "cell_type": "markdown",
   "metadata": {},
   "source": [
    "Functions open up a huge number of possibilities, but also can be overwhelming. It's a good opportunity to mention the online help, both inside the notebook or outside.\n",
    "\n",
    "https://docs.python.org/2/library/functions.html"
   ]
  },
  {
   "cell_type": "markdown",
   "metadata": {},
   "source": [
    "Many data types have their own specialty functions too. Strings are very common to get as input data, but we often need to convert them to something else like a list. There's a `split` function that does just this."
   ]
  },
  {
   "cell_type": "code",
   "execution_count": null,
   "metadata": {
    "collapsed": false
   },
   "outputs": [],
   "source": [
    "fruits = 'apples oranges bananas'\n",
    "print str.split(fruits)"
   ]
  },
  {
   "cell_type": "markdown",
   "metadata": {},
   "source": [
    "It's **part of** the string data type, so when we want to use the function, we start with `str`. I mentoned there were 75 built-in functions, but there are thousands more that are **part of** various data types and libraries. Anytime we see the dot in python, that means we're getting more specific.\n",
    "\n",
    "The `split` function, since it's part of `str` (a type), is called a method. The most common way to use it like this:"
   ]
  },
  {
   "cell_type": "code",
   "execution_count": null,
   "metadata": {
    "collapsed": false
   },
   "outputs": [],
   "source": [
    "fruit_list = fruits.split()\n",
    "print fruit_list"
   ]
  },
  {
   "cell_type": "code",
   "execution_count": null,
   "metadata": {
    "collapsed": false
   },
   "outputs": [],
   "source": [
    "fruit_list.sort()\n",
    "print fruit_list"
   ]
  },
  {
   "cell_type": "code",
   "execution_count": null,
   "metadata": {
    "collapsed": false
   },
   "outputs": [],
   "source": [
    "sorted_fruits = str.join(' ', fruit_list)\n",
    "print sorted_fruits"
   ]
  },
  {
   "cell_type": "markdown",
   "metadata": {},
   "source": [
    "Exercise: Total up the decimal numbers in the string `'1 1 2 3 5 8 13'`"
   ]
  },
  {
   "cell_type": "code",
   "execution_count": null,
   "metadata": {
    "collapsed": false
   },
   "outputs": [],
   "source": [
    "numbers = '1 1 2 3 5 8 13'\n",
    "total = 0\n",
    "for n in numbers.split():\n",
    "    total = total + int(n)\n",
    "print total"
   ]
  }
 ],
 "metadata": {
  "anaconda-cloud": {},
  "kernelspec": {
   "display_name": "Python 2",
   "language": "python",
   "name": "python2"
  },
  "language_info": {
   "codemirror_mode": {
    "name": "ipython",
    "version": 2
   },
   "file_extension": ".py",
   "mimetype": "text/x-python",
   "name": "python",
   "nbconvert_exporter": "python",
   "pygments_lexer": "ipython2",
   "version": "2.7.10"
  }
 },
 "nbformat": 4,
 "nbformat_minor": 0
}
