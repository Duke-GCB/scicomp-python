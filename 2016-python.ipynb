{
 "cells": [
  {
   "cell_type": "markdown",
   "metadata": {
    "slideshow": {
     "slide_type": "slide"
    }
   },
   "source": [
    "# Programming with Python\n",
    "\n",
    "Derived from [Novice Python lesson using Python 2.7 - Copyright © Software Carpentry](https://github.com/swcarpentry/python-novice-inflammation-2.7) "
   ]
  },
  {
   "cell_type": "markdown",
   "metadata": {},
   "source": [
    "- Launch Jupyter Notebook\n",
    "- Navigate to the directory with your bash files\n",
    "- Click New->Notebook->Python [conda root]\n"
   ]
  },
  {
   "cell_type": "markdown",
   "metadata": {
    "slideshow": {
     "slide_type": "slide"
    }
   },
   "source": [
    "## Python & Notebook"
   ]
  },
  {
   "cell_type": "markdown",
   "metadata": {},
   "source": [
    "- Explain the notebook. Environment for using python that's great for teaching and exploring\n",
    "- Rename our untitled notebook and save it\n",
    "- Explore cells"
   ]
  },
  {
   "cell_type": "markdown",
   "metadata": {},
   "source": [
    "The gray boxes are cells\n",
    "We write programs in the cells, and programs are just telling the computer to do something\n",
    "So let's tell the computer to add 5 and 3\n",
    "We start with the thing we want the computer to do (print), then "
   ]
  },
  {
   "cell_type": "code",
   "execution_count": 1,
   "metadata": {
    "collapsed": false
   },
   "outputs": [
    {
     "name": "stdout",
     "output_type": "stream",
     "text": [
      "8\n"
     ]
    }
   ],
   "source": [
    "print 5 + 3"
   ]
  },
  {
   "cell_type": "markdown",
   "metadata": {},
   "source": [
    "Numbers are great, but we often need more than a calculator. Since we're programmers now, let's write a hello world program."
   ]
  },
  {
   "cell_type": "code",
   "execution_count": 10,
   "metadata": {
    "collapsed": false
   },
   "outputs": [
    {
     "ename": "SyntaxError",
     "evalue": "invalid syntax (<ipython-input-10-b9f0e0801bac>, line 1)",
     "output_type": "error",
     "traceback": [
      "\u001b[0;36m  File \u001b[0;32m\"<ipython-input-10-b9f0e0801bac>\"\u001b[0;36m, line \u001b[0;32m1\u001b[0m\n\u001b[0;31m    print Hello world\u001b[0m\n\u001b[0m                    ^\u001b[0m\n\u001b[0;31mSyntaxError\u001b[0m\u001b[0;31m:\u001b[0m invalid syntax\n"
     ]
    }
   ],
   "source": [
    "print Hello world"
   ]
  },
  {
   "cell_type": "markdown",
   "metadata": {},
   "source": [
    "OK so python didn't like that, but there's a lot to learn here\n",
    "\n",
    "- It's easy to make mistakes, don't be discouraged\n",
    "- Errors can be really helpful.\n",
    "- Numbers are just numbers, but text needs quotes.\n",
    "- we can go back, edit cells, and run them again!"
   ]
  },
  {
   "cell_type": "code",
   "execution_count": 3,
   "metadata": {
    "collapsed": false,
    "scrolled": true
   },
   "outputs": [
    {
     "name": "stdout",
     "output_type": "stream",
     "text": [
      "Hello, World\n"
     ]
    }
   ],
   "source": [
    "print 'Hello, World'"
   ]
  },
  {
   "cell_type": "markdown",
   "metadata": {},
   "source": [
    "This value here is what we call a \"string\". A string is a sequence of characters that make up words or phrases. Values like strings and integers can be stored in variables. "
   ]
  },
  {
   "cell_type": "markdown",
   "metadata": {},
   "source": [
    "We don't have to print the message directly, we can store it in a variable and then print the variable."
   ]
  },
  {
   "cell_type": "code",
   "execution_count": 4,
   "metadata": {
    "collapsed": false
   },
   "outputs": [
    {
     "name": "stdout",
     "output_type": "stream",
     "text": [
      "Aloha\n"
     ]
    }
   ],
   "source": [
    "greeting = 'Aloha'\n",
    "print greeting"
   ]
  },
  {
   "cell_type": "markdown",
   "metadata": {},
   "source": [
    "And we can print multiple things by inserting commas. So let's all greet our neighbor:"
   ]
  },
  {
   "cell_type": "code",
   "execution_count": 5,
   "metadata": {
    "collapsed": false
   },
   "outputs": [
    {
     "name": "stdout",
     "output_type": "stream",
     "text": [
      "Hello John\n"
     ]
    }
   ],
   "source": [
    "neighbor = 'John'\n",
    "print 'Hello', neighbor"
   ]
  },
  {
   "cell_type": "markdown",
   "metadata": {},
   "source": [
    "Remember, we can work with numbers too"
   ]
  },
  {
   "cell_type": "code",
   "execution_count": 6,
   "metadata": {
    "collapsed": false
   },
   "outputs": [
    {
     "name": "stdout",
     "output_type": "stream",
     "text": [
      "My daughter is 3 years old.\n",
      "Next year she will be 4\n"
     ]
    }
   ],
   "source": [
    "age = 3\n",
    "print 'My daughter is', age, 'years old.'\n",
    "print 'Next year she will be', age + 1"
   ]
  },
  {
   "cell_type": "markdown",
   "metadata": {},
   "source": [
    "### Floats"
   ]
  },
  {
   "cell_type": "markdown",
   "metadata": {},
   "source": [
    "So far, we've seen integers and strings. Integers are good for counting things, and strings are good for storing text. There are a few other data types:\n",
    "\n",
    "For numeric data, there's also `float` - for decimal numbers/fractions and `complex` for complex numbers.\n",
    "\n",
    "And you create floats just by using a decimal point in your number."
   ]
  },
  {
   "cell_type": "code",
   "execution_count": 7,
   "metadata": {
    "collapsed": false
   },
   "outputs": [
    {
     "name": "stdout",
     "output_type": "stream",
     "text": [
      "50.0\n"
     ]
    }
   ],
   "source": [
    "lb = 50.0\n",
    "kg = lb * 2.2\n",
    "print lb"
   ]
  },
  {
   "cell_type": "markdown",
   "metadata": {},
   "source": [
    "It's common to use integers for counting things, but be careful if you divide integers in Python 2, you'll always get an integer back!"
   ]
  },
  {
   "cell_type": "code",
   "execution_count": 8,
   "metadata": {
    "collapsed": false
   },
   "outputs": [
    {
     "data": {
      "text/plain": [
       "0"
      ]
     },
     "execution_count": 8,
     "metadata": {},
     "output_type": "execute_result"
    }
   ],
   "source": [
    "9/10"
   ]
  },
  {
   "cell_type": "markdown",
   "metadata": {},
   "source": [
    "Instead, you can simply add a decimal point to one of the numbers. Which reminds me, any time you do something that's not obvious why you're doing it in a program, it's a good idea to put a comment. Comments are just little notes in your code for yourself or other humans to read."
   ]
  },
  {
   "cell_type": "code",
   "execution_count": 9,
   "metadata": {
    "collapsed": false
   },
   "outputs": [
    {
     "data": {
      "text/plain": [
       "0.9"
      ]
     },
     "execution_count": 9,
     "metadata": {},
     "output_type": "execute_result"
    }
   ],
   "source": [
    "9.0 / 10.0 # Make sure we divide with floats, otherwise we get integers"
   ]
  },
  {
   "cell_type": "markdown",
   "metadata": {},
   "source": [
    "**Summary slide in presentation**"
   ]
  },
  {
   "cell_type": "markdown",
   "metadata": {},
   "source": [
    "### More Strings"
   ]
  },
  {
   "cell_type": "markdown",
   "metadata": {},
   "source": [
    "We've used strings to hold small bits of text - words, sentences, etc. We'll use them all the time in Python, and usually with single quotes, though double quotes work too.\n",
    "\n",
    "Strings are one of Python's `sequence` types. The string `'abc'` is a sequence of the characters `a`, `b`, then `c`, in that order.\n",
    "\n",
    "Since a sequence is made up of elements, we can access those elements individually by using an **integer index** and **square brackets**:"
   ]
  },
  {
   "cell_type": "code",
   "execution_count": 10,
   "metadata": {
    "collapsed": false
   },
   "outputs": [
    {
     "name": "stdout",
     "output_type": "stream",
     "text": [
      "D\n"
     ]
    }
   ],
   "source": [
    "name = 'Daniel'\n",
    "print name[0]\n"
   ]
  },
  {
   "cell_type": "markdown",
   "metadata": {},
   "source": [
    "Note that Python starts counting at **0**. So the _first letter_ in our **name** string is at `name[0]`"
   ]
  },
  {
   "cell_type": "code",
   "execution_count": 11,
   "metadata": {
    "collapsed": false
   },
   "outputs": [
    {
     "name": "stdout",
     "output_type": "stream",
     "text": [
      "a\n",
      "n\n",
      "l\n"
     ]
    }
   ],
   "source": [
    "print name[1]\n",
    "print name[2]\n",
    "print name[-1]"
   ]
  },
  {
   "cell_type": "markdown",
   "metadata": {},
   "source": [
    "We can also extract **slices** of strings. We do that with the start position and the end\n"
   ]
  },
  {
   "cell_type": "code",
   "execution_count": 12,
   "metadata": {
    "collapsed": false
   },
   "outputs": [
    {
     "name": "stdout",
     "output_type": "stream",
     "text": [
      "Daniel\n",
      "iel\n"
     ]
    }
   ],
   "source": [
    "print name[0:6]\n",
    "print name[3:6]"
   ]
  },
  {
   "cell_type": "markdown",
   "metadata": {},
   "source": [
    "Or check if a letter exists in a string:\n"
   ]
  },
  {
   "cell_type": "code",
   "execution_count": 13,
   "metadata": {
    "collapsed": false
   },
   "outputs": [
    {
     "data": {
      "text/plain": [
       "True"
      ]
     },
     "execution_count": 13,
     "metadata": {},
     "output_type": "execute_result"
    }
   ],
   "source": [
    "'a' in name"
   ]
  },
  {
   "cell_type": "markdown",
   "metadata": {},
   "source": [
    "**True** is actually a new type of data called a boolean. We'll cover these later, but it's very helpful to do things like check membership or compare two numbers, and boolean values are used for that."
   ]
  },
  {
   "cell_type": "markdown",
   "metadata": {},
   "source": [
    "We can also check if a letter does **not** exist, by using the word `not`.\n"
   ]
  },
  {
   "cell_type": "code",
   "execution_count": 14,
   "metadata": {
    "collapsed": false
   },
   "outputs": [
    {
     "data": {
      "text/plain": [
       "False"
      ]
     },
     "execution_count": 14,
     "metadata": {},
     "output_type": "execute_result"
    }
   ],
   "source": [
    "'a' not in name"
   ]
  },
  {
   "cell_type": "markdown",
   "metadata": {},
   "source": [
    "**Summary slide in presentation**"
   ]
  },
  {
   "cell_type": "markdown",
   "metadata": {},
   "source": [
    "### Assigning Variables"
   ]
  },
  {
   "cell_type": "markdown",
   "metadata": {},
   "source": [
    "We will be using variables extensively to store data and call it back between different statements. Variables act like a sticky note. You create a label and stick it on a piece of data. And anywhere we'd use a value directly (like printing or adding), we can instead use the variable name:\n"
   ]
  },
  {
   "cell_type": "code",
   "execution_count": 15,
   "metadata": {
    "collapsed": false
   },
   "outputs": [
    {
     "name": "stdout",
     "output_type": "stream",
     "text": [
      "6\n",
      "6\n"
     ]
    }
   ],
   "source": [
    "print 3 + 3\n",
    "sum = 3 + 3\n",
    "print sum"
   ]
  },
  {
   "cell_type": "markdown",
   "metadata": {},
   "source": [
    "The `=` means to assign the expression on the right to the variable on the left. Variable names (like sticky notes) can be reused, and it works like moving the sticky note:"
   ]
  },
  {
   "cell_type": "code",
   "execution_count": 16,
   "metadata": {
    "collapsed": false
   },
   "outputs": [
    {
     "name": "stdout",
     "output_type": "stream",
     "text": [
      "4\n"
     ]
    }
   ],
   "source": [
    "x = 6\n",
    "x = 4\n",
    "print x"
   ]
  },
  {
   "cell_type": "markdown",
   "metadata": {},
   "source": [
    "Just as I can put multiple sticky notes on the same object, I can have multiple variables referencing the same piece of data, and later move them around:"
   ]
  },
  {
   "cell_type": "code",
   "execution_count": 17,
   "metadata": {
    "collapsed": false
   },
   "outputs": [],
   "source": [
    "x = y = 'pencil'"
   ]
  },
  {
   "cell_type": "code",
   "execution_count": 18,
   "metadata": {
    "collapsed": false
   },
   "outputs": [
    {
     "name": "stdout",
     "output_type": "stream",
     "text": [
      "pencil pencil\n"
     ]
    }
   ],
   "source": [
    "print x, y"
   ]
  },
  {
   "cell_type": "markdown",
   "metadata": {},
   "source": [
    "Let's change `x` to a different value, `5`. What happens to `y`"
   ]
  },
  {
   "cell_type": "code",
   "execution_count": 19,
   "metadata": {
    "collapsed": false
   },
   "outputs": [
    {
     "name": "stdout",
     "output_type": "stream",
     "text": [
      "5 pencil\n"
     ]
    }
   ],
   "source": [
    "x = 5\n",
    "print x,y "
   ]
  },
  {
   "cell_type": "markdown",
   "metadata": {},
   "source": [
    "One thing to keep in mind is that variables don't **remember** where they came from. When you use a variable in a computation, Python will use the value of that variable when the code is run. "
   ]
  },
  {
   "cell_type": "code",
   "execution_count": 20,
   "metadata": {
    "collapsed": false
   },
   "outputs": [
    {
     "name": "stdout",
     "output_type": "stream",
     "text": [
      "0 4\n"
     ]
    }
   ],
   "source": [
    "a = 3\n",
    "b = a + 1\n",
    "a = 0\n",
    "print a, b"
   ]
  },
  {
   "cell_type": "markdown",
   "metadata": {},
   "source": [
    "This isn't surprising if you think of the program as just a list of steps, but if you expect it to behave like a spreadsheet, it may be surprising."
   ]
  },
  {
   "cell_type": "markdown",
   "metadata": {},
   "source": [
    "**Summary slide in presentation**"
   ]
  },
  {
   "cell_type": "markdown",
   "metadata": {},
   "source": [
    "### Working with a DNA Sequence"
   ]
  },
  {
   "cell_type": "markdown",
   "metadata": {},
   "source": [
    "Let's start working with genomic data. Here's a DNA sequence we can all copy/paste from the web site. This is a string, and we are going to store it in a variable called `seq10`:"
   ]
  },
  {
   "cell_type": "code",
   "execution_count": 21,
   "metadata": {
    "collapsed": true
   },
   "outputs": [],
   "source": [
    "seq10 = 'ACCTGCATGC'"
   ]
  },
  {
   "cell_type": "markdown",
   "metadata": {},
   "source": [
    "So, we can get the 10th base by indexing into the string at position 10. Remember, Python starts counting at 0!"
   ]
  },
  {
   "cell_type": "code",
   "execution_count": 22,
   "metadata": {
    "collapsed": false
   },
   "outputs": [
    {
     "name": "stdout",
     "output_type": "stream",
     "text": [
      "C G T\n"
     ]
    }
   ],
   "source": [
    "b10 = seq10[9]\n",
    "b9 = seq10[8]\n",
    "b8 = seq10[7]\n",
    "print b10, b9, b8\n"
   ]
  },
  {
   "cell_type": "markdown",
   "metadata": {},
   "source": [
    "We can combine multiple strings together using the plus sign, so we could recombine these 3 bases now in a reverse order:"
   ]
  },
  {
   "cell_type": "code",
   "execution_count": 23,
   "metadata": {
    "collapsed": true
   },
   "outputs": [],
   "source": [
    "r3 = b10 + b9 + b8"
   ]
  },
  {
   "cell_type": "code",
   "execution_count": 24,
   "metadata": {
    "collapsed": false
   },
   "outputs": [
    {
     "name": "stdout",
     "output_type": "stream",
     "text": [
      "CGT\n"
     ]
    }
   ],
   "source": [
    "print r3"
   ]
  },
  {
   "cell_type": "markdown",
   "metadata": {},
   "source": [
    "But, when we combine strings, we **always** get a new string. We can't modify (or mutate) the existing string. But, what we **can** do is reassign a variable"
   ]
  },
  {
   "cell_type": "code",
   "execution_count": 11,
   "metadata": {
    "collapsed": false
   },
   "outputs": [
    {
     "ename": "NameError",
     "evalue": "name 'r3' is not defined",
     "output_type": "error",
     "traceback": [
      "\u001b[0;31m---------------------------------------------------------------------------\u001b[0m",
      "\u001b[0;31mNameError\u001b[0m                                 Traceback (most recent call last)",
      "\u001b[0;32m<ipython-input-11-fbfbf23cf48f>\u001b[0m in \u001b[0;36m<module>\u001b[0;34m()\u001b[0m\n\u001b[0;32m----> 1\u001b[0;31m \u001b[0mr3\u001b[0m\u001b[0;34m[\u001b[0m\u001b[0;36m2\u001b[0m\u001b[0;34m]\u001b[0m \u001b[0;34m=\u001b[0m \u001b[0;34m'G'\u001b[0m\u001b[0;34m\u001b[0m\u001b[0m\n\u001b[0m",
      "\u001b[0;31mNameError\u001b[0m: name 'r3' is not defined"
     ]
    }
   ],
   "source": [
    "r3[2] = 'G'"
   ]
  },
  {
   "cell_type": "code",
   "execution_count": 27,
   "metadata": {
    "collapsed": false
   },
   "outputs": [
    {
     "name": "stdout",
     "output_type": "stream",
     "text": [
      "CGT CGG\n"
     ]
    }
   ],
   "source": [
    "old3 = r3\n",
    "r3 = b10 + b9 + 'G'\n",
    "print old3, r3"
   ]
  },
  {
   "cell_type": "markdown",
   "metadata": {},
   "source": [
    "We call strings \"immutable\" since they cannot be mutated. We'll cover some data types that are mutable, but when working with strings, we have to build new ones."
   ]
  },
  {
   "cell_type": "markdown",
   "metadata": {},
   "source": [
    "Now, we'd like to perform an operation on the sequence: **reverse complement**. It's a useful process when working with sequences, and it's a great example of a problem you can write down and explain, but may not immediately know how to program.\n",
    "\n",
    "With any programming endeavor, we'll start by breaking the problem down into parts and then combining them. So to reverse-complemment a sequence, first we'll learn how to reverse it."
   ]
  },
  {
   "cell_type": "markdown",
   "metadata": {},
   "source": [
    "### Reversing - loops"
   ]
  },
  {
   "cell_type": "markdown",
   "metadata": {},
   "source": [
    "** slide in presentation**"
   ]
  },
  {
   "cell_type": "code",
   "execution_count": 28,
   "metadata": {
    "collapsed": false
   },
   "outputs": [
    {
     "name": "stdout",
     "output_type": "stream",
     "text": [
      "CGTACGTCCA\n"
     ]
    }
   ],
   "source": [
    "rev10 = seq10[9] + seq10[8] + seq10[7] + seq10[6] + seq10[5] + seq10[4] + seq10[3] + seq10[2] + seq10[1] + seq10[0]\n",
    "print rev10"
   ]
  },
  {
   "cell_type": "markdown",
   "metadata": {},
   "source": [
    "but that's a bad approach for two reasons:\n",
    "\n",
    "1.  It doesn't scale:\n",
    "    if we want to print the characters in a string that's hundreds of letters long,\n",
    "    we'd be better off just typing them in.\n",
    "\n",
    "1.  It's fragile:\n",
    "    if we give it a longer sequence,\n",
    "    it only reverses part of the data,\n",
    "    and if we give it a shorter one,\n",
    "    it produces an error because we're asking for characters that don't exist."
   ]
  },
  {
   "cell_type": "markdown",
   "metadata": {},
   "source": [
    "A better way to do this is with a loop. Loops work on sequences like strings, and let you do something with each element, no matter how long the sequence is. Let's start with a basic loop:"
   ]
  },
  {
   "cell_type": "code",
   "execution_count": 29,
   "metadata": {
    "collapsed": false
   },
   "outputs": [
    {
     "name": "stdout",
     "output_type": "stream",
     "text": [
      "A\n",
      "C\n",
      "C\n",
      "T\n",
      "G\n",
      "C\n",
      "A\n",
      "T\n",
      "G\n",
      "C\n"
     ]
    }
   ],
   "source": [
    "for s in seq10:\n",
    "    print s"
   ]
  },
  {
   "cell_type": "markdown",
   "metadata": {},
   "source": [
    "A few things happened here. \n",
    "\n",
    "1. First, we introduced a couple new keywords `for` and `in`. This constructs the loop and says we want to work on each element in `seq10`. This line must end with a **colon**.\n",
    "2. Second, we created a new variable `s`. This is called a **loop variable** that because it changes at each iteration of the loop.\n",
    "3. Third, we indented the code that we want to repeat. In some languages you use special words or characters to start or end loops. In Python, the body of the loop is defined by the lines that are indented after the colon."
   ]
  },
  {
   "cell_type": "code",
   "execution_count": 30,
   "metadata": {
    "collapsed": false
   },
   "outputs": [
    {
     "name": "stdout",
     "output_type": "stream",
     "text": [
      "Before\n",
      "Inside: a\n",
      "Inside: b\n",
      "Inside: c\n",
      "After\n"
     ]
    }
   ],
   "source": [
    "print 'Before'\n",
    "for l in 'abc':\n",
    "    print 'Inside:', l\n",
    "print 'After'\n"
   ]
  },
  {
   "cell_type": "markdown",
   "metadata": {},
   "source": [
    "We can do other things in the body - they don't have to relate to the loop variable. For example, if we want to count how long the sequence is, we can use a variable that we add one to every time:"
   ]
  },
  {
   "cell_type": "code",
   "execution_count": 31,
   "metadata": {
    "collapsed": false
   },
   "outputs": [
    {
     "name": "stdout",
     "output_type": "stream",
     "text": [
      "10\n"
     ]
    }
   ],
   "source": [
    "count = 0\n",
    "for s in seq10:\n",
    "    count = count + 1\n",
    "print count"
   ]
  },
  {
   "cell_type": "markdown",
   "metadata": {},
   "source": [
    "Now, I think we're ready to reverse the sequence. Let's make this a hands-on exercise to write some code that reverses the sequence in `seq10` and puts it in a variable called `rev10`. Remember, you can add strings together and the order is important!"
   ]
  },
  {
   "cell_type": "markdown",
   "metadata": {},
   "source": [
    "**Exercise in presentation**"
   ]
  },
  {
   "cell_type": "code",
   "execution_count": 32,
   "metadata": {
    "collapsed": false
   },
   "outputs": [
    {
     "name": "stdout",
     "output_type": "stream",
     "text": [
      "CGTACGTCCA\n"
     ]
    }
   ],
   "source": [
    "rev10 = ''\n",
    "for s in seq10:\n",
    "    rev10 = s + rev10\n",
    "print rev10"
   ]
  },
  {
   "cell_type": "markdown",
   "metadata": {},
   "source": [
    "**Summary slide in presentation**"
   ]
  },
  {
   "cell_type": "markdown",
   "metadata": {},
   "source": [
    "**Intro Dictionaries slide in presentation**"
   ]
  },
  {
   "cell_type": "markdown",
   "metadata": {},
   "source": [
    "### Dictionaries - lookups"
   ]
  },
  {
   "cell_type": "markdown",
   "metadata": {},
   "source": [
    "Python has a data type called a dictionary that's great for looking things up. It associates pairs of things together: a key and a value."
   ]
  },
  {
   "cell_type": "markdown",
   "metadata": {},
   "source": [
    "Let's say we want to keep track of how much fruit we have in the kitchen. We can create a dictionary where the keys are the names of the fruits, and the values are quantity of each:"
   ]
  },
  {
   "cell_type": "code",
   "execution_count": 33,
   "metadata": {
    "collapsed": false
   },
   "outputs": [
    {
     "name": "stdout",
     "output_type": "stream",
     "text": [
      "{'apples': 5, 'oranges': 4, 'bananas': 8}\n"
     ]
    }
   ],
   "source": [
    "fruits = {'apples': 5, 'bananas': 8, 'oranges': 4}\n",
    "print fruits"
   ]
  },
  {
   "cell_type": "markdown",
   "metadata": {},
   "source": [
    "Like a string, we access elements in the dictionary with square brackets `[]`. But, instead of a number, we use the key to index. So to ask *how many apples do I have*, you do"
   ]
  },
  {
   "cell_type": "code",
   "execution_count": 34,
   "metadata": {
    "collapsed": false
   },
   "outputs": [
    {
     "name": "stdout",
     "output_type": "stream",
     "text": [
      "I have 5 apples\n"
     ]
    }
   ],
   "source": [
    "print 'I have', fruits['apples'], 'apples'"
   ]
  },
  {
   "cell_type": "markdown",
   "metadata": {},
   "source": [
    "But unlike a string, dictionaries are **mutable**. This means we can change their contents. Let's correct the number of apples to 3:"
   ]
  },
  {
   "cell_type": "code",
   "execution_count": 35,
   "metadata": {
    "collapsed": false
   },
   "outputs": [
    {
     "name": "stdout",
     "output_type": "stream",
     "text": [
      "Now I have 3 apples\n"
     ]
    }
   ],
   "source": [
    "fruits['apples'] = 3\n",
    "print 'Now I have', fruits['apples'], 'apples'"
   ]
  },
  {
   "cell_type": "markdown",
   "metadata": {},
   "source": [
    "And we can use a variable as the key, so let's choose a favorite fruit and put that in the variable `favorite`"
   ]
  },
  {
   "cell_type": "code",
   "execution_count": 36,
   "metadata": {
    "collapsed": false
   },
   "outputs": [
    {
     "name": "stdout",
     "output_type": "stream",
     "text": [
      "I have 8 bananas\n"
     ]
    }
   ],
   "source": [
    "favorite = 'bananas'\n",
    "print 'I have', fruits[favorite], favorite\n"
   ]
  },
  {
   "cell_type": "markdown",
   "metadata": {},
   "source": [
    "Since dictionaries are collections of items, we can loop over them.  Let's see what happens when we loop over our fruits dictionary:"
   ]
  },
  {
   "cell_type": "code",
   "execution_count": 37,
   "metadata": {
    "collapsed": false
   },
   "outputs": [
    {
     "name": "stdout",
     "output_type": "stream",
     "text": [
      "apples\n",
      "oranges\n",
      "bananas\n"
     ]
    }
   ],
   "source": [
    "for f in fruits:\n",
    "    print f"
   ]
  },
  {
   "cell_type": "markdown",
   "metadata": {},
   "source": [
    "When we loop over the dictionary, the **loop variable** is set to each **key**. The loop doesn't give us the **value**, but it's easy to get since we have the key and the dictionary:"
   ]
  },
  {
   "cell_type": "code",
   "execution_count": 38,
   "metadata": {
    "collapsed": false
   },
   "outputs": [
    {
     "name": "stdout",
     "output_type": "stream",
     "text": [
      "apples 3\n",
      "oranges 4\n",
      "bananas 8\n"
     ]
    }
   ],
   "source": [
    "for name in fruits:\n",
    "    qty = fruits[name]\n",
    "    print name, qty"
   ]
  },
  {
   "cell_type": "markdown",
   "metadata": {},
   "source": [
    "As an exercise, let's get the total quantity of fruits we have. This loop should look a lot like counting the bases in the sequence"
   ]
  },
  {
   "cell_type": "markdown",
   "metadata": {},
   "source": [
    "Dictionaries are great because they're flexible, so we can use them to look up anything like complementary bases. So let's start by creating a dictionary with the complements for A and T."
   ]
  },
  {
   "cell_type": "code",
   "execution_count": 39,
   "metadata": {
    "collapsed": true
   },
   "outputs": [],
   "source": [
    "complements = {'A':'T', 'T':'A'}"
   ]
  },
  {
   "cell_type": "markdown",
   "metadata": {},
   "source": [
    "So if I want to read the complement of `A`, I write `complements['A']`:"
   ]
  },
  {
   "cell_type": "code",
   "execution_count": 40,
   "metadata": {
    "collapsed": false
   },
   "outputs": [
    {
     "name": "stdout",
     "output_type": "stream",
     "text": [
      "T\n"
     ]
    }
   ],
   "source": [
    "print complements['A']"
   ]
  },
  {
   "cell_type": "markdown",
   "metadata": {},
   "source": [
    "We just have A and T here. With dictionaries, we can add more items or even change existing ones:"
   ]
  },
  {
   "cell_type": "code",
   "execution_count": 41,
   "metadata": {
    "collapsed": true
   },
   "outputs": [],
   "source": [
    "complements['C'] = 'G'\n",
    "complements['G'] = 'C'"
   ]
  },
  {
   "cell_type": "code",
   "execution_count": 42,
   "metadata": {
    "collapsed": false
   },
   "outputs": [
    {
     "name": "stdout",
     "output_type": "stream",
     "text": [
      "{'A': 'T', 'C': 'G', 'T': 'A', 'G': 'C'}\n"
     ]
    }
   ],
   "source": [
    "print complements"
   ]
  },
  {
   "cell_type": "markdown",
   "metadata": {},
   "source": [
    "Now, I can complement my sequence from before by looking up the complement inside a loop"
   ]
  },
  {
   "cell_type": "code",
   "execution_count": 43,
   "metadata": {
    "collapsed": false
   },
   "outputs": [
    {
     "name": "stdout",
     "output_type": "stream",
     "text": [
      "ACCTGCATGC\n",
      "CGTACGTCCA\n",
      "GCATGCAGGT\n"
     ]
    }
   ],
   "source": [
    "revcomp10 = ''\n",
    "# starting with rev10, the already reversed sequence\n",
    "for s in rev10:\n",
    "    c = complements[s]\n",
    "    revcomp10 = revcomp10 + c\n",
    "print seq10\n",
    "print rev10\n",
    "print revcomp10"
   ]
  },
  {
   "cell_type": "markdown",
   "metadata": {},
   "source": [
    "### Lists\n",
    "\n",
    "We've looked at strings and dictionaries as collection types. There's another one that's really useful, and it's called a list. It's an ordered collection of elements. Lists use the `[]` square brackets, and elments are separated by commas.\n",
    "\n",
    "Here's one that contains our 3 sequences.:"
   ]
  },
  {
   "cell_type": "code",
   "execution_count": 44,
   "metadata": {
    "collapsed": false
   },
   "outputs": [
    {
     "name": "stdout",
     "output_type": "stream",
     "text": [
      "ACCTGCATGC\n",
      "CGTACGTCCA\n",
      "GCATGCAGGT\n"
     ]
    }
   ],
   "source": [
    "sequences = [seq10, rev10, revcomp10]\n",
    "for seq in sequences:\n",
    "    print seq"
   ]
  },
  {
   "cell_type": "markdown",
   "metadata": {},
   "source": [
    "Lists, unlike strings, are mutable. So I can add or remove to a list, reorder it, or swap items out."
   ]
  },
  {
   "cell_type": "code",
   "execution_count": 45,
   "metadata": {
    "collapsed": true
   },
   "outputs": [],
   "source": [
    "sequences[0] = 'AAAAAGGGGG'"
   ]
  },
  {
   "cell_type": "code",
   "execution_count": 46,
   "metadata": {
    "collapsed": false
   },
   "outputs": [
    {
     "name": "stdout",
     "output_type": "stream",
     "text": [
      "['AAAAAGGGGG', 'CGTACGTCCA', 'GCATGCAGGT']\n"
     ]
    }
   ],
   "source": [
    "print sequences"
   ]
  },
  {
   "cell_type": "markdown",
   "metadata": {},
   "source": [
    "Both dictionaries and lists let you delete things with the `del` keyword - again because they're mutable."
   ]
  },
  {
   "cell_type": "code",
   "execution_count": 47,
   "metadata": {
    "collapsed": false
   },
   "outputs": [
    {
     "name": "stdout",
     "output_type": "stream",
     "text": [
      "['CGTACGTCCA', 'GCATGCAGGT']\n"
     ]
    }
   ],
   "source": [
    "del sequences[0]\n",
    "print sequences"
   ]
  },
  {
   "cell_type": "markdown",
   "metadata": {},
   "source": [
    "### Tuples\n",
    "\n",
    "Like a list, but immutable. A frozen list. Instead of square brackets, you use parenthesis."
   ]
  },
  {
   "cell_type": "code",
   "execution_count": 48,
   "metadata": {
    "collapsed": false
   },
   "outputs": [
    {
     "name": "stdout",
     "output_type": "stream",
     "text": [
      "RNA\n"
     ]
    }
   ],
   "source": [
    "sequence_types = ('RNA','DNA','Protein')\n",
    "print sequence_types[0]"
   ]
  },
  {
   "cell_type": "code",
   "execution_count": 50,
   "metadata": {
    "collapsed": false
   },
   "outputs": [],
   "source": [
    "sequence_types[1] = 'dna'"
   ]
  },
  {
   "cell_type": "markdown",
   "metadata": {},
   "source": [
    "**Summary slide in presentation**"
   ]
  },
  {
   "cell_type": "markdown",
   "metadata": {},
   "source": [
    "### Making choices / Conditionals\n",
    "\n",
    "When writing programs, it's very handy to examine some data or some results, and make a decision about what to do next. This is called a conditional, and most common version is the `if-else`.\n",
    "\n",
    "Here's how it works. we start with an `if`, and then we write some expression that will either be **True** or **False**. Then we write a colon, and indent what should happen **if** the expression was **True**. \n",
    "\n",
    "We can also write what should happen if the expression was **False**, after an `else`."
   ]
  },
  {
   "cell_type": "code",
   "execution_count": 51,
   "metadata": {
    "collapsed": false
   },
   "outputs": [
    {
     "name": "stdout",
     "output_type": "stream",
     "text": [
      "Sequence contains GC\n",
      "done\n"
     ]
    }
   ],
   "source": [
    "if 'GC' in seq10:\n",
    "    print 'Sequence contains GC'\n",
    "else:\n",
    "    print 'Sequence does not contain GC'\n",
    "print 'done'"
   ]
  },
  {
   "cell_type": "markdown",
   "metadata": {},
   "source": [
    "Only one or the other is ever executed\n",
    "\n",
    "Conditional statements don't have to include an `else`. If there isn't one, Python simply does nothing if the test is false."
   ]
  },
  {
   "cell_type": "markdown",
   "metadata": {},
   "source": [
    "**Instruction slide in presentation**"
   ]
  },
  {
   "cell_type": "code",
   "execution_count": 52,
   "metadata": {
    "collapsed": false
   },
   "outputs": [
    {
     "name": "stdout",
     "output_type": "stream",
     "text": [
      "GC-content percentage: 60 %\n"
     ]
    }
   ],
   "source": [
    "gc = 0\n",
    "atgc = 0\n",
    "for s in seq10:\n",
    "    if s == 'G': # notice the double indent\n",
    "        gc = gc + 1\n",
    "    if s == 'C':\n",
    "        gc = gc + 1\n",
    "    atgc = atgc + 1 # outside the ifs\n",
    "# Outside the loop\n",
    "percent = (gc * 100) / atgc\n",
    "print 'GC-content percentage:', percent, '%'"
   ]
  },
  {
   "cell_type": "markdown",
   "metadata": {},
   "source": [
    "Now that works, but we've repeated ourselves. In both cases (`G` and `C`), we're running the same code. One of Python's philosophies is _Don't Repeat Yourself_, and it's generally a good idea.\n",
    "\n",
    "So, when we want to check if one condition is true **or** another, we use the word **or** in between the two tests. So we can make this code a little shorter:"
   ]
  },
  {
   "cell_type": "code",
   "execution_count": 53,
   "metadata": {
    "collapsed": false
   },
   "outputs": [
    {
     "name": "stdout",
     "output_type": "stream",
     "text": [
      "GC-content percentage: 60 %\n"
     ]
    }
   ],
   "source": [
    "gc = 0\n",
    "atgc = 0\n",
    "for s in seq10:\n",
    "    if s == 'G' or s == 'C':\n",
    "        gc = gc + 1\n",
    "    atgc = atgc + 1 # outside the ifs\n",
    "# Outside the loop\n",
    "percent = (gc * 100) / atgc\n",
    "print 'GC-content percentage:', percent, '%'"
   ]
  },
  {
   "cell_type": "markdown",
   "metadata": {},
   "source": [
    "Now, another thing we can test for is if values are greater or less than others. We can classify these percentages as high, normal, or low. Let's say anything below 35 is low, anything from 36-55 is normal, and anything above 56 is high. We start by writing the first condition:"
   ]
  },
  {
   "cell_type": "code",
   "execution_count": 54,
   "metadata": {
    "collapsed": false
   },
   "outputs": [
    {
     "name": "stdout",
     "output_type": "stream",
     "text": [
      "Low\n"
     ]
    }
   ],
   "source": [
    "percent = 20\n",
    "if percent < 35:\n",
    "    print 'Low'\n",
    "elif percent < 55:\n",
    "    print 'Normal'\n",
    "else:\n",
    "    print 'High'"
   ]
  },
  {
   "cell_type": "markdown",
   "metadata": {},
   "source": [
    "**Summary slide in presentation**"
   ]
  },
  {
   "cell_type": "markdown",
   "metadata": {},
   "source": [
    "## Coffee Break"
   ]
  },
  {
   "cell_type": "markdown",
   "metadata": {},
   "source": [
    "### Functions"
   ]
  },
  {
   "cell_type": "markdown",
   "metadata": {},
   "source": [
    "We've said that these sequence types have a lot of common functionality - We can access individual elements, slice them, or loop over them. But there's a lot more things we can do with **functions**. There's about 75 functions that are built-in and just ready to use. They can do simple things like tell you the length of a collection, or more advanced things like sorting, working with files, or converting between data types.\n",
    "\n",
    "To use a function, you type its name, followed by parenthesis. Let's use the **len** function to get the length of our sequence"
   ]
  },
  {
   "cell_type": "code",
   "execution_count": 55,
   "metadata": {
    "collapsed": false
   },
   "outputs": [
    {
     "name": "stdout",
     "output_type": "stream",
     "text": [
      "10\n"
     ]
    }
   ],
   "source": [
    "print len(seq10) # much less code than writing a loop!"
   ]
  },
  {
   "cell_type": "markdown",
   "metadata": {},
   "source": [
    "And that works on any collection - so, dictionaries, lists, etc."
   ]
  },
  {
   "cell_type": "code",
   "execution_count": 56,
   "metadata": {
    "collapsed": false
   },
   "outputs": [
    {
     "name": "stdout",
     "output_type": "stream",
     "text": [
      "4 2\n"
     ]
    }
   ],
   "source": [
    "print len(complements), len(sequences)"
   ]
  },
  {
   "cell_type": "markdown",
   "metadata": {},
   "source": [
    "There's the `sorted` function that takes a list and returns a new list in order"
   ]
  },
  {
   "cell_type": "code",
   "execution_count": 57,
   "metadata": {
    "collapsed": false
   },
   "outputs": [
    {
     "name": "stdout",
     "output_type": "stream",
     "text": [
      "[2, 3, 4, 7, 8]\n"
     ]
    }
   ],
   "source": [
    "x = [7,3,2,8,4]\n",
    "y = sorted(x)\n",
    "print y\n"
   ]
  },
  {
   "cell_type": "markdown",
   "metadata": {},
   "source": [
    "Functions open up a lot of possibilities. They're bits of code you can use, but don't have to write. One really important function is called **help**. Python has its own built-in documentation on functions, and to use it, you just type:"
   ]
  },
  {
   "cell_type": "code",
   "execution_count": 58,
   "metadata": {
    "collapsed": false
   },
   "outputs": [
    {
     "name": "stdout",
     "output_type": "stream",
     "text": [
      "Help on built-in function sorted in module __builtin__:\n",
      "\n",
      "sorted(...)\n",
      "    sorted(iterable, cmp=None, key=None, reverse=False) --> new sorted list\n",
      "\n"
     ]
    }
   ],
   "source": [
    "help(sorted)"
   ]
  },
  {
   "cell_type": "markdown",
   "metadata": {},
   "source": [
    "There's also plenty of documentation on the internet: https://docs.python.org/2/library/functions.html"
   ]
  },
  {
   "cell_type": "markdown",
   "metadata": {},
   "source": [
    "Many data types have their own functions too. We talked about strings, and they often contain multiple words separated by spaces. So there's a function called **split()** that makes a list of those words."
   ]
  },
  {
   "cell_type": "code",
   "execution_count": 59,
   "metadata": {
    "collapsed": false
   },
   "outputs": [
    {
     "name": "stdout",
     "output_type": "stream",
     "text": [
      "['bananas', 'apples', 'oranges']\n"
     ]
    }
   ],
   "source": [
    "fruits = 'bananas apples oranges' #This order is important for sorting later\n",
    "fruit_list = fruits.split()\n",
    "print fruit_list"
   ]
  },
  {
   "cell_type": "markdown",
   "metadata": {},
   "source": [
    "This function is **part of** the string, so when we want to use the function, we start with the string, then type a dot and the function name. We don't need to put anything in the parenthesis. There are thousands of functions that are **part of** different data types"
   ]
  },
  {
   "cell_type": "markdown",
   "metadata": {},
   "source": [
    "**Exercise slide in presentation**"
   ]
  },
  {
   "cell_type": "code",
   "execution_count": 60,
   "metadata": {
    "collapsed": false
   },
   "outputs": [
    {
     "name": "stdout",
     "output_type": "stream",
     "text": [
      "['red', 'orange', 'yellow', 'green', 'blue', 'indigo', 'violet']\n",
      "['RED', 'ORANGE', 'YELLOW', 'GREEN', 'BLUE', 'INDIGO', 'VIOLET']\n",
      "['VIOLET', 'INDIGO', 'BLUE', 'GREEN', 'YELLOW', 'ORANGE', 'RED']\n"
     ]
    }
   ],
   "source": [
    "spectrum = 'red orange yellow green blue indigo violet'\n",
    "colors = spectrum.split()\n",
    "print colors\n",
    "uppercased = spectrum.upper().split()\n",
    "print uppercased\n",
    "uppercased.reverse()\n",
    "print uppercased\n"
   ]
  },
  {
   "cell_type": "markdown",
   "metadata": {},
   "source": [
    "We've already written code that performs basic operations on genomic sequences: reverse complement and calculating GC content percentage. But that code only runs on our example seq10, and it would be more useful if we could easily run it on any sequence\n",
    "\n",
    "To do that, we're going to write our own functions to do those."
   ]
  },
  {
   "cell_type": "markdown",
   "metadata": {},
   "source": [
    "Let's write a very simple function that we can understand\n",
    "\n",
    "- Start with def, meaning we define a function\n",
    "- Give it a name that says what it does, in this case **double**\n",
    "- Open parenthesis and create some argument variables (more on that in a minute). \"What do you want me to double\"\n",
    "- Close the parenthesis and type a colon (like loops or conditionals)\n",
    "- Write indented code that does the work of our function\n",
    "- returns it"
   ]
  },
  {
   "cell_type": "code",
   "execution_count": 61,
   "metadata": {
    "collapsed": true
   },
   "outputs": [],
   "source": [
    "def double(x):\n",
    "    result = x * 2\n",
    "    return result"
   ]
  },
  {
   "cell_type": "markdown",
   "metadata": {},
   "source": [
    "Calling your own functions is the same as calling the built-in ones - just use the name and parenthesis"
   ]
  },
  {
   "cell_type": "code",
   "execution_count": 62,
   "metadata": {
    "collapsed": false
   },
   "outputs": [
    {
     "name": "stdout",
     "output_type": "stream",
     "text": [
      "200\n"
     ]
    }
   ],
   "source": [
    "doubled = double(100)\n",
    "print doubled\n"
   ]
  },
  {
   "cell_type": "markdown",
   "metadata": {},
   "source": [
    "A neat benefit is that we can double lots of things! If we double a string, we get..."
   ]
  },
  {
   "cell_type": "code",
   "execution_count": 63,
   "metadata": {
    "collapsed": false
   },
   "outputs": [
    {
     "name": "stdout",
     "output_type": "stream",
     "text": [
      "ACCCACCC\n"
     ]
    }
   ],
   "source": [
    "print double('ACCC')"
   ]
  },
  {
   "cell_type": "markdown",
   "metadata": {},
   "source": [
    "### Arguments and return values\n",
    "\n",
    "Within our function we use this variable `x`, which we didn't assign traditionally. It's a function argument, meaning that it will be set with whatever we put inside the parenthesis. \n",
    "\n",
    "While this is different than saying x = 100 explicitly, it's actually a great feature. It's the reason we can reuse functions and not have them interfere with each other.\n",
    "\n",
    "Every time we call `double`, that function gets its own private `x` to use. If we have a variable called x in other places, it won't replace or conflict with the one inside our function. Which is great, because I use simple short names all the time!\n",
    "\n",
    "We also have this new keyword, `return`. Most functions will use this, where you want to do some work or computation and return a result. In this example, you'd expect a function with an action name like `double` would do some work and provide you the result."
   ]
  },
  {
   "cell_type": "markdown",
   "metadata": {
    "collapsed": true
   },
   "source": [
    "## Reverse-complementing\n",
    "\n",
    "We have two operations that are perfect to turn into functions, then we can use them independently or together."
   ]
  },
  {
   "cell_type": "markdown",
   "metadata": {},
   "source": [
    "To write a function that reverses a sequence, we want to take an input value, the sequence, reverse it, and return that."
   ]
  },
  {
   "cell_type": "code",
   "execution_count": 64,
   "metadata": {
    "collapsed": true
   },
   "outputs": [],
   "source": [
    "def reverse(seq):\n",
    "    rev = ''\n",
    "    for s in seq:\n",
    "        rev = s + rev\n",
    "    return rev\n"
   ]
  },
  {
   "cell_type": "code",
   "execution_count": 65,
   "metadata": {
    "collapsed": false
   },
   "outputs": [
    {
     "name": "stdout",
     "output_type": "stream",
     "text": [
      "GTCA\n"
     ]
    }
   ],
   "source": [
    "print reverse('ACTG')"
   ]
  },
  {
   "cell_type": "code",
   "execution_count": 66,
   "metadata": {
    "collapsed": false
   },
   "outputs": [
    {
     "name": "stdout",
     "output_type": "stream",
     "text": [
      "ACCTGCATGC\n",
      "CGTACGTCCA\n"
     ]
    }
   ],
   "source": [
    "print seq10\n",
    "print reverse(seq10)"
   ]
  },
  {
   "cell_type": "markdown",
   "metadata": {},
   "source": [
    "To test that the function works, we could eyeball it, and we can also test that double-reversing gives us the original sequence:"
   ]
  },
  {
   "cell_type": "code",
   "execution_count": 67,
   "metadata": {
    "collapsed": false
   },
   "outputs": [
    {
     "data": {
      "text/plain": [
       "'ACCTGCATGC'"
      ]
     },
     "execution_count": 67,
     "metadata": {},
     "output_type": "execute_result"
    }
   ],
   "source": [
    "reverse(reverse(seq10))"
   ]
  },
  {
   "cell_type": "markdown",
   "metadata": {},
   "source": [
    "Now we can move onto complementing. So let's pull up that code and move it into a function. Let's again tidy up our variable names"
   ]
  },
  {
   "cell_type": "code",
   "execution_count": 68,
   "metadata": {
    "collapsed": true
   },
   "outputs": [],
   "source": [
    "def complement(seq):\n",
    "    comp = ''\n",
    "    for s in seq:\n",
    "        c = complements[s]\n",
    "        comp = comp + c\n",
    "    return comp"
   ]
  },
  {
   "cell_type": "code",
   "execution_count": 69,
   "metadata": {
    "collapsed": false
   },
   "outputs": [
    {
     "name": "stdout",
     "output_type": "stream",
     "text": [
      "ACCTGCATGC\n",
      "TGGACGTACG\n"
     ]
    }
   ],
   "source": [
    "print seq10\n",
    "print complement(seq10)"
   ]
  },
  {
   "cell_type": "markdown",
   "metadata": {},
   "source": [
    "That works, but there's still one piece that's odd. We have our **seq** variable that's private to this function and nobody else can access it. But we're depending on this complements variable, which we don't create or check.\n",
    "\n",
    "That's called a global variable, because it exists outside of a function and it's available for reading and writing everywhere. And it's dangerous because \n",
    "\n",
    "1. If we run this function without assigning `complements`, the function will fail\n",
    "2. If we run it with `complements` set to something we don't expect, our function will give us the wrong answer\n",
    "3. We can't look at this function and know what it's going to do, because we don't know what complements is or where it comes from\n"
   ]
  },
  {
   "cell_type": "markdown",
   "metadata": {},
   "source": [
    "Some things do need to be global variables, but generally we should avoid them. So here, I'm going to create a **local** variable inside the function with my complements."
   ]
  },
  {
   "cell_type": "code",
   "execution_count": 70,
   "metadata": {
    "collapsed": true
   },
   "outputs": [],
   "source": [
    "def complement(seq):\n",
    "    complements = {'A': 'T', 'C': 'G', 'T': 'A', 'G': 'C'}\n",
    "    comp = ''\n",
    "    for s in seq:\n",
    "        c = complements[s]\n",
    "        comp = comp + c\n",
    "    return comp"
   ]
  },
  {
   "cell_type": "code",
   "execution_count": 71,
   "metadata": {
    "collapsed": false
   },
   "outputs": [
    {
     "data": {
      "text/plain": [
       "'TGG'"
      ]
     },
     "execution_count": 71,
     "metadata": {},
     "output_type": "execute_result"
    }
   ],
   "source": [
    "complement('ACC')"
   ]
  },
  {
   "cell_type": "code",
   "execution_count": 72,
   "metadata": {
    "collapsed": false
   },
   "outputs": [
    {
     "data": {
      "text/plain": [
       "'TGG'"
      ]
     },
     "execution_count": 72,
     "metadata": {},
     "output_type": "execute_result"
    }
   ],
   "source": [
    "complements = 42\n",
    "complement('ACC')"
   ]
  },
  {
   "cell_type": "markdown",
   "metadata": {},
   "source": [
    "Now we've got solid functions for reverse and complement. We've tested them independently, so now let's put them together in another function"
   ]
  },
  {
   "cell_type": "code",
   "execution_count": 73,
   "metadata": {
    "collapsed": true
   },
   "outputs": [],
   "source": [
    "def reverse_complement(seq):\n",
    "    return reverse(complement(seq))\n"
   ]
  },
  {
   "cell_type": "code",
   "execution_count": 74,
   "metadata": {
    "collapsed": false
   },
   "outputs": [
    {
     "data": {
      "text/plain": [
       "'TTGG'"
      ]
     },
     "execution_count": 74,
     "metadata": {},
     "output_type": "execute_result"
    }
   ],
   "source": [
    "reverse_complement('CCAA')"
   ]
  },
  {
   "cell_type": "markdown",
   "metadata": {},
   "source": [
    "**Exercise slide in presentation**"
   ]
  },
  {
   "cell_type": "markdown",
   "metadata": {
    "collapsed": true
   },
   "source": [
    "**Summary slide in presentation**"
   ]
  },
  {
   "cell_type": "markdown",
   "metadata": {},
   "source": [
    "### Working with Files"
   ]
  },
  {
   "cell_type": "markdown",
   "metadata": {},
   "source": [
    "When working with real-world data, it will typically be in a file, and **not** in your code. Fortunately, Python has functions to read files. These work with simple text files, and if you need to handle images or other binary formats, there ar elibraries that can help with that.\n",
    "\n",
    "Sequence data is typically in stored text files, like fasta. So let's walk through reading one of those."
   ]
  },
  {
   "cell_type": "markdown",
   "metadata": {},
   "source": [
    "## Open and close\n",
    "\n",
    "When you use a word processor or spreadsheet, you open files, work with them, and then close them when you're done. In python, you do the same thing."
   ]
  },
  {
   "cell_type": "code",
   "execution_count": 77,
   "metadata": {
    "collapsed": false
   },
   "outputs": [
    {
     "name": "stdout",
     "output_type": "stream",
     "text": [
      ">lcl|AE014075.1_gene_2 [locus_tag=c0002] [location=534..911]\n",
      "\n",
      "GTGTTCTACAGAGAGAAGCGTAGAGCAATAGGCTGTATTTTGAGAAAGCTGTGTGAGTGGAAAAGTGTAC\n",
      "\n",
      "GGATTCTGGAAGCTGAATGCTGTGCAGATCATATCCATATGCTTGTGGAGATCCCGCCCAAAATGAGCGT\n",
      "\n",
      "ATCAGGCTTTATGGGATATCTGAAAGGGAAAAGCAGTCTGATGCCTTACGAGCAGTTTGGTGATTTGAAA\n",
      "\n",
      "TTCAAATACAGGAACAGGGAGTTCTGGTGCAGAGGGTATTACGTCGATACGGTGGGTAAGAACACGGCGA\n",
      "\n",
      "\n",
      "\n"
     ]
    }
   ],
   "source": [
    "f = open('ae.fa')\n",
    "for line in f:\n",
    "    print line\n",
    "f.close()"
   ]
  },
  {
   "cell_type": "markdown",
   "metadata": {},
   "source": [
    "### Reading lines\n",
    "\n",
    "When we work with text files, we read them line by line in a loop. Each line of text from the file is set into our loop variable, and we print it out from the loop.\n",
    "\n",
    "You'll probably notice that we have a blank line in between each line from the file. This is because the line actually includes the `\\n` newline character at the end. Now that's actually **in** the file, but if we know we have the whole line, we can strip that off with the `strip()` function.\n"
   ]
  },
  {
   "cell_type": "code",
   "execution_count": 78,
   "metadata": {
    "collapsed": false
   },
   "outputs": [
    {
     "name": "stdout",
     "output_type": "stream",
     "text": [
      ">lcl|AE014075.1_gene_2 [locus_tag=c0002] [location=534..911]\n",
      "GTGTTCTACAGAGAGAAGCGTAGAGCAATAGGCTGTATTTTGAGAAAGCTGTGTGAGTGGAAAAGTGTAC\n",
      "GGATTCTGGAAGCTGAATGCTGTGCAGATCATATCCATATGCTTGTGGAGATCCCGCCCAAAATGAGCGT\n",
      "ATCAGGCTTTATGGGATATCTGAAAGGGAAAAGCAGTCTGATGCCTTACGAGCAGTTTGGTGATTTGAAA\n",
      "TTCAAATACAGGAACAGGGAGTTCTGGTGCAGAGGGTATTACGTCGATACGGTGGGTAAGAACACGGCGA\n",
      "\n"
     ]
    }
   ],
   "source": [
    "f = open('ae.fa')\n",
    "for line in f:\n",
    "    line = line.strip()\n",
    "    print line\n",
    "f.close()"
   ]
  },
  {
   "cell_type": "markdown",
   "metadata": {},
   "source": [
    "**Exercise in presentation**"
   ]
  },
  {
   "cell_type": "code",
   "execution_count": 79,
   "metadata": {
    "collapsed": true
   },
   "outputs": [],
   "source": [
    "def read_fasta(filename):\n",
    "    sequence = ''\n",
    "    f = open(filename)\n",
    "    for line in f:\n",
    "        line = line.strip()\n",
    "        if not '>' in line:\n",
    "            # Append to the last sequence\n",
    "            sequence = sequence + line\n",
    "    f.close()\n",
    "    return sequence\n"
   ]
  },
  {
   "cell_type": "code",
   "execution_count": 80,
   "metadata": {
    "collapsed": false
   },
   "outputs": [
    {
     "name": "stdout",
     "output_type": "stream",
     "text": [
      "GTGTTCTACAGAGAGAAGCGTAGAGCAATAGGCTGTATTTTGAGAAAGCTGTGTGAGTGGAAAAGTGTACGGATTCTGGAAGCTGAATGCTGTGCAGATCATATCCATATGCTTGTGGAGATCCCGCCCAAAATGAGCGTATCAGGCTTTATGGGATATCTGAAAGGGAAAAGCAGTCTGATGCCTTACGAGCAGTTTGGTGATTTGAAATTCAAATACAGGAACAGGGAGTTCTGGTGCAGAGGGTATTACGTCGATACGGTGGGTAAGAACACGGCGA\n"
     ]
    }
   ],
   "source": [
    "print read_fasta('ae.fa')"
   ]
  },
  {
   "cell_type": "code",
   "execution_count": 81,
   "metadata": {
    "collapsed": false
   },
   "outputs": [
    {
     "name": "stdout",
     "output_type": "stream",
     "text": [
      "TCGCCGTGTTCTTACCCACCGTATCGACGTAATACCCTCTGCACCAGAACTCCCTGTTCCTGTATTTGAATTTCAAATCACCAAACTGCTCGTAAGGCATCAGACTGCTTTTCCCTTTCAGATATCCCATAAAGCCTGATACGCTCATTTTGGGCGGGATCTCCACAAGCATATGGATATGATCTGCACAGCATTCAGCTTCCAGAATCCGTACACTTTTCCACTCACACAGCTTTCTCAAAATACAGCCTATTGCTCTACGCTTCTCTCTGTAGAACAC\n"
     ]
    }
   ],
   "source": [
    "print reverse_complement(read_fasta('ae.fa'))"
   ]
  },
  {
   "cell_type": "markdown",
   "metadata": {},
   "source": [
    "## Scripts"
   ]
  },
  {
   "cell_type": "markdown",
   "metadata": {},
   "source": [
    "We've done a good job of organizing our code into functions here, but we've only been running them from this notebook. So next, we're going to take our code and put it in a script - starting with the `read_sequence` function.\n"
   ]
  },
  {
   "cell_type": "markdown",
   "metadata": {},
   "source": [
    "This is going to be very familiar, since we're doing the same thing we did in bash, just with a different language!"
   ]
  },
  {
   "cell_type": "markdown",
   "metadata": {},
   "source": [
    "`$ nano read_fasta.py`"
   ]
  },
  {
   "cell_type": "code",
   "execution_count": 5,
   "metadata": {
    "collapsed": false
   },
   "outputs": [
    {
     "name": "stdout",
     "output_type": "stream",
     "text": [
      "Overwriting read_fasta_v1.py\n"
     ]
    }
   ],
   "source": [
    "%%writefile read_fasta_v1.py\n",
    "def read_fasta(filename):\n",
    "    sequence = ''\n",
    "    f = open(filename)\n",
    "    for line in f:\n",
    "        line = line.strip()\n",
    "        if not '>' in line:\n",
    "            # Append to the last sequence\n",
    "            sequence = sequence + line\n",
    "    f.close()\n",
    "    return sequence\n",
    "\n",
    "print read_fasta('ae.fa')\n"
   ]
  },
  {
   "cell_type": "code",
   "execution_count": 6,
   "metadata": {
    "collapsed": false
   },
   "outputs": [
    {
     "name": "stdout",
     "output_type": "stream",
     "text": [
      "Overwriting read_fasta_v2.py\n"
     ]
    }
   ],
   "source": [
    "%%writefile read_fasta_v2.py\n",
    "import sys\n",
    "\n",
    "def read_fasta(filename):\n",
    "    sequence = ''\n",
    "    f = open(filename)\n",
    "    for line in f:\n",
    "        line = line.strip()\n",
    "        if not '>' in line:\n",
    "            # Append to the last sequence\n",
    "            sequence = sequence + line\n",
    "    f.close()\n",
    "    return sequence\n",
    "\n",
    "print read_fasta(sys.argv[1])\n"
   ]
  },
  {
   "cell_type": "code",
   "execution_count": 7,
   "metadata": {
    "collapsed": false
   },
   "outputs": [
    {
     "name": "stdout",
     "output_type": "stream",
     "text": [
      "Writing read_fasta_v3.py\n"
     ]
    }
   ],
   "source": [
    "%%writefile read_fasta_v3.py\n",
    "import sys\n",
    "\n",
    "def read_fasta(filename):\n",
    "    sequence = ''\n",
    "    f = open(filename)\n",
    "    for line in f:\n",
    "        line = line.strip()\n",
    "        if not '>' in line:\n",
    "            # Append to the last sequence\n",
    "            sequence = sequence + line\n",
    "    f.close()\n",
    "    return sequence\n",
    "\n",
    "if len(sys.argv) < 2:\n",
    "    print 'Usage:', sys.argv[0], '<sequence.fa>'\n",
    "    exit(1)\n",
    "\n",
    "print read_fasta(sys.argv[1])\n"
   ]
  },
  {
   "cell_type": "markdown",
   "metadata": {},
   "source": [
    "`$ python read_fasta.py`"
   ]
  },
  {
   "cell_type": "markdown",
   "metadata": {},
   "source": [
    "Our script reads our `ae.fa` file every time we run it, but we know most programs don't work that way. The programs we used in bash expected a data file as an *argument*, and that's a good convention for programs we write too.\n",
    "\n",
    "In Python, our program can get these arguments, but we have to load a library to access them. Google it!\n",
    "\n",
    "`import sys`\n",
    "\n",
    "https://docs.python.org/2/library/sys.html\n",
    "\n",
    "Libraries are incredibly useful - there are libraries for working with numeric and scientific data, generating plots, fetching data from the web, working with image and document files, databases, etc. And of course, there's a library for getting things like your script's command-line arguments.\n",
    "\n",
    "So, let's change our `read_fasta.py` program slightly\n",
    "\n",
    "    import sys\n",
    "    read_fasta(sys.argv[1])\n",
    "\n",
    "And run it. But what happens if we don't have a file name\n",
    "\n",
    "    if len(sys.argv) < 2:\n",
    "        print 'Usage:', sys.argv[0], '<sequence.fa>'\n",
    "        exit(1)\n"
   ]
  },
  {
   "cell_type": "markdown",
   "metadata": {},
   "source": [
    "**Summary slide in presentation**"
   ]
  },
  {
   "cell_type": "markdown",
   "metadata": {},
   "source": [
    "## Putting it all together\n",
    "\n",
    "Advanced functions and plotting"
   ]
  },
  {
   "cell_type": "code",
   "execution_count": 84,
   "metadata": {
    "collapsed": true
   },
   "outputs": [],
   "source": [
    "def read_fasta_dict(filename):\n",
    "    \"\"\"\n",
    "    Reads sequences from a fasta file, and returns a dictionary that maps the \n",
    "    sequence description (key) to the sequence (value) \n",
    "    \n",
    "    For example:\n",
    "    \n",
    "    >seq1\n",
    "    AACCGG\n",
    "    >seq2\n",
    "    CCTTTG\n",
    "    \n",
    "    would result in {'seq1':'AACCGG','seq2':'CCTTG'}\n",
    "    \n",
    "    \"\"\"\n",
    "    sequences = {}\n",
    "    f = open(filename)\n",
    "    for line in f:\n",
    "        line = line.strip()\n",
    "        if '>' in line:\n",
    "            sequence_name = line # Need to keep track of the name since \"line\" will change next time\n",
    "            sequences[sequence_name] = ''\n",
    "        else:\n",
    "            # Append to the last sequence\n",
    "            sequences[sequence_name] = sequences[sequence_name] + line\n",
    "    f.close()\n",
    "    return sequences\n"
   ]
  },
  {
   "cell_type": "markdown",
   "metadata": {},
   "source": [
    "Below is an improved version of `gc_content_percentage` that uses string functions `count` and `len` to simplify the counting"
   ]
  },
  {
   "cell_type": "code",
   "execution_count": 85,
   "metadata": {
    "collapsed": true
   },
   "outputs": [],
   "source": [
    "def gc_content_percent(sequence):\n",
    "    \"\"\"\n",
    "    Calculates the GC-content percentage of the input sequence\n",
    "    Returns the percentage as an integer out of 100\n",
    "    \"\"\"\n",
    "    gc = sequence.count('G') + sequence.count('C')\n",
    "    atcg = len(sequence)\n",
    "    percent_gc = (gc * 100) / atcg\n",
    "    return percent_gc\n"
   ]
  },
  {
   "cell_type": "code",
   "execution_count": 86,
   "metadata": {
    "collapsed": false
   },
   "outputs": [
    {
     "name": "stdout",
     "output_type": "stream",
     "text": [
      "50\n"
     ]
    }
   ],
   "source": [
    "print gc_content_percent('GAAC')"
   ]
  },
  {
   "cell_type": "code",
   "execution_count": 87,
   "metadata": {
    "collapsed": false
   },
   "outputs": [
    {
     "data": {
      "text/plain": [
       "{'>lcl|AE014075.1_gene_2 [locus_tag=c0002] [location=534..911]': 'GTGTTCTACAGAGAGAAGCGTAGAGCAATAGGCTGTATTTTGAGAAAGCTGTGTGAGTGGAAAAGTGTACGGATTCTGGAAGCTGAATGCTGTGCAGATCATATCCATATGCTTGTGGAGATCCCGCCCAAAATGAGCGTATCAGGCTTTATGGGATATCTGAAAGGGAAAAGCAGTCTGATGCCTTACGAGCAGTTTGGTGATTTGAAATTCAAATACAGGAACAGGGAGTTCTGGTGCAGAGGGTATTACGTCGATACGGTGGGTAAGAACACGGCGA'}"
      ]
     },
     "execution_count": 87,
     "metadata": {},
     "output_type": "execute_result"
    }
   ],
   "source": [
    "read_fasta_dict('ae.fa')"
   ]
  },
  {
   "cell_type": "code",
   "execution_count": 88,
   "metadata": {
    "collapsed": false
   },
   "outputs": [],
   "source": [
    "orchids = read_fasta_dict('ls_orchid.fasta')"
   ]
  },
  {
   "cell_type": "code",
   "execution_count": 89,
   "metadata": {
    "collapsed": false
   },
   "outputs": [],
   "source": [
    "lengths, gc_contents = list(), list()\n",
    "for k,v in orchids.items():\n",
    "    lengths.append(len(v))\n",
    "    gc_contents.append(gc_content_percent(v))\n"
   ]
  },
  {
   "cell_type": "code",
   "execution_count": 1,
   "metadata": {
    "collapsed": false
   },
   "outputs": [
    {
     "name": "stdout",
     "output_type": "stream",
     "text": [
      "Overwriting fasta_gc.py\n"
     ]
    }
   ],
   "source": [
    "%%writefile fasta_gc.py\n",
    "# fasta_gc.py\n",
    "#\n",
    "# Reads a fasta file and prints out the GC content percentage of each sequence\n",
    "# in the file\n",
    "#\n",
    "# Usage: python fasta_gc.py sequences.fa\n",
    "#\n",
    "\n",
    "import sys\n",
    "\n",
    "def read_fasta_dict(filename):\n",
    "    \"\"\"\n",
    "    Reads sequences from a fasta file, and returns a dictionary that maps the \n",
    "    sequence description (key) to the sequence (value) \n",
    "    \n",
    "    For example:\n",
    "    \n",
    "    >seq1\n",
    "    AACCGG\n",
    "    >seq2\n",
    "    CCTTTG\n",
    "    \n",
    "    would result in {'seq1':'AACCGG','seq2':'CCTTG'}\n",
    "    \n",
    "    \"\"\"\n",
    "    sequences = {}\n",
    "    f = open(filename)\n",
    "    for line in f:\n",
    "        line = line.strip()\n",
    "        if '>' in line:\n",
    "            sequence_name = line # Need to keep track of the name since \"line\" will change next time\n",
    "            sequences[sequence_name] = ''\n",
    "        else:\n",
    "            # Append to the last sequence\n",
    "            sequences[sequence_name] = sequences[sequence_name] + line\n",
    "    f.close()\n",
    "    return sequences\n",
    "\n",
    "def gc_content_percent(sequence):\n",
    "    \"\"\"\n",
    "    Calculates the GC-content percentage of the input sequence\n",
    "    Returns the percentage as an integer out of 100\n",
    "    \"\"\"\n",
    "    gc = sequence.count('G') + sequence.count('C')\n",
    "    atcg = len(sequence)\n",
    "    percent_gc = (gc * 100) / atcg\n",
    "    return percent_gc\n",
    "\n",
    "def classify_percent(percent):\n",
    "    if percent < 35:\n",
    "        classification = 'Low'\n",
    "    elif percent < 55:\n",
    "        classification = 'Normal'\n",
    "    else:\n",
    "        classification = 'High'\n",
    "    return classification\n",
    "\n",
    "def main():\n",
    "    # Make sure we have a file name\n",
    "    if len(sys.argv) < 2:\n",
    "        print 'Usage: python', sys.argv[0], '<sequences.fa>'\n",
    "        exit(1)\n",
    "\n",
    "    filename = sys.argv[1]\n",
    "\n",
    "    # Read the sequences into a dictionary\n",
    "    sequences = read_fasta_dict(filename)\n",
    "\n",
    "    # Loop over the keys (sequence names) in the dictionary\n",
    "    for name in sequences:\n",
    "        sequence = sequences[name]\n",
    "        percent = gc_content_percent(sequence)\n",
    "        classification = classify_percent(percent)\n",
    "        print percent, classification, name\n",
    "\n",
    "main()"
   ]
  },
  {
   "cell_type": "markdown",
   "metadata": {},
   "source": [
    "## Plotting"
   ]
  },
  {
   "cell_type": "markdown",
   "metadata": {},
   "source": [
    "The most popular library for plotting in Python is `matplotlib`, and it's integrated into the notebook here, so you can see your plots inline"
   ]
  },
  {
   "cell_type": "code",
   "execution_count": 91,
   "metadata": {
    "collapsed": true
   },
   "outputs": [],
   "source": [
    "import matplotlib\n",
    "import matplotlib.pyplot as plt"
   ]
  },
  {
   "cell_type": "code",
   "execution_count": 92,
   "metadata": {
    "collapsed": true
   },
   "outputs": [],
   "source": [
    "%matplotlib inline"
   ]
  },
  {
   "cell_type": "code",
   "execution_count": 93,
   "metadata": {
    "collapsed": false
   },
   "outputs": [
    {
     "data": {
      "text/plain": [
       "<matplotlib.text.Text at 0x10f093850>"
      ]
     },
     "execution_count": 93,
     "metadata": {},
     "output_type": "execute_result"
    },
    {
     "data": {
      "image/png": "[encoded data removed]",
      "text/plain": [
       "<matplotlib.figure.Figure at 0x10cc67850>"
      ]
     },
     "metadata": {},
     "output_type": "display_data"
    }
   ],
   "source": [
    "plt.plot(sorted(gc_contents))\n",
    "plt.xlabel('Genes')\n",
    "plt.ylabel('GC%')\n",
    "plt.title(str(len(gc_contents)) + ' orchid sequences')"
   ]
  },
  {
   "cell_type": "code",
   "execution_count": 94,
   "metadata": {
    "collapsed": false
   },
   "outputs": [],
   "source": [
    "%matplotlib inline"
   ]
  },
  {
   "cell_type": "code",
   "execution_count": 95,
   "metadata": {
    "collapsed": false
   },
   "outputs": [
    {
     "data": {
      "text/plain": [
       "<matplotlib.text.Text at 0x10cc67550>"
      ]
     },
     "execution_count": 95,
     "metadata": {},
     "output_type": "execute_result"
    },
    {
     "data": {
      "image/png": "[encoded data removed]",
      "text/plain": [
       "<matplotlib.figure.Figure at 0x10f05b210>"
      ]
     },
     "metadata": {},
     "output_type": "display_data"
    }
   ],
   "source": [
    "plt.hist(lengths, bins=20)\n",
    "plt.xlabel('Sequence length (bp)')\n",
    "plt.ylabel('Count')\n",
    "plt.title(str(len(gc_contents)) + ' orchid sequences')"
   ]
  },
  {
   "cell_type": "code",
   "execution_count": null,
   "metadata": {
    "collapsed": true
   },
   "outputs": [],
   "source": []
  }
 ],
 "metadata": {
  "anaconda-cloud": {},
  "kernelspec": {
   "display_name": "Python [default]",
   "language": "python",
   "name": "python2"
  },
  "language_info": {
   "codemirror_mode": {
    "name": "ipython",
    "version": 2
   },
   "file_extension": ".py",
   "mimetype": "text/x-python",
   "name": "python",
   "nbconvert_exporter": "python",
   "pygments_lexer": "ipython2",
   "version": "2.7.12"
  }
 },
 "nbformat": 4,
 "nbformat_minor": 0
}
