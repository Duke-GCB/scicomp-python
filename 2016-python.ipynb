{
 "cells": [
  {
   "cell_type": "markdown",
   "metadata": {
    "slideshow": {
     "slide_type": "slide"
    }
   },
   "source": [
    "# Programming with Python\n",
    "\n",
    "Derived from [Novice Python lesson using Python 2.7 - Copyright © Software Carpentry](https://github.com/swcarpentry/python-novice-inflammation-2.7) "
   ]
  },
  {
   "cell_type": "markdown",
   "metadata": {
    "slideshow": {
     "slide_type": "fragment"
    }
   },
   "source": [
    "Programming is hard. Expectations & Takeaways\n"
   ]
  },
  {
   "cell_type": "markdown",
   "metadata": {
    "slideshow": {
     "slide_type": "slide"
    }
   },
   "source": [
    "How many books about riding a bike did you read?\n",
    "\n",
    "[What Riding A Bike Has To Do With Learning Programming](http://twonontechies.com/bicycles-can-help-you-learn-programming/)\n",
    "\n",
    "> You can be a scientist in the science of bike ride mechanics and it still won’t help you one bit to do the actual thing."
   ]
  },
  {
   "cell_type": "markdown",
   "metadata": {
    "slideshow": {
     "slide_type": "slide"
    }
   },
   "source": [
    "The best way to learn how to program is to do something useful,\n",
    "so this introduction to Python is built around a common scientific task:\n",
    "data analysis.\n",
    "\n",
    "Our real goal isn't to teach you Python,\n",
    "but to teach you the basic concepts that all programming depends on.\n",
    "We use Python in our lessons because:\n",
    "\n",
    "1.  we have to use *something* for examples;\n",
    "2.  it's free, well-documented, and runs almost everywhere;\n",
    "3.  it has a large (and growing) user base among scientists; and\n",
    "4.  experience shows that it's easier for novices to pick up than most other languages.\n",
    "\n",
    "But the two most important things are\n",
    "to use whatever language your colleagues are using,\n",
    "so that you can share your work with them easily,\n",
    "and to use that language *well*."
   ]
  },
  {
   "cell_type": "markdown",
   "metadata": {
    "slideshow": {
     "slide_type": "slide"
    }
   },
   "source": [
    "We learned some programming earlier today, using `bash` to work with collections of files and ask some simple questions about files. `bash` is great for generally gluing commands together, but a language like python can offer more specialization when it comes to working with data. With python, you can:\n",
    "\n",
    "* Write programs that understand and represent numbers, collections, and other complex data types\n",
    "* Use existing tools (libraries) for fetching, processing, analyzing, and visualizing data\n",
    "* Automate these operations, share, and publish\n",
    "\n",
    "The example data for this lesson is going to be some DNA sequence data. We're going to write some programs that \n",
    "\n",
    "* understand sequence data\n",
    "* tell us some basic information about that data (length, count)\n",
    "* perform operations on that data (reverse complement)\n",
    "* make plots of our data (GC content)\n",
    "* work on common file formats (fasta)\n",
    "\n",
    "To do all that, we'll have to learn a little bit about programming."
   ]
  },
  {
   "cell_type": "markdown",
   "metadata": {
    "slideshow": {
     "slide_type": "slide"
    }
   },
   "source": [
    "# tktktk (update this)\n",
    "\n",
    "## Prerequisites\n",
    "\n",
    "Learners need to understand the concepts of files and directories\n",
    "(including the working directory) and how to start the Jupyter Notebook\n",
    "interpreter before tackling this lesson. This lesson references the Jupyter (IPython)\n",
    "Notebook although it can be taught through any Python interpreter.\n",
    "The commands in this lesson pertain to **Python 2**.\n",
    "\n",
    "## Getting started\n",
    "\n",
    "1. Launch **Jupyter Notebook**\n",
    "2. Wait for a web browser to open\n",
    "![jupyter home](fig/jupyter-notebook-start.png)"
   ]
  },
  {
   "cell_type": "markdown",
   "metadata": {
    "slideshow": {
     "slide_type": "slide"
    }
   },
   "source": [
    "## 01-Warmup: Python & Notebook\n",
    "\n",
    "1. Cells and the notebook toolbar\n",
    "2. Simple arithmetic\n",
    "3. Printing\n",
    "4. Variables\n"
   ]
  },
  {
   "cell_type": "markdown",
   "metadata": {},
   "source": [
    "These gray boxes are cells. Inside the cells I type code and click the play button to run that code. What's code? Code is telling the computer to do something. Here we're telling the comptuer to add 5 and 3"
   ]
  },
  {
   "cell_type": "code",
   "execution_count": 1,
   "metadata": {
    "collapsed": false
   },
   "outputs": [
    {
     "data": {
      "text/plain": [
       "8"
      ]
     },
     "execution_count": 1,
     "metadata": {},
     "output_type": "execute_result"
    }
   ],
   "source": [
    "5 + 3"
   ]
  },
  {
   "cell_type": "markdown",
   "metadata": {},
   "source": [
    "Here we're telling the computer to show (print) a message"
   ]
  },
  {
   "cell_type": "code",
   "execution_count": 2,
   "metadata": {
    "collapsed": false,
    "scrolled": true
   },
   "outputs": [
    {
     "name": "stdout",
     "output_type": "stream",
     "text": [
      "Hello, World\n"
     ]
    }
   ],
   "source": [
    "print \"Hello, World\""
   ]
  },
  {
   "cell_type": "markdown",
   "metadata": {},
   "source": [
    "We don't have to print the message directly, we can store it in a variable and then print the variable."
   ]
  },
  {
   "cell_type": "code",
   "execution_count": 3,
   "metadata": {
    "collapsed": false
   },
   "outputs": [
    {
     "name": "stdout",
     "output_type": "stream",
     "text": [
      "Aloha\n"
     ]
    }
   ],
   "source": [
    "greeting = \"Aloha\"\n",
    "print greeting"
   ]
  },
  {
   "cell_type": "markdown",
   "metadata": {},
   "source": [
    "And we can print multiple things by inserting commas. So let's all greet ourselves:"
   ]
  },
  {
   "cell_type": "code",
   "execution_count": 7,
   "metadata": {
    "collapsed": false
   },
   "outputs": [
    {
     "name": "stdout",
     "output_type": "stream",
     "text": [
      "Hello Dan !\n"
     ]
    }
   ],
   "source": [
    "name = \"Dan\"\n",
    "print \"Hello\", name, \"!\""
   ]
  },
  {
   "cell_type": "markdown",
   "metadata": {},
   "source": [
    "Remember, we can work with numbers too"
   ]
  },
  {
   "cell_type": "code",
   "execution_count": 12,
   "metadata": {
    "collapsed": false
   },
   "outputs": [
    {
     "name": "stdout",
     "output_type": "stream",
     "text": [
      "My daughter is 3 years old\n",
      "Next year she will be 4\n"
     ]
    }
   ],
   "source": [
    "age = 3\n",
    "print \"My daughter is\", age, \"years old\"\n",
    "age = age + 1\n",
    "print \"Next year she will be\", age"
   ]
  },
  {
   "cell_type": "markdown",
   "metadata": {
    "collapsed": true
   },
   "source": [
    "## 02-Data"
   ]
  },
  {
   "cell_type": "code",
   "execution_count": null,
   "metadata": {
    "collapsed": true
   },
   "outputs": [],
   "source": []
  }
 ],
 "metadata": {
  "anaconda-cloud": {},
  "kernelspec": {
   "display_name": "Python [Root]",
   "language": "python",
   "name": "Python [Root]"
  },
  "language_info": {
   "codemirror_mode": {
    "name": "ipython",
    "version": 2
   },
   "file_extension": ".py",
   "mimetype": "text/x-python",
   "name": "python",
   "nbconvert_exporter": "python",
   "pygments_lexer": "ipython2",
   "version": "2.7.12"
  }
 },
 "nbformat": 4,
 "nbformat_minor": 0
}
