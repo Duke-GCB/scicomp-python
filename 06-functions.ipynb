{
 "cells": [
  {
   "cell_type": "markdown",
   "metadata": {},
   "source": [
    "# Creating Functions\n",
    "\n",
    "## Learning Objectives\n",
    "\n",
    "*   Define a function that takes parameters.\n",
    "*   Return a value from a function.\n",
    "*   Test and debug a function.\n",
    "*   Set default values for function parameters.\n",
    "*   Explain why we should divide programs into small, single-purpose functions.\n",
    "\n",
    "At this point,\n",
    "we've written code to draw some interesting features in our bed file data,\n",
    "loop over all our data files to quickly draw these plots for each of them,\n",
    "and have Python make decisions based on what it sees in our data.\n",
    "But, our code is getting pretty long and complicated;\n",
    "what if we had thousands of datasets,\n",
    "and didn't want to generate a figure for every single one?\n",
    "\n",
    "Commenting out the figure-drawing code is a nuisance.\n",
    "Also, what if we want to use that code again,\n",
    "on a different dataset or at a different point in our program?\n",
    "Cutting and pasting it is going to make our code get very long and very repetative,\n",
    "very quickly.\n",
    "\n",
    "We'd like a way to package our code so that it is easier to reuse,\n",
    "and Python provides for this by letting us define things called 'functions' -\n",
    "a shorthand way of re-executing longer pieces of code."
   ]
  },
  {
   "cell_type": "markdown",
   "metadata": {},
   "source": [
    "Let's start by defining a function `fahr_to_kelvin` that converts temperatures from Fahrenheit to Kelvin:"
   ]
  },
  {
   "cell_type": "code",
   "execution_count": 1,
   "metadata": {
    "collapsed": true
   },
   "outputs": [],
   "source": [
    "def fahr_to_kelvin(temp):\n",
    "    return ((temp - 32) * (5/9)) + 273.15"
   ]
  },
  {
   "cell_type": "markdown",
   "metadata": {},
   "source": [
    "The function definition opens with the word `def`,\n",
    "which is followed by the name of the function\n",
    "and a parenthesized list of parameter names.\n",
    "The [body](reference.html#function-body) of the function --- the\n",
    "statements that are executed when it runs --- is indented below the definition line,\n",
    "typically by four spaces.\n",
    "\n",
    "When we call the function,\n",
    "the values we pass to it are assigned to those variables\n",
    "so that we can use them inside the function.\n",
    "Inside the function,\n",
    "we use a [return statement](reference.html#return-statement) to send a result back to whoever asked for it.\n",
    "\n",
    "Let's try running our function.\n",
    "Calling our own function is no different from calling any other function:"
   ]
  },
  {
   "cell_type": "code",
   "execution_count": 2,
   "metadata": {
    "collapsed": false
   },
   "outputs": [
    {
     "name": "stdout",
     "output_type": "stream",
     "text": [
      "freezing point of water: 273.15\n",
      "boiling point of water: 273.15\n"
     ]
    }
   ],
   "source": [
    "print 'freezing point of water:', fahr_to_kelvin(32)\n",
    "print 'boiling point of water:', fahr_to_kelvin(212)"
   ]
  },
  {
   "cell_type": "markdown",
   "metadata": {},
   "source": [
    "We've successfully called the function that we defined,\n",
    "and we have access to the value that we returned.\n",
    "Unfortunately, the value returned doesn't look right.\n",
    "What went wrong?"
   ]
  },
  {
   "cell_type": "markdown",
   "metadata": {},
   "source": [
    "## Debugging a Function\n",
    "\n",
    "*Debugging* is when we fix a piece of code\n",
    "that we know is working incorrectly.\n",
    "In this case, we know that `fahr_to_kelvin`\n",
    "is giving us the wrong answer,\n",
    "so let's find out why.\n",
    "\n",
    "For big pieces of code,\n",
    "there are tools called *debuggers* that aid in this process.\n",
    "Since we just have a short function,\n",
    "we'll debug by choosing some parameter value,\n",
    "breaking our function into small parts,\n",
    "and printing out the value of each part."
   ]
  },
  {
   "cell_type": "code",
   "execution_count": 3,
   "metadata": {
    "collapsed": false
   },
   "outputs": [
    {
     "name": "stdout",
     "output_type": "stream",
     "text": [
      "212 - 32: 180\n"
     ]
    }
   ],
   "source": [
    "# We'll use temp = 212, the boiling point of water, which was incorrect\n",
    "print \"212 - 32:\", 212 - 32"
   ]
  },
  {
   "cell_type": "code",
   "execution_count": 4,
   "metadata": {
    "collapsed": false
   },
   "outputs": [
    {
     "name": "stdout",
     "output_type": "stream",
     "text": [
      "(212 - 32) * (5/9): 0\n"
     ]
    }
   ],
   "source": [
    "print \"(212 - 32) * (5/9):\", (212 - 32) * (5/9)"
   ]
  },
  {
   "cell_type": "markdown",
   "metadata": {},
   "source": [
    "Aha! The problem comes when we multiply by `5/9`.\n",
    "This is because `5/9` is actually 0."
   ]
  },
  {
   "cell_type": "code",
   "execution_count": 5,
   "metadata": {
    "collapsed": false
   },
   "outputs": [
    {
     "data": {
      "text/plain": [
       "0"
      ]
     },
     "execution_count": 5,
     "metadata": {},
     "output_type": "execute_result"
    }
   ],
   "source": [
    "5/9"
   ]
  },
  {
   "cell_type": "markdown",
   "metadata": {},
   "source": [
    "Computers store numbers in one of two ways:\n",
    "as [integers](reference.html#integer)\n",
    "or as [floating-point numbers](reference.html#floating-point-number) (or floats).\n",
    "The first are the numbers we usually count with;\n",
    "the second have fractional parts.\n",
    "Addition, subtraction and multiplication work on both as we'd expect,\n",
    "but division works differently.\n",
    "If we divide one integer by another,\n",
    "we get the quotient without the remainder:"
   ]
  },
  {
   "cell_type": "code",
   "execution_count": 6,
   "metadata": {
    "collapsed": false
   },
   "outputs": [
    {
     "name": "stdout",
     "output_type": "stream",
     "text": [
      "10/3 is: 3\n"
     ]
    }
   ],
   "source": [
    "print '10/3 is:', 10/3"
   ]
  },
  {
   "cell_type": "markdown",
   "metadata": {},
   "source": [
    "If either part of the division is a float,\n",
    "on the other hand,\n",
    "the computer creates a floating-point answer:"
   ]
  },
  {
   "cell_type": "code",
   "execution_count": 7,
   "metadata": {
    "collapsed": false
   },
   "outputs": [
    {
     "name": "stdout",
     "output_type": "stream",
     "text": [
      "10.0/3 is: 3.33333333333\n"
     ]
    }
   ],
   "source": [
    "print '10.0/3 is:', 10.0/3\n"
   ]
  },
  {
   "cell_type": "markdown",
   "metadata": {},
   "source": [
    "The computer does this for historical reasons:\n",
    "integer operations were much faster on early machines,\n",
    "and this behavior is actually useful in a lot of situations.\n",
    "It's still confusing,\n",
    "though,\n",
    "so Python 3 produces a floating-point answer when dividing integers if it needs to.\n",
    "We're still using Python 2.7 in this class,\n",
    "though,\n",
    "so if we want `5/9` to give us the right answer,\n",
    "we have to write it as `5.0/9`, `5/9.0`, or some other variation.\n",
    "\n",
    "Another way to create a floating-point answer\n",
    "is to explicitly tell the computer that you desire one.\n",
    "This is achieved by [casting](reference.html#typecast) one of the numbers:"
   ]
  },
  {
   "cell_type": "code",
   "execution_count": 8,
   "metadata": {
    "collapsed": false
   },
   "outputs": [
    {
     "name": "stdout",
     "output_type": "stream",
     "text": [
      "float(10)/3 is: 3.33333333333\n"
     ]
    }
   ],
   "source": [
    "print 'float(10)/3 is:', float(10)/3"
   ]
  },
  {
   "cell_type": "markdown",
   "metadata": {},
   "source": [
    "The advantage to this method is it can be used with existing variables.\n",
    "Let's take a look:"
   ]
  },
  {
   "cell_type": "code",
   "execution_count": 9,
   "metadata": {
    "collapsed": false
   },
   "outputs": [
    {
     "name": "stdout",
     "output_type": "stream",
     "text": [
      "a/b is: 3\n",
      "float(a)/b is: 3.33333333333\n"
     ]
    }
   ],
   "source": [
    "a = 10\n",
    "b = 3\n",
    "print 'a/b is:', a/b\n",
    "print 'float(a)/b is:', float(a)/b\n"
   ]
  },
  {
   "cell_type": "markdown",
   "metadata": {},
   "source": [
    "Let's fix our `fahr_to_kelvin` function with this new knowledge:"
   ]
  },
  {
   "cell_type": "code",
   "execution_count": 10,
   "metadata": {
    "collapsed": false
   },
   "outputs": [
    {
     "name": "stdout",
     "output_type": "stream",
     "text": [
      "freezing point of water: 273.15\n",
      "boiling point of water: 373.15\n"
     ]
    }
   ],
   "source": [
    "def fahr_to_kelvin(temp):\n",
    "    return ((temp - 32) * (5.0/9.0)) + 273.15\n",
    "\n",
    "print 'freezing point of water:', fahr_to_kelvin(32)\n",
    "print 'boiling point of water:', fahr_to_kelvin(212)"
   ]
  },
  {
   "cell_type": "markdown",
   "metadata": {},
   "source": [
    "## Composing Functions\n",
    "\n",
    "Now that we've seen how to turn Fahrenheit into Kelvin,\n",
    "it's easy to turn Kelvin into Celsius:"
   ]
  },
  {
   "cell_type": "code",
   "execution_count": 11,
   "metadata": {
    "collapsed": false
   },
   "outputs": [
    {
     "name": "stdout",
     "output_type": "stream",
     "text": [
      "absolute zero in Celsius: -273.15\n"
     ]
    }
   ],
   "source": [
    "def kelvin_to_celsius(temp):\n",
    "    return temp - 273.15\n",
    "\n",
    "print 'absolute zero in Celsius:', kelvin_to_celsius(0.0)\n"
   ]
  },
  {
   "cell_type": "markdown",
   "metadata": {},
   "source": [
    "What about converting Fahrenheit to Celsius?\n",
    "We could write out the formula,\n",
    "but we don't need to.\n",
    "Instead,\n",
    "we can [compose](reference.html#function-composition) the two functions we have already created:"
   ]
  },
  {
   "cell_type": "code",
   "execution_count": 12,
   "metadata": {
    "collapsed": false
   },
   "outputs": [
    {
     "name": "stdout",
     "output_type": "stream",
     "text": [
      "freezing point of water in Celsius: 0.0\n"
     ]
    }
   ],
   "source": [
    "def fahr_to_celsius(temp):\n",
    "    temp_k = fahr_to_kelvin(temp)\n",
    "    result = kelvin_to_celsius(temp_k)\n",
    "    return result\n",
    "\n",
    "print 'freezing point of water in Celsius:', fahr_to_celsius(32.0)"
   ]
  },
  {
   "cell_type": "markdown",
   "metadata": {},
   "source": [
    "This is our first taste of how larger programs are built:\n",
    "we define basic operations,\n",
    "then combine them in ever-large chunks to get the effect we want.\n",
    "Real-life functions will usually be larger than the ones shown here --- typically half a dozen to a few dozen lines --- but\n",
    "they shouldn't ever be much longer than that,\n",
    "or the next person who reads it won't be able to understand what's going on."
   ]
  },
  {
   "cell_type": "markdown",
   "metadata": {},
   "source": [
    "## Tidying up\n",
    "\n",
    "Now that we know how to wrap bits of code up in functions,\n",
    "we can make our inflammation analyasis easier to read and easier to reuse.\n",
    "First, let's make an `analyze` function that generates our plots:"
   ]
  },
  {
   "cell_type": "code",
   "execution_count": 13,
   "metadata": {
    "collapsed": true
   },
   "outputs": [],
   "source": [
    "import pandas"
   ]
  },
  {
   "cell_type": "code",
   "execution_count": 14,
   "metadata": {
    "collapsed": true
   },
   "outputs": [],
   "source": [
    "def analyze(filename):\n",
    "    data = pandas.read_table(filename, header=None)\n",
    "    data.columns = ['chrom','chromStart','chromEnd','name','score','strand','level','signif','score2']\n",
    "    data.groupby('chrom').mean().plot(kind='bar',y='score', ylim=[0,250], title=f, figsize=(10,5))"
   ]
  },
  {
   "cell_type": "markdown",
   "metadata": {},
   "source": [
    "and another function called `detect_problems` that checks for those systematics\n",
    "we noticed:"
   ]
  },
  {
   "cell_type": "code",
   "execution_count": 15,
   "metadata": {
    "collapsed": true
   },
   "outputs": [],
   "source": [
    "def detect_problems(filename):\n",
    "    data = pandas.read_table(filename, header=None)\n",
    "    data.columns = ['chrom','chromStart','chromEnd','name','score','strand','level','signif','score2']\n",
    "    if data['score2'].min() < 1 and data['score'].min() > 0:\n",
    "        print 'Suspicious data!'\n",
    "    elif data.loc[data['chrom'] == 'chrM']['score'].mean() > 200:\n",
    "        print 'High scores on chrM!'\n",
    "    else:\n",
    "        print 'Seems OK!'   "
   ]
  },
  {
   "cell_type": "markdown",
   "metadata": {},
   "source": [
    "Notice that rather than jumbling this code together in one giant `for` loop,\n",
    "we can now read and reuse both ideas separately.\n",
    "We can reproduce the previous analysis with a much simpler `for` loop:"
   ]
  },
  {
   "cell_type": "code",
   "execution_count": 16,
   "metadata": {
    "collapsed": false
   },
   "outputs": [
    {
     "name": "stdout",
     "output_type": "stream",
     "text": [
      "data/A549.bed\n",
      "High scores on chrM!\n"
     ]
    }
   ],
   "source": [
    "import glob\n",
    "filenames = glob.glob('data/*.bed')\n",
    "for f in filenames[:3]:\n",
    "    print f\n",
    "    analyze(f)\n",
    "    detect_problems(f)\n"
   ]
  },
  {
   "cell_type": "markdown",
   "metadata": {},
   "source": [
    "By giving our functions human-readable names,\n",
    "we can more easily read and understand what is happening in the `for` loop.\n",
    "Even better, if at some later date we want to use either of those pieces of code again,\n",
    "we can do so in a single line."
   ]
  },
  {
   "cell_type": "markdown",
   "metadata": {},
   "source": [
    "## Testing and Documenting\n",
    "\n",
    "Once we start putting things in functions so that we can re-use them,\n",
    "we need to start testing that those functions are working correctly.\n",
    "To see how to do this,"
   ]
  },
  {
   "cell_type": "markdown",
   "metadata": {},
   "source": [
    "let's write a function to center a column of data (a series) around a particular value:"
   ]
  },
  {
   "cell_type": "code",
   "execution_count": 17,
   "metadata": {
    "collapsed": true
   },
   "outputs": [],
   "source": [
    "def center_series(series, desired):\n",
    "    return (series - series.mean()) + desired"
   ]
  },
  {
   "cell_type": "markdown",
   "metadata": {},
   "source": [
    "We could test this on our actual data,\n",
    "but since we don't know what the values ought to be,\n",
    "it will be hard to tell if the result was correct.\n",
    "Instead,\n",
    "let's use Pandas to create a Series of 0's\n",
    "and then center that around 3:"
   ]
  },
  {
   "cell_type": "code",
   "execution_count": 18,
   "metadata": {
    "collapsed": false
   },
   "outputs": [
    {
     "data": {
      "text/plain": [
       "0    3\n",
       "1    3\n",
       "2    3\n",
       "3    3\n",
       "Name: zeroes, dtype: float64"
      ]
     },
     "execution_count": 18,
     "metadata": {},
     "output_type": "execute_result"
    }
   ],
   "source": [
    "series = pandas.Series([0,0,0,0], name='zeroes')\n",
    "center_series(series, 3)"
   ]
  },
  {
   "cell_type": "markdown",
   "metadata": {},
   "source": [
    "That looks right,\n",
    "so let's try `center_series` on the **score** column from our real data:"
   ]
  },
  {
   "cell_type": "code",
   "execution_count": 35,
   "metadata": {
    "collapsed": false
   },
   "outputs": [
    {
     "data": {
      "text/plain": [
       "0    -64.395554\n",
       "1    -61.395554\n",
       "2     -8.395554\n",
       "3    -60.395554\n",
       "4    933.604446\n",
       "Name: score, dtype: float64"
      ]
     },
     "execution_count": 35,
     "metadata": {},
     "output_type": "execute_result"
    }
   ],
   "source": [
    "import pandas\n",
    "data = pandas.read_table('data/A549.bed', header=None)\n",
    "cols = ['chrom','chromStart','chromEnd','name','score','strand','level','signif','score2']\n",
    "data.columns = cols\n",
    "score = data['score']\n",
    "center_series(score, 0)\n"
   ]
  },
  {
   "cell_type": "markdown",
   "metadata": {},
   "source": [
    "It's hard to tell from the default output whether the result is correct,\n",
    "but there are a few simple tests that will reassure us:"
   ]
  },
  {
   "cell_type": "code",
   "execution_count": 20,
   "metadata": {
    "collapsed": false
   },
   "outputs": [
    {
     "name": "stdout",
     "output_type": "stream",
     "text": [
      "original min, mean, and max are: 0 66.395553809 1000\n",
      "min, mean, and and max of centered data are: -66.395553809 4.88911480585e-14 933.604446191\n"
     ]
    }
   ],
   "source": [
    "print 'original min, mean, and max are:', score.min(), score.mean(), score.max()\n",
    "centered = center_series(score, 0)\n",
    "print 'min, mean, and and max of centered data are:', centered.min(), centered.mean(), centered.max()"
   ]
  },
  {
   "cell_type": "markdown",
   "metadata": {},
   "source": [
    "That seems almost right:\n",
    "the original mean was about 66.4\n",
    "so the lower bound from zero is now about -66.4.\n",
    "The mean of the centered data isn't quite zero --- we'll explore why not in the challenges --- but it's pretty close.\n",
    "We can even go further and check that the standard deviation hasn't changed:"
   ]
  },
  {
   "cell_type": "code",
   "execution_count": 21,
   "metadata": {
    "collapsed": false
   },
   "outputs": [
    {
     "name": "stdout",
     "output_type": "stream",
     "text": [
      "std dev before and after: 182.96723548 182.96723548\n"
     ]
    }
   ],
   "source": [
    "print 'std dev before and after:', score.std(), centered.std()"
   ]
  },
  {
   "cell_type": "markdown",
   "metadata": {},
   "source": [
    "Those values look the same,\n",
    "but we probably wouldn't notice if they were different in the sixth decimal place.\n",
    "Let's do this instead:"
   ]
  },
  {
   "cell_type": "code",
   "execution_count": 22,
   "metadata": {
    "collapsed": false
   },
   "outputs": [
    {
     "name": "stdout",
     "output_type": "stream",
     "text": [
      "difference in standard deviations before and after: 0.0\n"
     ]
    }
   ],
   "source": [
    "print 'difference in standard deviations before and after:', score.std() - centered.std()"
   ]
  },
  {
   "cell_type": "markdown",
   "metadata": {},
   "source": [
    "We have one more task, though:\n",
    "we should write some [documentation](reference.html#documentation) for our function\n",
    "to remind ourselves later what it's for and how to use it.\n",
    "\n",
    "The usual way to put documentation in software is to add [comments](reference.html#comment) like this:"
   ]
  },
  {
   "cell_type": "code",
   "execution_count": 23,
   "metadata": {
    "collapsed": true
   },
   "outputs": [],
   "source": [
    "# center(series, desired): return a new series containing the original data centered around the desired value.\n",
    "def center_series(series, desired):\n",
    "    return (series - series.mean()) + desired\n"
   ]
  },
  {
   "cell_type": "markdown",
   "metadata": {},
   "source": [
    "There's a better way, though.\n",
    "If the first thing in a function is a string that isn't assigned to a variable,\n",
    "that string is attached to the function as its documentation:"
   ]
  },
  {
   "cell_type": "code",
   "execution_count": 24,
   "metadata": {
    "collapsed": true
   },
   "outputs": [],
   "source": [
    "def center_series(series, desired):\n",
    "    '''Return a new series containing the original data centered around the desired value.'''\n",
    "    return (series - series.mean()) + desired\n"
   ]
  },
  {
   "cell_type": "markdown",
   "metadata": {},
   "source": [
    "This is better because we can now ask Python's built-in help system to show us the documentation for the function:"
   ]
  },
  {
   "cell_type": "code",
   "execution_count": 25,
   "metadata": {
    "collapsed": false
   },
   "outputs": [
    {
     "name": "stdout",
     "output_type": "stream",
     "text": [
      "Help on function center_series in module __main__:\n",
      "\n",
      "center_series(series, desired)\n",
      "    Return a new series containing the original data centered around the desired value.\n",
      "\n"
     ]
    }
   ],
   "source": [
    "help(center_series)"
   ]
  },
  {
   "cell_type": "markdown",
   "metadata": {},
   "source": [
    "A string like this is called a [docstring](reference.html#docstring).\n",
    "We don't need to use triple quotes when we write one,\n",
    "but if we do,\n",
    "we can break the string across multiple lines:"
   ]
  },
  {
   "cell_type": "code",
   "execution_count": 26,
   "metadata": {
    "collapsed": false
   },
   "outputs": [],
   "source": [
    "def center_series(series, desired):\n",
    "    '''Return a new series containing the original data centered around the desired value.\n",
    "    Example: center_series(pandas.Series(data=[1, 2, 3]), 0) => [-1, 0, 1]'''\n",
    "    return (series - series.mean()) + desired\n"
   ]
  },
  {
   "cell_type": "code",
   "execution_count": 27,
   "metadata": {
    "collapsed": false
   },
   "outputs": [
    {
     "data": {
      "text/plain": [
       "0    0\n",
       "1    0\n",
       "2    0\n",
       "3    0\n",
       "Name: zeroes, dtype: int64"
      ]
     },
     "execution_count": 27,
     "metadata": {},
     "output_type": "execute_result"
    }
   ],
   "source": [
    "pandas.Series(data=[0,0,0,0],name='zeroes')"
   ]
  },
  {
   "cell_type": "markdown",
   "metadata": {},
   "source": [
    "## Defining Defaults\n",
    "\n",
    "We have passed parameters to functions in two ways:\n",
    "directly, as in `type(data)`,\n",
    "\n",
    "and by name, as in `pandas.read_table('data/A549.bed', header=None)`\n",
    "But if we try to use this without the `header=`:"
   ]
  },
  {
   "cell_type": "code",
   "execution_count": 28,
   "metadata": {
    "collapsed": false
   },
   "outputs": [
    {
     "name": "stderr",
     "output_type": "stream",
     "text": [
      "/Users/dcl9/anaconda/lib/python2.7/site-packages/pandas/io/parsers.py:648: ParserWarning: Falling back to the 'python' engine because the 'c' engine does not support sep=None with delim_whitespace=False; you can avoid this warning by specifying engine='python'.\n",
      "  ParserWarning)\n"
     ]
    },
    {
     "data": {
      "text/html": [
       "<div>\n",
       "<table border=\"1\" class=\"dataframe\">\n",
       "  <thead>\n",
       "    <tr style=\"text-align: right;\">\n",
       "      <th></th>\n",
       "      <th>chr10</th>\n",
       "      <th>100023307</th>\n",
       "      <th>100023327</th>\n",
       "      <th>chr10:100023307-100023327(unannotated)</th>\n",
       "      <th>2</th>\n",
       "      <th>-</th>\n",
       "      <th>2.34</th>\n",
       "      <th>0.205</th>\n",
       "      <th>3</th>\n",
       "    </tr>\n",
       "  </thead>\n",
       "  <tbody>\n",
       "    <tr>\n",
       "      <th>0</th>\n",
       "      <td>chr10</td>\n",
       "      <td>100082171</td>\n",
       "      <td>100082191</td>\n",
       "      <td>chr10:100082171-100082191(unannotated)</td>\n",
       "      <td>5</td>\n",
       "      <td>-</td>\n",
       "      <td>4.69</td>\n",
       "      <td>0.138</td>\n",
       "      <td>6</td>\n",
       "    </tr>\n",
       "    <tr>\n",
       "      <th>1</th>\n",
       "      <td>chr10</td>\n",
       "      <td>100082171</td>\n",
       "      <td>100082191</td>\n",
       "      <td>chr10:100082171-100082191(unannotated)</td>\n",
       "      <td>58</td>\n",
       "      <td>+</td>\n",
       "      <td>57.83</td>\n",
       "      <td>0.106</td>\n",
       "      <td>74</td>\n",
       "    </tr>\n",
       "    <tr>\n",
       "      <th>2</th>\n",
       "      <td>chr10</td>\n",
       "      <td>100152747</td>\n",
       "      <td>100152764</td>\n",
       "      <td>chr10:100152747-100152764(unannotated)</td>\n",
       "      <td>6</td>\n",
       "      <td>+</td>\n",
       "      <td>5.52</td>\n",
       "      <td>0.120</td>\n",
       "      <td>6</td>\n",
       "    </tr>\n",
       "    <tr>\n",
       "      <th>3</th>\n",
       "      <td>chr10</td>\n",
       "      <td>100155026</td>\n",
       "      <td>100155049</td>\n",
       "      <td>chr10:100155026-100155049(miRNA|processed_tran...</td>\n",
       "      <td>1000</td>\n",
       "      <td>-</td>\n",
       "      <td>2744.14</td>\n",
       "      <td>0.007</td>\n",
       "      <td>4038</td>\n",
       "    </tr>\n",
       "    <tr>\n",
       "      <th>4</th>\n",
       "      <td>chr10</td>\n",
       "      <td>100206760</td>\n",
       "      <td>100206783</td>\n",
       "      <td>chr10:100206760-100206783(unannotated)</td>\n",
       "      <td>7</td>\n",
       "      <td>+</td>\n",
       "      <td>7.48</td>\n",
       "      <td>0.120</td>\n",
       "      <td>11</td>\n",
       "    </tr>\n",
       "    <tr>\n",
       "      <th>5</th>\n",
       "      <td>chr10</td>\n",
       "      <td>100246530</td>\n",
       "      <td>100246555</td>\n",
       "      <td>chr10:100246530-100246555(unannotated)</td>\n",
       "      <td>6</td>\n",
       "      <td>+</td>\n",
       "      <td>5.63</td>\n",
       "      <td>0.138</td>\n",
       "      <td>9</td>\n",
       "    </tr>\n",
       "    <tr>\n",
       "      <th>6</th>\n",
       "      <td>chr10</td>\n",
       "      <td>1008275</td>\n",
       "      <td>1008291</td>\n",
       "      <td>chr10:1008275-1008291(unannotated)</td>\n",
       "      <td>9</td>\n",
       "      <td>+</td>\n",
       "      <td>8.79</td>\n",
       "      <td>0.106</td>\n",
       "      <td>9</td>\n",
       "    </tr>\n",
       "    <tr>\n",
       "      <th>7</th>\n",
       "      <td>chr10</td>\n",
       "      <td>101128603</td>\n",
       "      <td>101128622</td>\n",
       "      <td>chr10:101128603-101128622(unannotated)</td>\n",
       "      <td>5</td>\n",
       "      <td>+</td>\n",
       "      <td>4.94</td>\n",
       "      <td>0.138</td>\n",
       "      <td>6</td>\n",
       "    </tr>\n",
       "    <tr>\n",
       "      <th>8</th>\n",
       "      <td>chr10</td>\n",
       "      <td>101155393</td>\n",
       "      <td>101155409</td>\n",
       "      <td>chr10:101155393-101155409(unannotated)</td>\n",
       "      <td>13</td>\n",
       "      <td>-</td>\n",
       "      <td>12.70</td>\n",
       "      <td>0.081</td>\n",
       "      <td>13</td>\n",
       "    </tr>\n",
       "    <tr>\n",
       "      <th>9</th>\n",
       "      <td>chr10</td>\n",
       "      <td>101157821</td>\n",
       "      <td>101157840</td>\n",
       "      <td>chr10:101157821-101157840(unannotated)</td>\n",
       "      <td>49</td>\n",
       "      <td>+</td>\n",
       "      <td>49.36</td>\n",
       "      <td>0.205</td>\n",
       "      <td>60</td>\n",
       "    </tr>\n",
       "    <tr>\n",
       "      <th>10</th>\n",
       "      <td>chr10</td>\n",
       "      <td>101198813</td>\n",
       "      <td>101198869</td>\n",
       "      <td>chr10:101198813-101198869(unannotated)</td>\n",
       "      <td>22</td>\n",
       "      <td>+</td>\n",
       "      <td>22.05</td>\n",
       "      <td>0.017</td>\n",
       "      <td>79</td>\n",
       "    </tr>\n",
       "    <tr>\n",
       "      <th>11</th>\n",
       "      <td>chr10</td>\n",
       "      <td>101287244</td>\n",
       "      <td>101287261</td>\n",
       "      <td>chr10:101287244-101287261(unannotated)</td>\n",
       "      <td>3</td>\n",
       "      <td>-</td>\n",
       "      <td>2.76</td>\n",
       "      <td>0.205</td>\n",
       "      <td>3</td>\n",
       "    </tr>\n",
       "    <tr>\n",
       "      <th>12</th>\n",
       "      <td>chr10</td>\n",
       "      <td>101300295</td>\n",
       "      <td>101300324</td>\n",
       "      <td>chr10:101300295-101300324(unannotated)</td>\n",
       "      <td>6</td>\n",
       "      <td>+</td>\n",
       "      <td>6.47</td>\n",
       "      <td>0.120</td>\n",
       "      <td>12</td>\n",
       "    </tr>\n",
       "    <tr>\n",
       "      <th>13</th>\n",
       "      <td>chr10</td>\n",
       "      <td>101329642</td>\n",
       "      <td>101329676</td>\n",
       "      <td>chr10:101329642-101329676(unannotated)</td>\n",
       "      <td>49</td>\n",
       "      <td>-</td>\n",
       "      <td>48.73</td>\n",
       "      <td>0.017</td>\n",
       "      <td>106</td>\n",
       "    </tr>\n",
       "    <tr>\n",
       "      <th>14</th>\n",
       "      <td>chr10</td>\n",
       "      <td>101492062</td>\n",
       "      <td>101492086</td>\n",
       "      <td>chr10:101492062-101492086(nonsense_mediated_de...</td>\n",
       "      <td>7</td>\n",
       "      <td>+</td>\n",
       "      <td>7.16</td>\n",
       "      <td>0.280</td>\n",
       "      <td>11</td>\n",
       "    </tr>\n",
       "    <tr>\n",
       "      <th>15</th>\n",
       "      <td>chr10</td>\n",
       "      <td>101557635</td>\n",
       "      <td>101557664</td>\n",
       "      <td>chr10:101557635-101557664(protein_coding)</td>\n",
       "      <td>14</td>\n",
       "      <td>+</td>\n",
       "      <td>14.01</td>\n",
       "      <td>0.205</td>\n",
       "      <td>26</td>\n",
       "    </tr>\n",
       "    <tr>\n",
       "      <th>16</th>\n",
       "      <td>chr10</td>\n",
       "      <td>101565174</td>\n",
       "      <td>101565204</td>\n",
       "      <td>chr10:101565174-101565204(protein_coding)</td>\n",
       "      <td>11</td>\n",
       "      <td>+</td>\n",
       "      <td>11.46</td>\n",
       "      <td>0.280</td>\n",
       "      <td>22</td>\n",
       "    </tr>\n",
       "    <tr>\n",
       "      <th>17</th>\n",
       "      <td>chr10</td>\n",
       "      <td>101578476</td>\n",
       "      <td>101578546</td>\n",
       "      <td>chr10:101578476-101578546(unannotated)</td>\n",
       "      <td>8</td>\n",
       "      <td>+</td>\n",
       "      <td>8.04</td>\n",
       "      <td>0.164</td>\n",
       "      <td>36</td>\n",
       "    </tr>\n",
       "    <tr>\n",
       "      <th>18</th>\n",
       "      <td>chr10</td>\n",
       "      <td>101671986</td>\n",
       "      <td>101672006</td>\n",
       "      <td>chr10:101671986-101672006(unannotated)</td>\n",
       "      <td>2</td>\n",
       "      <td>-</td>\n",
       "      <td>2.34</td>\n",
       "      <td>0.280</td>\n",
       "      <td>3</td>\n",
       "    </tr>\n",
       "    <tr>\n",
       "      <th>19</th>\n",
       "      <td>chr10</td>\n",
       "      <td>101683552</td>\n",
       "      <td>101683571</td>\n",
       "      <td>chr10:101683552-101683571(unannotated)</td>\n",
       "      <td>21</td>\n",
       "      <td>-</td>\n",
       "      <td>21.39</td>\n",
       "      <td>0.096</td>\n",
       "      <td>26</td>\n",
       "    </tr>\n",
       "    <tr>\n",
       "      <th>20</th>\n",
       "      <td>chr10</td>\n",
       "      <td>101688463</td>\n",
       "      <td>101688497</td>\n",
       "      <td>chr10:101688463-101688497(unannotated)</td>\n",
       "      <td>1000</td>\n",
       "      <td>-</td>\n",
       "      <td>2213.07</td>\n",
       "      <td>0.008</td>\n",
       "      <td>4814</td>\n",
       "    </tr>\n",
       "    <tr>\n",
       "      <th>21</th>\n",
       "      <td>chr10</td>\n",
       "      <td>101731856</td>\n",
       "      <td>101731875</td>\n",
       "      <td>chr10:101731856-101731875(protein_coding)</td>\n",
       "      <td>3</td>\n",
       "      <td>-</td>\n",
       "      <td>3.29</td>\n",
       "      <td>0.280</td>\n",
       "      <td>4</td>\n",
       "    </tr>\n",
       "    <tr>\n",
       "      <th>22</th>\n",
       "      <td>chr10</td>\n",
       "      <td>101803630</td>\n",
       "      <td>101803649</td>\n",
       "      <td>chr10:101803630-101803649(unannotated)</td>\n",
       "      <td>2</td>\n",
       "      <td>-</td>\n",
       "      <td>2.47</td>\n",
       "      <td>0.205</td>\n",
       "      <td>3</td>\n",
       "    </tr>\n",
       "    <tr>\n",
       "      <th>23</th>\n",
       "      <td>chr10</td>\n",
       "      <td>101945951</td>\n",
       "      <td>101945976</td>\n",
       "      <td>chr10:101945951-101945976(unannotated)</td>\n",
       "      <td>14</td>\n",
       "      <td>+</td>\n",
       "      <td>14.38</td>\n",
       "      <td>0.280</td>\n",
       "      <td>23</td>\n",
       "    </tr>\n",
       "    <tr>\n",
       "      <th>24</th>\n",
       "      <td>chr10</td>\n",
       "      <td>101961200</td>\n",
       "      <td>101961219</td>\n",
       "      <td>chr10:101961200-101961219(unannotated)</td>\n",
       "      <td>12</td>\n",
       "      <td>-</td>\n",
       "      <td>11.52</td>\n",
       "      <td>0.062</td>\n",
       "      <td>14</td>\n",
       "    </tr>\n",
       "    <tr>\n",
       "      <th>25</th>\n",
       "      <td>chr10</td>\n",
       "      <td>101996808</td>\n",
       "      <td>101996867</td>\n",
       "      <td>chr10:101996808-101996867(unannotated)</td>\n",
       "      <td>53</td>\n",
       "      <td>-</td>\n",
       "      <td>52.72</td>\n",
       "      <td>0.051</td>\n",
       "      <td>199</td>\n",
       "    </tr>\n",
       "    <tr>\n",
       "      <th>26</th>\n",
       "      <td>chr10</td>\n",
       "      <td>101996962</td>\n",
       "      <td>101997059</td>\n",
       "      <td>chr10:101996962-101997059(snoRNA)</td>\n",
       "      <td>10</td>\n",
       "      <td>-</td>\n",
       "      <td>10.15</td>\n",
       "      <td>0.038</td>\n",
       "      <td>63</td>\n",
       "    </tr>\n",
       "    <tr>\n",
       "      <th>27</th>\n",
       "      <td>chr10</td>\n",
       "      <td>102011811</td>\n",
       "      <td>102011829</td>\n",
       "      <td>chr10:102011811-102011829(unannotated)</td>\n",
       "      <td>26</td>\n",
       "      <td>+</td>\n",
       "      <td>26.05</td>\n",
       "      <td>0.036</td>\n",
       "      <td>30</td>\n",
       "    </tr>\n",
       "    <tr>\n",
       "      <th>28</th>\n",
       "      <td>chr10</td>\n",
       "      <td>102116321</td>\n",
       "      <td>102116523</td>\n",
       "      <td>chr10:102116321-102116523(unannotated)</td>\n",
       "      <td>4</td>\n",
       "      <td>-</td>\n",
       "      <td>3.71</td>\n",
       "      <td>0.120</td>\n",
       "      <td>48</td>\n",
       "    </tr>\n",
       "    <tr>\n",
       "      <th>29</th>\n",
       "      <td>chr10</td>\n",
       "      <td>102121889</td>\n",
       "      <td>102122076</td>\n",
       "      <td>chr10:102121889-102122076(unannotated)</td>\n",
       "      <td>3</td>\n",
       "      <td>-</td>\n",
       "      <td>2.84</td>\n",
       "      <td>0.280</td>\n",
       "      <td>34</td>\n",
       "    </tr>\n",
       "    <tr>\n",
       "      <th>...</th>\n",
       "      <td>...</td>\n",
       "      <td>...</td>\n",
       "      <td>...</td>\n",
       "      <td>...</td>\n",
       "      <td>...</td>\n",
       "      <td>...</td>\n",
       "      <td>...</td>\n",
       "      <td>...</td>\n",
       "      <td>...</td>\n",
       "    </tr>\n",
       "    <tr>\n",
       "      <th>17782</th>\n",
       "      <td>chrY</td>\n",
       "      <td>16776348</td>\n",
       "      <td>16776372</td>\n",
       "      <td>chrY:16776348-16776372(unannotated)</td>\n",
       "      <td>26</td>\n",
       "      <td>-</td>\n",
       "      <td>26.05</td>\n",
       "      <td>0.059</td>\n",
       "      <td>40</td>\n",
       "    </tr>\n",
       "    <tr>\n",
       "      <th>17783</th>\n",
       "      <td>chrY</td>\n",
       "      <td>16811019</td>\n",
       "      <td>16811041</td>\n",
       "      <td>chrY:16811019-16811041(unannotated)</td>\n",
       "      <td>90</td>\n",
       "      <td>+</td>\n",
       "      <td>89.52</td>\n",
       "      <td>0.081</td>\n",
       "      <td>126</td>\n",
       "    </tr>\n",
       "    <tr>\n",
       "      <th>17784</th>\n",
       "      <td>chrY</td>\n",
       "      <td>17355759</td>\n",
       "      <td>17355775</td>\n",
       "      <td>chrY:17355759-17355775(unannotated)</td>\n",
       "      <td>47</td>\n",
       "      <td>-</td>\n",
       "      <td>46.89</td>\n",
       "      <td>0.205</td>\n",
       "      <td>48</td>\n",
       "    </tr>\n",
       "    <tr>\n",
       "      <th>17785</th>\n",
       "      <td>chrY</td>\n",
       "      <td>17973478</td>\n",
       "      <td>17973494</td>\n",
       "      <td>chrY:17973478-17973494(unannotated)</td>\n",
       "      <td>3</td>\n",
       "      <td>-</td>\n",
       "      <td>2.93</td>\n",
       "      <td>0.280</td>\n",
       "      <td>3</td>\n",
       "    </tr>\n",
       "    <tr>\n",
       "      <th>17786</th>\n",
       "      <td>chrY</td>\n",
       "      <td>17982084</td>\n",
       "      <td>17982102</td>\n",
       "      <td>chrY:17982084-17982102(unannotated)</td>\n",
       "      <td>3</td>\n",
       "      <td>+</td>\n",
       "      <td>3.47</td>\n",
       "      <td>0.280</td>\n",
       "      <td>4</td>\n",
       "    </tr>\n",
       "    <tr>\n",
       "      <th>17787</th>\n",
       "      <td>chrY</td>\n",
       "      <td>18982551</td>\n",
       "      <td>18982619</td>\n",
       "      <td>chrY:18982551-18982619(unannotated)</td>\n",
       "      <td>0</td>\n",
       "      <td>-</td>\n",
       "      <td>0.46</td>\n",
       "      <td>0.280</td>\n",
       "      <td>2</td>\n",
       "    </tr>\n",
       "    <tr>\n",
       "      <th>17788</th>\n",
       "      <td>chrY</td>\n",
       "      <td>21042683</td>\n",
       "      <td>21042706</td>\n",
       "      <td>chrY:21042683-21042706(unannotated)</td>\n",
       "      <td>2</td>\n",
       "      <td>+</td>\n",
       "      <td>2.04</td>\n",
       "      <td>0.205</td>\n",
       "      <td>3</td>\n",
       "    </tr>\n",
       "    <tr>\n",
       "      <th>17789</th>\n",
       "      <td>chrY</td>\n",
       "      <td>21697305</td>\n",
       "      <td>21697349</td>\n",
       "      <td>chrY:21697305-21697349(unannotated)</td>\n",
       "      <td>6</td>\n",
       "      <td>-</td>\n",
       "      <td>6.04</td>\n",
       "      <td>0.280</td>\n",
       "      <td>17</td>\n",
       "    </tr>\n",
       "    <tr>\n",
       "      <th>17790</th>\n",
       "      <td>chrY</td>\n",
       "      <td>21703757</td>\n",
       "      <td>21703773</td>\n",
       "      <td>chrY:21703757-21703773(unannotated)</td>\n",
       "      <td>110</td>\n",
       "      <td>+</td>\n",
       "      <td>110.39</td>\n",
       "      <td>0.096</td>\n",
       "      <td>113</td>\n",
       "    </tr>\n",
       "    <tr>\n",
       "      <th>17791</th>\n",
       "      <td>chrY</td>\n",
       "      <td>22015639</td>\n",
       "      <td>22015656</td>\n",
       "      <td>chrY:22015639-22015656(unannotated)</td>\n",
       "      <td>7</td>\n",
       "      <td>-</td>\n",
       "      <td>7.36</td>\n",
       "      <td>0.138</td>\n",
       "      <td>8</td>\n",
       "    </tr>\n",
       "    <tr>\n",
       "      <th>17792</th>\n",
       "      <td>chrY</td>\n",
       "      <td>22033209</td>\n",
       "      <td>22033232</td>\n",
       "      <td>chrY:22033209-22033232(unannotated)</td>\n",
       "      <td>9</td>\n",
       "      <td>-</td>\n",
       "      <td>8.83</td>\n",
       "      <td>0.096</td>\n",
       "      <td>13</td>\n",
       "    </tr>\n",
       "    <tr>\n",
       "      <th>17793</th>\n",
       "      <td>chrY</td>\n",
       "      <td>3111156</td>\n",
       "      <td>3111177</td>\n",
       "      <td>chrY:3111156-3111177(unannotated)</td>\n",
       "      <td>115</td>\n",
       "      <td>+</td>\n",
       "      <td>115.37</td>\n",
       "      <td>0.044</td>\n",
       "      <td>155</td>\n",
       "    </tr>\n",
       "    <tr>\n",
       "      <th>17794</th>\n",
       "      <td>chrY</td>\n",
       "      <td>3235814</td>\n",
       "      <td>3235869</td>\n",
       "      <td>chrY:3235814-3235869(unannotated)</td>\n",
       "      <td>1000</td>\n",
       "      <td>+</td>\n",
       "      <td>8193.98</td>\n",
       "      <td>0.004</td>\n",
       "      <td>28833</td>\n",
       "    </tr>\n",
       "    <tr>\n",
       "      <th>17795</th>\n",
       "      <td>chrY</td>\n",
       "      <td>3267268</td>\n",
       "      <td>3267287</td>\n",
       "      <td>chrY:3267268-3267287(unannotated)</td>\n",
       "      <td>8</td>\n",
       "      <td>+</td>\n",
       "      <td>8.23</td>\n",
       "      <td>0.081</td>\n",
       "      <td>10</td>\n",
       "    </tr>\n",
       "    <tr>\n",
       "      <th>17796</th>\n",
       "      <td>chrY</td>\n",
       "      <td>3775023</td>\n",
       "      <td>3775040</td>\n",
       "      <td>chrY:3775023-3775040(unannotated)</td>\n",
       "      <td>15</td>\n",
       "      <td>-</td>\n",
       "      <td>14.71</td>\n",
       "      <td>0.056</td>\n",
       "      <td>16</td>\n",
       "    </tr>\n",
       "    <tr>\n",
       "      <th>17797</th>\n",
       "      <td>chrY</td>\n",
       "      <td>4212820</td>\n",
       "      <td>4212873</td>\n",
       "      <td>chrY:4212820-4212873(unannotated)</td>\n",
       "      <td>10</td>\n",
       "      <td>-</td>\n",
       "      <td>10.32</td>\n",
       "      <td>0.280</td>\n",
       "      <td>35</td>\n",
       "    </tr>\n",
       "    <tr>\n",
       "      <th>17798</th>\n",
       "      <td>chrY</td>\n",
       "      <td>4474179</td>\n",
       "      <td>4474203</td>\n",
       "      <td>chrY:4474179-4474203(unannotated)</td>\n",
       "      <td>5</td>\n",
       "      <td>+</td>\n",
       "      <td>4.56</td>\n",
       "      <td>0.106</td>\n",
       "      <td>7</td>\n",
       "    </tr>\n",
       "    <tr>\n",
       "      <th>17799</th>\n",
       "      <td>chrY</td>\n",
       "      <td>6012916</td>\n",
       "      <td>6012948</td>\n",
       "      <td>chrY:6012916-6012948(unannotated)</td>\n",
       "      <td>5</td>\n",
       "      <td>+</td>\n",
       "      <td>4.88</td>\n",
       "      <td>0.081</td>\n",
       "      <td>10</td>\n",
       "    </tr>\n",
       "    <tr>\n",
       "      <th>17800</th>\n",
       "      <td>chrY</td>\n",
       "      <td>6652257</td>\n",
       "      <td>6652278</td>\n",
       "      <td>chrY:6652257-6652278(unannotated)</td>\n",
       "      <td>3</td>\n",
       "      <td>-</td>\n",
       "      <td>2.98</td>\n",
       "      <td>0.164</td>\n",
       "      <td>4</td>\n",
       "    </tr>\n",
       "    <tr>\n",
       "      <th>17801</th>\n",
       "      <td>chrY</td>\n",
       "      <td>6904933</td>\n",
       "      <td>6904952</td>\n",
       "      <td>chrY:6904933-6904952(unannotated)</td>\n",
       "      <td>23</td>\n",
       "      <td>+</td>\n",
       "      <td>23.03</td>\n",
       "      <td>0.096</td>\n",
       "      <td>28</td>\n",
       "    </tr>\n",
       "    <tr>\n",
       "      <th>17802</th>\n",
       "      <td>chrY</td>\n",
       "      <td>6931205</td>\n",
       "      <td>6931223</td>\n",
       "      <td>chrY:6931205-6931223(unannotated)</td>\n",
       "      <td>61</td>\n",
       "      <td>+</td>\n",
       "      <td>60.78</td>\n",
       "      <td>0.049</td>\n",
       "      <td>70</td>\n",
       "    </tr>\n",
       "    <tr>\n",
       "      <th>17803</th>\n",
       "      <td>chrY</td>\n",
       "      <td>7074443</td>\n",
       "      <td>7074462</td>\n",
       "      <td>chrY:7074443-7074462(unannotated)</td>\n",
       "      <td>29</td>\n",
       "      <td>-</td>\n",
       "      <td>28.79</td>\n",
       "      <td>0.036</td>\n",
       "      <td>35</td>\n",
       "    </tr>\n",
       "    <tr>\n",
       "      <th>17804</th>\n",
       "      <td>chrY</td>\n",
       "      <td>7156349</td>\n",
       "      <td>7156367</td>\n",
       "      <td>chrY:7156349-7156367(unannotated)</td>\n",
       "      <td>57</td>\n",
       "      <td>-</td>\n",
       "      <td>57.31</td>\n",
       "      <td>0.138</td>\n",
       "      <td>66</td>\n",
       "    </tr>\n",
       "    <tr>\n",
       "      <th>17805</th>\n",
       "      <td>chrY</td>\n",
       "      <td>8114995</td>\n",
       "      <td>8115022</td>\n",
       "      <td>chrY:8114995-8115022(unannotated)</td>\n",
       "      <td>303</td>\n",
       "      <td>+</td>\n",
       "      <td>302.76</td>\n",
       "      <td>0.023</td>\n",
       "      <td>523</td>\n",
       "    </tr>\n",
       "    <tr>\n",
       "      <th>17806</th>\n",
       "      <td>chrY</td>\n",
       "      <td>8193870</td>\n",
       "      <td>8193888</td>\n",
       "      <td>chrY:8193870-8193888(unannotated)</td>\n",
       "      <td>43</td>\n",
       "      <td>-</td>\n",
       "      <td>42.55</td>\n",
       "      <td>0.164</td>\n",
       "      <td>49</td>\n",
       "    </tr>\n",
       "    <tr>\n",
       "      <th>17807</th>\n",
       "      <td>chrY</td>\n",
       "      <td>8232024</td>\n",
       "      <td>8232068</td>\n",
       "      <td>chrY:8232024-8232068(Mt_tRNA_pseudogene)</td>\n",
       "      <td>1</td>\n",
       "      <td>-</td>\n",
       "      <td>1.42</td>\n",
       "      <td>0.205</td>\n",
       "      <td>4</td>\n",
       "    </tr>\n",
       "    <tr>\n",
       "      <th>17808</th>\n",
       "      <td>chrY</td>\n",
       "      <td>8310003</td>\n",
       "      <td>8310019</td>\n",
       "      <td>chrY:8310003-8310019(unannotated)</td>\n",
       "      <td>2</td>\n",
       "      <td>-</td>\n",
       "      <td>1.95</td>\n",
       "      <td>0.280</td>\n",
       "      <td>2</td>\n",
       "    </tr>\n",
       "    <tr>\n",
       "      <th>17809</th>\n",
       "      <td>chrY</td>\n",
       "      <td>8624122</td>\n",
       "      <td>8624138</td>\n",
       "      <td>chrY:8624122-8624138(unannotated)</td>\n",
       "      <td>6</td>\n",
       "      <td>-</td>\n",
       "      <td>5.86</td>\n",
       "      <td>0.120</td>\n",
       "      <td>6</td>\n",
       "    </tr>\n",
       "    <tr>\n",
       "      <th>17810</th>\n",
       "      <td>chrY</td>\n",
       "      <td>9954497</td>\n",
       "      <td>9954514</td>\n",
       "      <td>chrY:9954497-9954514(unannotated)</td>\n",
       "      <td>4</td>\n",
       "      <td>+</td>\n",
       "      <td>3.68</td>\n",
       "      <td>0.280</td>\n",
       "      <td>4</td>\n",
       "    </tr>\n",
       "    <tr>\n",
       "      <th>17811</th>\n",
       "      <td>chrY</td>\n",
       "      <td>9989907</td>\n",
       "      <td>9989924</td>\n",
       "      <td>chrY:9989907-9989924(unannotated)</td>\n",
       "      <td>4</td>\n",
       "      <td>-</td>\n",
       "      <td>3.68</td>\n",
       "      <td>0.164</td>\n",
       "      <td>4</td>\n",
       "    </tr>\n",
       "  </tbody>\n",
       "</table>\n",
       "<p>17812 rows × 9 columns</p>\n",
       "</div>"
      ],
      "text/plain": [
       "       chr10  100023307  100023327  \\\n",
       "0      chr10  100082171  100082191   \n",
       "1      chr10  100082171  100082191   \n",
       "2      chr10  100152747  100152764   \n",
       "3      chr10  100155026  100155049   \n",
       "4      chr10  100206760  100206783   \n",
       "5      chr10  100246530  100246555   \n",
       "6      chr10    1008275    1008291   \n",
       "7      chr10  101128603  101128622   \n",
       "8      chr10  101155393  101155409   \n",
       "9      chr10  101157821  101157840   \n",
       "10     chr10  101198813  101198869   \n",
       "11     chr10  101287244  101287261   \n",
       "12     chr10  101300295  101300324   \n",
       "13     chr10  101329642  101329676   \n",
       "14     chr10  101492062  101492086   \n",
       "15     chr10  101557635  101557664   \n",
       "16     chr10  101565174  101565204   \n",
       "17     chr10  101578476  101578546   \n",
       "18     chr10  101671986  101672006   \n",
       "19     chr10  101683552  101683571   \n",
       "20     chr10  101688463  101688497   \n",
       "21     chr10  101731856  101731875   \n",
       "22     chr10  101803630  101803649   \n",
       "23     chr10  101945951  101945976   \n",
       "24     chr10  101961200  101961219   \n",
       "25     chr10  101996808  101996867   \n",
       "26     chr10  101996962  101997059   \n",
       "27     chr10  102011811  102011829   \n",
       "28     chr10  102116321  102116523   \n",
       "29     chr10  102121889  102122076   \n",
       "...      ...        ...        ...   \n",
       "17782   chrY   16776348   16776372   \n",
       "17783   chrY   16811019   16811041   \n",
       "17784   chrY   17355759   17355775   \n",
       "17785   chrY   17973478   17973494   \n",
       "17786   chrY   17982084   17982102   \n",
       "17787   chrY   18982551   18982619   \n",
       "17788   chrY   21042683   21042706   \n",
       "17789   chrY   21697305   21697349   \n",
       "17790   chrY   21703757   21703773   \n",
       "17791   chrY   22015639   22015656   \n",
       "17792   chrY   22033209   22033232   \n",
       "17793   chrY    3111156    3111177   \n",
       "17794   chrY    3235814    3235869   \n",
       "17795   chrY    3267268    3267287   \n",
       "17796   chrY    3775023    3775040   \n",
       "17797   chrY    4212820    4212873   \n",
       "17798   chrY    4474179    4474203   \n",
       "17799   chrY    6012916    6012948   \n",
       "17800   chrY    6652257    6652278   \n",
       "17801   chrY    6904933    6904952   \n",
       "17802   chrY    6931205    6931223   \n",
       "17803   chrY    7074443    7074462   \n",
       "17804   chrY    7156349    7156367   \n",
       "17805   chrY    8114995    8115022   \n",
       "17806   chrY    8193870    8193888   \n",
       "17807   chrY    8232024    8232068   \n",
       "17808   chrY    8310003    8310019   \n",
       "17809   chrY    8624122    8624138   \n",
       "17810   chrY    9954497    9954514   \n",
       "17811   chrY    9989907    9989924   \n",
       "\n",
       "                  chr10:100023307-100023327(unannotated)     2  -     2.34  \\\n",
       "0                 chr10:100082171-100082191(unannotated)     5  -     4.69   \n",
       "1                 chr10:100082171-100082191(unannotated)    58  +    57.83   \n",
       "2                 chr10:100152747-100152764(unannotated)     6  +     5.52   \n",
       "3      chr10:100155026-100155049(miRNA|processed_tran...  1000  -  2744.14   \n",
       "4                 chr10:100206760-100206783(unannotated)     7  +     7.48   \n",
       "5                 chr10:100246530-100246555(unannotated)     6  +     5.63   \n",
       "6                     chr10:1008275-1008291(unannotated)     9  +     8.79   \n",
       "7                 chr10:101128603-101128622(unannotated)     5  +     4.94   \n",
       "8                 chr10:101155393-101155409(unannotated)    13  -    12.70   \n",
       "9                 chr10:101157821-101157840(unannotated)    49  +    49.36   \n",
       "10                chr10:101198813-101198869(unannotated)    22  +    22.05   \n",
       "11                chr10:101287244-101287261(unannotated)     3  -     2.76   \n",
       "12                chr10:101300295-101300324(unannotated)     6  +     6.47   \n",
       "13                chr10:101329642-101329676(unannotated)    49  -    48.73   \n",
       "14     chr10:101492062-101492086(nonsense_mediated_de...     7  +     7.16   \n",
       "15             chr10:101557635-101557664(protein_coding)    14  +    14.01   \n",
       "16             chr10:101565174-101565204(protein_coding)    11  +    11.46   \n",
       "17                chr10:101578476-101578546(unannotated)     8  +     8.04   \n",
       "18                chr10:101671986-101672006(unannotated)     2  -     2.34   \n",
       "19                chr10:101683552-101683571(unannotated)    21  -    21.39   \n",
       "20                chr10:101688463-101688497(unannotated)  1000  -  2213.07   \n",
       "21             chr10:101731856-101731875(protein_coding)     3  -     3.29   \n",
       "22                chr10:101803630-101803649(unannotated)     2  -     2.47   \n",
       "23                chr10:101945951-101945976(unannotated)    14  +    14.38   \n",
       "24                chr10:101961200-101961219(unannotated)    12  -    11.52   \n",
       "25                chr10:101996808-101996867(unannotated)    53  -    52.72   \n",
       "26                     chr10:101996962-101997059(snoRNA)    10  -    10.15   \n",
       "27                chr10:102011811-102011829(unannotated)    26  +    26.05   \n",
       "28                chr10:102116321-102116523(unannotated)     4  -     3.71   \n",
       "29                chr10:102121889-102122076(unannotated)     3  -     2.84   \n",
       "...                                                  ...   ... ..      ...   \n",
       "17782                chrY:16776348-16776372(unannotated)    26  -    26.05   \n",
       "17783                chrY:16811019-16811041(unannotated)    90  +    89.52   \n",
       "17784                chrY:17355759-17355775(unannotated)    47  -    46.89   \n",
       "17785                chrY:17973478-17973494(unannotated)     3  -     2.93   \n",
       "17786                chrY:17982084-17982102(unannotated)     3  +     3.47   \n",
       "17787                chrY:18982551-18982619(unannotated)     0  -     0.46   \n",
       "17788                chrY:21042683-21042706(unannotated)     2  +     2.04   \n",
       "17789                chrY:21697305-21697349(unannotated)     6  -     6.04   \n",
       "17790                chrY:21703757-21703773(unannotated)   110  +   110.39   \n",
       "17791                chrY:22015639-22015656(unannotated)     7  -     7.36   \n",
       "17792                chrY:22033209-22033232(unannotated)     9  -     8.83   \n",
       "17793                  chrY:3111156-3111177(unannotated)   115  +   115.37   \n",
       "17794                  chrY:3235814-3235869(unannotated)  1000  +  8193.98   \n",
       "17795                  chrY:3267268-3267287(unannotated)     8  +     8.23   \n",
       "17796                  chrY:3775023-3775040(unannotated)    15  -    14.71   \n",
       "17797                  chrY:4212820-4212873(unannotated)    10  -    10.32   \n",
       "17798                  chrY:4474179-4474203(unannotated)     5  +     4.56   \n",
       "17799                  chrY:6012916-6012948(unannotated)     5  +     4.88   \n",
       "17800                  chrY:6652257-6652278(unannotated)     3  -     2.98   \n",
       "17801                  chrY:6904933-6904952(unannotated)    23  +    23.03   \n",
       "17802                  chrY:6931205-6931223(unannotated)    61  +    60.78   \n",
       "17803                  chrY:7074443-7074462(unannotated)    29  -    28.79   \n",
       "17804                  chrY:7156349-7156367(unannotated)    57  -    57.31   \n",
       "17805                  chrY:8114995-8115022(unannotated)   303  +   302.76   \n",
       "17806                  chrY:8193870-8193888(unannotated)    43  -    42.55   \n",
       "17807           chrY:8232024-8232068(Mt_tRNA_pseudogene)     1  -     1.42   \n",
       "17808                  chrY:8310003-8310019(unannotated)     2  -     1.95   \n",
       "17809                  chrY:8624122-8624138(unannotated)     6  -     5.86   \n",
       "17810                  chrY:9954497-9954514(unannotated)     4  +     3.68   \n",
       "17811                  chrY:9989907-9989924(unannotated)     4  -     3.68   \n",
       "\n",
       "       0.205      3  \n",
       "0      0.138      6  \n",
       "1      0.106     74  \n",
       "2      0.120      6  \n",
       "3      0.007   4038  \n",
       "4      0.120     11  \n",
       "5      0.138      9  \n",
       "6      0.106      9  \n",
       "7      0.138      6  \n",
       "8      0.081     13  \n",
       "9      0.205     60  \n",
       "10     0.017     79  \n",
       "11     0.205      3  \n",
       "12     0.120     12  \n",
       "13     0.017    106  \n",
       "14     0.280     11  \n",
       "15     0.205     26  \n",
       "16     0.280     22  \n",
       "17     0.164     36  \n",
       "18     0.280      3  \n",
       "19     0.096     26  \n",
       "20     0.008   4814  \n",
       "21     0.280      4  \n",
       "22     0.205      3  \n",
       "23     0.280     23  \n",
       "24     0.062     14  \n",
       "25     0.051    199  \n",
       "26     0.038     63  \n",
       "27     0.036     30  \n",
       "28     0.120     48  \n",
       "29     0.280     34  \n",
       "...      ...    ...  \n",
       "17782  0.059     40  \n",
       "17783  0.081    126  \n",
       "17784  0.205     48  \n",
       "17785  0.280      3  \n",
       "17786  0.280      4  \n",
       "17787  0.280      2  \n",
       "17788  0.205      3  \n",
       "17789  0.280     17  \n",
       "17790  0.096    113  \n",
       "17791  0.138      8  \n",
       "17792  0.096     13  \n",
       "17793  0.044    155  \n",
       "17794  0.004  28833  \n",
       "17795  0.081     10  \n",
       "17796  0.056     16  \n",
       "17797  0.280     35  \n",
       "17798  0.106      7  \n",
       "17799  0.081     10  \n",
       "17800  0.164      4  \n",
       "17801  0.096     28  \n",
       "17802  0.049     70  \n",
       "17803  0.036     35  \n",
       "17804  0.138     66  \n",
       "17805  0.023    523  \n",
       "17806  0.164     49  \n",
       "17807  0.205      4  \n",
       "17808  0.280      2  \n",
       "17809  0.120      6  \n",
       "17810  0.280      4  \n",
       "17811  0.164      4  \n",
       "\n",
       "[17812 rows x 9 columns]"
      ]
     },
     "execution_count": 28,
     "metadata": {},
     "output_type": "execute_result"
    }
   ],
   "source": [
    "pandas.read_table('data/A549.bed', None)"
   ]
  },
  {
   "cell_type": "markdown",
   "metadata": {},
   "source": [
    "The data does not load correctly."
   ]
  },
  {
   "cell_type": "markdown",
   "metadata": {},
   "source": [
    "To understand what's going on,\n",
    "and make our own functions easier to use,\n",
    "let's re-define our `center_series` function like this:"
   ]
  },
  {
   "cell_type": "code",
   "execution_count": 29,
   "metadata": {
    "collapsed": true
   },
   "outputs": [],
   "source": [
    "def center_series(series, desired=0.0):\n",
    "    '''Return a new series containing the original data centered around the desired value (0 by default).\n",
    "    Example: center_series(pandas.Series(data=[1, 2, 3]), 0) => [-1, 0, 1]'''\n",
    "    return (series - series.mean()) + desired\n"
   ]
  },
  {
   "cell_type": "markdown",
   "metadata": {},
   "source": [
    "The key change is that the second parameter is now written `desired=0.0` instead of just `desired`.\n",
    "If we call the function with two arguments,\n",
    "it works as it did before:"
   ]
  },
  {
   "cell_type": "code",
   "execution_count": 30,
   "metadata": {
    "collapsed": false
   },
   "outputs": [
    {
     "name": "stdout",
     "output_type": "stream",
     "text": [
      "0    3\n",
      "1    3\n",
      "dtype: float64\n"
     ]
    }
   ],
   "source": [
    "test_series = pandas.Series([0,0])\n",
    "print center_series(test_series, 3)"
   ]
  },
  {
   "cell_type": "markdown",
   "metadata": {},
   "source": [
    "But we can also now call it with just one parameter,\n",
    "in which case `desired` is automatically assigned the [default value](reference.html#default-value) of 0.0:"
   ]
  },
  {
   "cell_type": "code",
   "execution_count": 31,
   "metadata": {
    "collapsed": false
   },
   "outputs": [
    {
     "name": "stdout",
     "output_type": "stream",
     "text": [
      "series before centering:\n",
      "0    5\n",
      "1    5\n",
      "dtype: int64\n",
      "\n",
      "centered series:\n",
      "0    0\n",
      "1    0\n",
      "dtype: float64\n"
     ]
    }
   ],
   "source": [
    "another_series = pandas.Series([5,5])\n",
    "print 'series before centering:'\n",
    "print another_series\n",
    "print\n",
    "print 'centered series:'\n",
    "print center_series(another_series)\n"
   ]
  },
  {
   "cell_type": "markdown",
   "metadata": {},
   "source": [
    "This is handy:\n",
    "if we usually want a function to work one way,\n",
    "but occasionally need it to do something else,\n",
    "we can allow people to pass a parameter when they need to\n",
    "but provide a default to make the normal case easier.\n",
    "The example below shows how Python matches values to parameters:"
   ]
  },
  {
   "cell_type": "code",
   "execution_count": 32,
   "metadata": {
    "collapsed": false
   },
   "outputs": [
    {
     "name": "stdout",
     "output_type": "stream",
     "text": [
      "no parameters:\n",
      "a: 1 b: 2 c: 3\n",
      "one parameter:\n",
      "a: 55 b: 2 c: 3\n",
      "two parameters:\n",
      "a: 55 b: 66 c: 3\n"
     ]
    }
   ],
   "source": [
    "def display(a=1, b=2, c=3):\n",
    "    print 'a:', a, 'b:', b, 'c:', c\n",
    "\n",
    "print 'no parameters:'\n",
    "display()\n",
    "print 'one parameter:'\n",
    "display(55)\n",
    "print 'two parameters:'\n",
    "display(55, 66)"
   ]
  },
  {
   "cell_type": "markdown",
   "metadata": {},
   "source": [
    "As this example shows,\n",
    "parameters are matched up from left to right,\n",
    "and any that haven't been given a value explicitly get their default value.\n",
    "We can override this behavior by naming the value as we pass it in:"
   ]
  },
  {
   "cell_type": "code",
   "execution_count": 33,
   "metadata": {
    "collapsed": false
   },
   "outputs": [
    {
     "name": "stdout",
     "output_type": "stream",
     "text": [
      "only setting the value of c\n",
      "a: 1 b: 2 c: 77\n"
     ]
    }
   ],
   "source": [
    "print 'only setting the value of c'\n",
    "display(c=77)"
   ]
  },
  {
   "cell_type": "markdown",
   "metadata": {},
   "source": [
    "With that in hand,\n",
    "let's look at the help for `pandas.read_table`:"
   ]
  },
  {
   "cell_type": "code",
   "execution_count": 34,
   "metadata": {
    "collapsed": false
   },
   "outputs": [
    {
     "name": "stdout",
     "output_type": "stream",
     "text": [
      "Help on function read_table in module pandas.io.parsers:\n",
      "\n",
      "read_table(filepath_or_buffer, sep='\\t', dialect=None, compression='infer', doublequote=True, escapechar=None, quotechar='\"', quoting=0, skipinitialspace=False, lineterminator=None, header='infer', index_col=None, names=None, prefix=None, skiprows=None, skipfooter=None, skip_footer=0, na_values=None, na_fvalues=None, true_values=None, false_values=None, delimiter=None, converters=None, dtype=None, usecols=None, engine=None, delim_whitespace=False, as_recarray=False, na_filter=True, compact_ints=False, use_unsigned=False, low_memory=True, buffer_lines=None, warn_bad_lines=True, error_bad_lines=True, keep_default_na=True, thousands=None, comment=None, decimal='.', parse_dates=False, keep_date_col=False, dayfirst=False, date_parser=None, memory_map=False, float_precision=None, nrows=None, iterator=False, chunksize=None, verbose=False, encoding=None, squeeze=False, mangle_dupe_cols=True, tupleize_cols=False, infer_datetime_format=False, skip_blank_lines=True)\n",
      "    Read general delimited file into DataFrame\n",
      "    \n",
      "    Also supports optionally iterating or breaking of the file\n",
      "    into chunks.\n",
      "    \n",
      "    Parameters\n",
      "    ----------\n",
      "    filepath_or_buffer : string or file handle / StringIO\n",
      "        The string could be a URL. Valid URL schemes include\n",
      "        http, ftp, s3, and file. For file URLs, a\n",
      "        host is expected. For instance, a local file could be\n",
      "        file ://localhost/path/to/table.csv\n",
      "    sep : string, default \\t (tab-stop)\n",
      "        Delimiter to use. Regular expressions are accepted.\n",
      "    engine : {'c', 'python'}\n",
      "        Parser engine to use. The C engine is faster while the python engine is\n",
      "        currently more feature-complete.\n",
      "    lineterminator : string (length 1), default None\n",
      "        Character to break file into lines. Only valid with C parser\n",
      "    quotechar : string (length 1)\n",
      "        The character used to denote the start and end of a quoted item. Quoted\n",
      "        items can include the delimiter and it will be ignored.\n",
      "    quoting : int or csv.QUOTE_* instance, default None\n",
      "        Control field quoting behavior per ``csv.QUOTE_*`` constants. Use one of\n",
      "        QUOTE_MINIMAL (0), QUOTE_ALL (1), QUOTE_NONNUMERIC (2) or QUOTE_NONE (3).\n",
      "        Default (None) results in QUOTE_MINIMAL behavior.\n",
      "    skipinitialspace : boolean, default False\n",
      "        Skip spaces after delimiter\n",
      "    escapechar : string (length 1), default None\n",
      "        One-character string used to escape delimiter when quoting is QUOTE_NONE.\n",
      "    dtype : Type name or dict of column -> type\n",
      "        Data type for data or columns. E.g. {'a': np.float64, 'b': np.int32}\n",
      "        (Unsupported with engine='python')\n",
      "    compression : {'gzip', 'bz2', 'infer', None}, default 'infer'\n",
      "        For on-the-fly decompression of on-disk data. If 'infer', then use gzip or\n",
      "        bz2 if filepath_or_buffer is a string ending in '.gz' or '.bz2',\n",
      "        respectively, and no decompression otherwise. Set to None for no\n",
      "        decompression.\n",
      "    dialect : string or csv.Dialect instance, default None\n",
      "        If None defaults to Excel dialect. Ignored if sep longer than 1 char\n",
      "        See csv.Dialect documentation for more details\n",
      "    header : int, list of ints\n",
      "        Row number(s) to use as the column names, and the start of the\n",
      "        data.  Defaults to 0 if no ``names`` passed, otherwise ``None``. Explicitly\n",
      "        pass ``header=0`` to be able to replace existing names. The header can be\n",
      "        a list of integers that specify row locations for a multi-index on the\n",
      "        columns E.g. [0,1,3]. Intervening rows that are not specified will be\n",
      "        skipped (e.g. 2 in this example are skipped). Note that this parameter\n",
      "        ignores commented lines and empty lines if ``skip_blank_lines=True``, so header=0\n",
      "        denotes the first line of data rather than the first line of the file.\n",
      "    skiprows : list-like or integer\n",
      "        Line numbers to skip (0-indexed) or number of lines to skip (int)\n",
      "        at the start of the file\n",
      "    index_col : int or sequence or False, default None\n",
      "        Column to use as the row labels of the DataFrame. If a sequence is given, a\n",
      "        MultiIndex is used. If you have a malformed file with delimiters at the end\n",
      "        of each line, you might consider index_col=False to force pandas to _not_\n",
      "        use the first column as the index (row names)\n",
      "    names : array-like\n",
      "        List of column names to use. If file contains no header row, then you\n",
      "        should explicitly pass header=None\n",
      "    prefix : string, default None\n",
      "        Prefix to add to column numbers when no header, e.g 'X' for X0, X1, ...\n",
      "    na_values : list-like or dict, default None\n",
      "        Additional strings to recognize as NA/NaN. If dict passed, specific\n",
      "        per-column NA values\n",
      "    true_values : list\n",
      "        Values to consider as True\n",
      "    false_values : list\n",
      "        Values to consider as False\n",
      "    keep_default_na : bool, default True\n",
      "        If na_values are specified and keep_default_na is False the default NaN\n",
      "        values are overridden, otherwise they're appended to\n",
      "    parse_dates : boolean, list of ints or names, list of lists, or dict\n",
      "        If True -> try parsing the index.\n",
      "        If [1, 2, 3] -> try parsing columns 1, 2, 3 each as a separate date column.\n",
      "        If [[1, 3]] -> combine columns 1 and 3 and parse as a single date column.\n",
      "        {'foo' : [1, 3]} -> parse columns 1, 3 as date and call result 'foo'\n",
      "        A fast-path exists for iso8601-formatted dates.\n",
      "    keep_date_col : boolean, default False\n",
      "        If True and parse_dates specifies combining multiple columns then\n",
      "        keep the original columns.\n",
      "    date_parser : function\n",
      "        Function to use for converting a sequence of string columns to an\n",
      "        array of datetime instances. The default uses dateutil.parser.parser\n",
      "        to do the conversion. Pandas will try to call date_parser in three different\n",
      "        ways, advancing to the next if an exception occurs: 1) Pass one or more arrays\n",
      "        (as defined by parse_dates) as arguments; 2) concatenate (row-wise) the string\n",
      "        values from the columns defined by parse_dates into a single array and pass\n",
      "        that; and 3) call date_parser once for each row using one or more strings\n",
      "        (corresponding to the columns defined by parse_dates) as arguments.\n",
      "    dayfirst : boolean, default False\n",
      "        DD/MM format dates, international and European format\n",
      "    thousands : str, default None\n",
      "        Thousands separator\n",
      "    comment : str, default None\n",
      "        Indicates remainder of line should not be parsed. If found at the\n",
      "        beginning of a line, the line will be ignored altogether. This parameter\n",
      "        must be a single character. Like empty lines (as long as ``skip_blank_lines=True``),\n",
      "        fully commented lines are ignored by the parameter `header`\n",
      "        but not by `skiprows`. For example, if comment='#', parsing\n",
      "        '#empty\\na,b,c\\n1,2,3' with `header=0` will result in 'a,b,c' being\n",
      "        treated as the header.\n",
      "    decimal : str, default '.'\n",
      "        Character to recognize as decimal point. E.g. use ',' for European data\n",
      "    nrows : int, default None\n",
      "        Number of rows of file to read. Useful for reading pieces of large files\n",
      "    iterator : boolean, default False\n",
      "        Return TextFileReader object\n",
      "    chunksize : int, default None\n",
      "        Return TextFileReader object for iteration\n",
      "    skipfooter : int, default 0\n",
      "        Number of lines at bottom of file to skip (Unsupported with engine='c')\n",
      "    converters : dict, default None\n",
      "        Dict of functions for converting values in certain columns. Keys can either\n",
      "        be integers or column labels\n",
      "    verbose : boolean, default False\n",
      "        Indicate number of NA values placed in non-numeric columns\n",
      "    delimiter : string, default None\n",
      "        Alternative argument name for sep. Regular expressions are accepted.\n",
      "    encoding : string, default None\n",
      "        Encoding to use for UTF when reading/writing (ex. 'utf-8'). `List of Python\n",
      "        standard encodings\n",
      "        <https://docs.python.org/3/library/codecs.html#standard-encodings>`_\n",
      "    squeeze : boolean, default False\n",
      "        If the parsed data only contains one column then return a Series\n",
      "    na_filter : boolean, default True\n",
      "        Detect missing value markers (empty strings and the value of na_values). In\n",
      "        data without any NAs, passing na_filter=False can improve the performance\n",
      "        of reading a large file\n",
      "    usecols : array-like\n",
      "        Return a subset of the columns.\n",
      "        Results in much faster parsing time and lower memory usage.\n",
      "    mangle_dupe_cols : boolean, default True\n",
      "        Duplicate columns will be specified as 'X.0'...'X.N', rather than 'X'...'X'\n",
      "    tupleize_cols : boolean, default False\n",
      "        Leave a list of tuples on columns as is (default is to convert to\n",
      "        a Multi Index on the columns)\n",
      "    error_bad_lines : boolean, default True\n",
      "        Lines with too many fields (e.g. a csv line with too many commas) will by\n",
      "        default cause an exception to be raised, and no DataFrame will be returned.\n",
      "        If False, then these \"bad lines\" will dropped from the DataFrame that is\n",
      "        returned. (Only valid with C parser)\n",
      "    warn_bad_lines : boolean, default True\n",
      "        If error_bad_lines is False, and warn_bad_lines is True, a warning for each\n",
      "        \"bad line\" will be output. (Only valid with C parser).\n",
      "    infer_datetime_format : boolean, default False\n",
      "        If True and parse_dates is enabled for a column, attempt to infer\n",
      "        the datetime format to speed up the processing\n",
      "    skip_blank_lines : boolean, default True\n",
      "        If True, skip over blank lines rather than interpreting as NaN values\n",
      "    \n",
      "    Returns\n",
      "    -------\n",
      "    result : DataFrame or TextParser\n",
      "\n"
     ]
    }
   ],
   "source": [
    "help(pandas.read_table)"
   ]
  },
  {
   "cell_type": "markdown",
   "metadata": {},
   "source": [
    "There's a lot of information here,\n",
    "but the most important part is the first bit:\n",
    "```python\n",
    "read_table(filepath_or_buffer, sep='\\t', dialect=None, compression='infer', doublequote=True, escapechar=None, quotechar='\"', quoting=0, skipinitialspace=False, lineterminator=None, header='infer'...\n",
    "```\n",
    "\n",
    "This tells us that `read_table` has one parameter called `filepath_or_buffer` that doesn't have a default value,\n",
    "and many others that do.\n",
    "If we call the function like this:\n",
    "\n",
    "```python\n",
    "pandas.read_table('data/A549.bed', None)\n",
    "```\n",
    "\n",
    "then the filename is assigned to `filepath_or_buffer` (which is what we want). Our second parameter, `None`, is assigned to `sep` rather than `header`. This is because `sep` is the second parameter in the function definition. So when we just provide the value in that second parameter, we're not setting `header` to anything. The help explains that this defaults to `0` in our case, which means the first row of data will be treated as headers.\n",
    "\n",
    "If we want `None` to be assigned to the variable `header`, we **do** have to provide `header=None` for the second parameter, because `header` is not the second parameter"
   ]
  },
  {
   "cell_type": "markdown",
   "metadata": {},
   "source": [
    "## Combining strings\n",
    "\n",
    "\"Adding\" two strings produces their concatenation:\n",
    "`'a' + 'b'` is `'ab'`.\n",
    "Write a function called `fence` that takes two parameters called `original` and `wrapper`\n",
    "and returns a new string that has the wrapper character at the beginning and end of the original.\n",
    "A call to your function should look like this:\n",
    "\n",
    "~~~ {.python}\n",
    "print fence('name', '*')\n",
    "*name*\n",
    "~~~"
   ]
  },
  {
   "cell_type": "code",
   "execution_count": null,
   "metadata": {
    "collapsed": true
   },
   "outputs": [],
   "source": []
  },
  {
   "cell_type": "markdown",
   "metadata": {},
   "source": [
    "## Selecting characters from strings\n",
    "\n",
    "If the variable `s` refers to a string,\n",
    "then `s[0]` is the string's first character\n",
    "and `s[-1]` is its last.\n",
    "Write a function called `outer`\n",
    "that returns a string made up of just the first and last characters of its input.\n",
    "A call to your function should look like this:\n",
    "\n",
    "~~~ {.python}\n",
    "print outer('helium')\n",
    "hm\n",
    "~~~"
   ]
  },
  {
   "cell_type": "code",
   "execution_count": null,
   "metadata": {
    "collapsed": true
   },
   "outputs": [],
   "source": []
  },
  {
   "cell_type": "markdown",
   "metadata": {},
   "source": [
    "## Variables inside and outside functions\n",
    "\n",
    "What does the following piece of code display when run - and why?\n",
    "\n",
    "~~~ {.python}\n",
    "f = 0\n",
    "k = 0\n",
    "\n",
    "def f2k(f):\n",
    " k = ((f-32)*(5.0/9.0)) + 273.15\n",
    " return k\n",
    "\n",
    "f2k(8)\n",
    "f2k(41)\n",
    "f2k(32)\n",
    "\n",
    "print k\n",
    "~~~"
   ]
  },
  {
   "cell_type": "code",
   "execution_count": null,
   "metadata": {
    "collapsed": true
   },
   "outputs": [],
   "source": []
  }
 ],
 "metadata": {
  "kernelspec": {
   "display_name": "Python 2",
   "language": "python",
   "name": "python2"
  },
  "language_info": {
   "codemirror_mode": {
    "name": "ipython",
    "version": 2
   },
   "file_extension": ".py",
   "mimetype": "text/x-python",
   "name": "python",
   "nbconvert_exporter": "python",
   "pygments_lexer": "ipython2",
   "version": "2.7.10"
  }
 },
 "nbformat": 4,
 "nbformat_minor": 0
}
