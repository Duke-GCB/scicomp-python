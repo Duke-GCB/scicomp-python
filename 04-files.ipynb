{
 "cells": [
  {
   "cell_type": "markdown",
   "metadata": {},
   "source": [
    "# Analyzing Data from Multiple Files\n",
    "\n",
    "## Learning Objectives\n",
    "\n",
    " *   Use a library function to get a list of filenames that match a simple wildcard pattern.\n",
    " *   Use a for loop to process multiple files.\n",
    "\n",
    "We now have almost everything we need to process all our data files.\n",
    "The only thing that's missing is a library with a rather unpleasant name:"
   ]
  },
  {
   "cell_type": "code",
   "execution_count": 1,
   "metadata": {
    "collapsed": true
   },
   "outputs": [],
   "source": [
    "import glob"
   ]
  },
  {
   "cell_type": "markdown",
   "metadata": {},
   "source": [
    "The `glob` library contains a single function, also called `glob`,\n",
    "that finds files whose names match a pattern.\n",
    "We provide those patterns as strings:\n",
    "the character `*` matches zero or more characters,\n",
    "while `?` matches any one character.\n",
    "We can use this to get the names of all the html files:"
   ]
  },
  {
   "cell_type": "code",
   "execution_count": 2,
   "metadata": {
    "collapsed": false
   },
   "outputs": [
    {
     "name": "stdout",
     "output_type": "stream",
     "text": [
      "['01-intro.ipynb', '02-loops.ipynb', '03-lists.ipynb', '04-files.ipynb', '05-choices.ipynb', '06-functions.ipynb']\n"
     ]
    }
   ],
   "source": [
    "print glob.glob('*.ipynb')"
   ]
  },
  {
   "cell_type": "markdown",
   "metadata": {},
   "source": [
    "As these examples show,\n",
    "`glob.glob`'s result is a list of strings,\n",
    "which means we can loop over it\n",
    "to do something with each filename in turn.\n",
    "In our case,\n",
    "the \"something\" we want to do is generate a plot for each bedfile in our directory.\n",
    "Let's test it by analyzing the first three files in the list:"
   ]
  },
  {
   "cell_type": "code",
   "execution_count": 3,
   "metadata": {
    "collapsed": false,
    "slideshow": {
     "slide_type": "slide"
    }
   },
   "outputs": [
    {
     "name": "stdout",
     "output_type": "stream",
     "text": [
      "data/A549.bed\n"
     ]
    },
    {
     "data": {
      "image/png": "[encoded data removed]",
      "text/plain": [
       "<matplotlib.figure.Figure at 0x10a7e3b50>"
      ]
     },
     "metadata": {},
     "output_type": "display_data"
    }
   ],
   "source": [
    "import pandas\n",
    "%matplotlib inline\n",
    "filenames = glob.glob('data/*.bed') # Where is the data?\n",
    "filenames = filenames[0:3]\n",
    "cols = ['chrom','chromStart','chromEnd','name','score','strand','level','signif','score2']\n",
    "\n",
    "for f in filenames:\n",
    "    print f\n",
    "    data = pandas.read_table('data/A549.bed', header=None)\n",
    "    data.columns = cols\n",
    "    data.groupby('chrom').mean().plot(kind='bar',y='score', ylim=[0,250], title=f, figsize=(10,5))\n"
   ]
  },
  {
   "cell_type": "markdown",
   "metadata": {},
   "source": [
    "Sure enough,\n",
    "we can see the data set we were using earlier, which had a lot of regions on chrM. The other files aren't weighted the same, and for questions like this we could easily put together a script that plotted many data sets without repeating yourself"
   ]
  }
 ],
 "metadata": {
  "kernelspec": {
   "display_name": "Python 2",
   "language": "python",
   "name": "python2"
  },
  "language_info": {
   "codemirror_mode": {
    "name": "ipython",
    "version": 2
   },
   "file_extension": ".py",
   "mimetype": "text/x-python",
   "name": "python",
   "nbconvert_exporter": "python",
   "pygments_lexer": "ipython2",
   "version": "2.7.10"
  }
 },
 "nbformat": 4,
 "nbformat_minor": 0
}
