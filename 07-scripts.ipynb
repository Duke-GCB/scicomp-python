{
 "cells": [
  {
   "cell_type": "markdown",
   "metadata": {},
   "source": [
    "# Writing Scripts\n",
    "\n",
    "## Learning Objectives\n",
    "\n",
    "*   Save a python program into a file\n",
    "*   Run the python program from notebook or command-line\n",
    "*   Make a change to the program and see the file change\n",
    "*   Explain why we should write scripts\n",
    "\n",
    "At this point, we've written a lot of code and run it interactively.\n",
    "While this is a great use of the notebook, it doesn't really translate to things like running \n",
    "your analysis on a cluster or reusing code across notebooks/projects.\n",
    "\n",
    "What if we could run our functions and statements from the command-line, just like we did in bash?\n"
   ]
  },
  {
   "cell_type": "markdown",
   "metadata": {},
   "source": [
    "For this lesson, we're going to use some magic commands in the notebook to save our script to a file and run it.\n",
    "\n",
    "1. `%%file` to save the contents of a cell into a file\n",
    "2. `%ls` to see the contents of a file\n",
    "3. `%%sh` to run a command on the bash prompt\n",
    "\n",
    "These can also be accomplished with a text editor and a bash shell, which we'll revisit tomorrow. For now, we'll simplify things by staying in one window"
   ]
  },
  {
   "cell_type": "code",
   "execution_count": null,
   "metadata": {
    "collapsed": false
   },
   "outputs": [],
   "source": [
    "%%file hello-v1.py\n",
    "\n",
    "name = ''\n",
    "print 'hello',nam"
   ]
  },
  {
   "cell_type": "code",
   "execution_count": null,
   "metadata": {
    "collapsed": false
   },
   "outputs": [],
   "source": [
    "%ls -l hello-*.py"
   ]
  },
  {
   "cell_type": "code",
   "execution_count": null,
   "metadata": {
    "collapsed": false
   },
   "outputs": [],
   "source": [
    "%%sh\n",
    "python hello-v1.py"
   ]
  },
  {
   "cell_type": "markdown",
   "metadata": {},
   "source": [
    "## Challenge: Clean up script\n",
    "\n",
    "Below is a copy & paste of the `analyze` and `detect` functions from the previous lesson. This script runs but is limited to 3 files and only looks at the local data directory\n",
    "\n",
    "Create new versions (e.g. `analyze_detect-v2.py`) that:\n",
    "\n",
    "- **v2**: Moves the `import glob` to the top of the file with `import pandas`\n",
    "- **v3**: Removes the limit of 3 files and looks in our data directory\n",
    "- **v4**: Adds a function called `read_bed(filename)` that performs the `pandas.read_table`, sets the `data.columns`, and `return`s the `data`\n",
    "\n",
    "Now, open a bash prompt, `cd` to the directory where your scripts are, and run each one individually:\n",
    "\n",
    "`python analyze_detect-v1.py`\n",
    "\n",
    "What are the differences between the scripts?\n"
   ]
  },
  {
   "cell_type": "code",
   "execution_count": null,
   "metadata": {
    "collapsed": false
   },
   "outputs": [],
   "source": [
    "%pwd"
   ]
  },
  {
   "cell_type": "code",
   "execution_count": null,
   "metadata": {
    "collapsed": false
   },
   "outputs": [],
   "source": [
    "%%file analyze_detect-v1.py\n",
    "\n",
    "import pandas\n",
    "\n",
    "def analyze(filename):\n",
    "    data = pandas.read_table(filename, header=None)\n",
    "    data.columns = ['chrom','chromStart','chromEnd','name','score','strand','level','signif','score2']\n",
    "    data.groupby('chrom').mean().plot(kind='bar',y='score', ylim=[0,250], title=f, figsize=(10,5))\n",
    "    \n",
    "def detect_problems(filename):\n",
    "    data = pandas.read_table(filename, header=None)\n",
    "    data.columns = ['chrom','chromStart','chromEnd','name','score','strand','level','signif','score2']\n",
    "    if data['score2'].min() < 1 and data['score'].min() > 0:\n",
    "        print 'Suspicious data!'\n",
    "    elif data.loc[data['chrom'] == 'chrM']['score'].mean() > 200:\n",
    "        print 'High scores on chrM!'\n",
    "    else:\n",
    "        print 'Seems OK!'\n",
    "        \n",
    "import glob\n",
    "filenames = glob.glob('data/*.bed')\n",
    "for f in filenames[:3]:\n",
    "    print f\n",
    "    analyze(f)\n",
    "    detect_problems(f)\n"
   ]
  },
  {
   "cell_type": "code",
   "execution_count": null,
   "metadata": {
    "collapsed": false
   },
   "outputs": [],
   "source": [
    "%ls -l analyze_detect-v*.py"
   ]
  },
  {
   "cell_type": "code",
   "execution_count": null,
   "metadata": {
    "collapsed": false
   },
   "outputs": [],
   "source": [
    "%%sh\n",
    "python analyze_detect-v1.py"
   ]
  }
 ],
 "metadata": {
  "kernelspec": {
   "display_name": "Python 2",
   "language": "python",
   "name": "python2"
  },
  "language_info": {
   "codemirror_mode": {
    "name": "ipython",
    "version": 2
   },
   "file_extension": ".py",
   "mimetype": "text/x-python",
   "name": "python",
   "nbconvert_exporter": "python",
   "pygments_lexer": "ipython2",
   "version": "2.7.10"
  }
 },
 "nbformat": 4,
 "nbformat_minor": 0
}
