{
 "cells": [
  {
   "cell_type": "markdown",
   "metadata": {
    "slideshow": {
     "slide_type": "slide"
    }
   },
   "source": [
    "# Programming with Python\n",
    "\n",
    "Derived from [Novice Python lesson using Python 2.7 - Copyright © Software Carpentry](https://github.com/swcarpentry/python-novice-inflammation-2.7) "
   ]
  },
  {
   "cell_type": "markdown",
   "metadata": {
    "slideshow": {
     "slide_type": "fragment"
    }
   },
   "source": [
    "Programming is hard. Expectations & Takeaways\n"
   ]
  },
  {
   "cell_type": "markdown",
   "metadata": {
    "slideshow": {
     "slide_type": "slide"
    }
   },
   "source": [
    "How many books about riding a bike did you read?\n",
    "\n",
    "[What Riding A Bike Has To Do With Learning Programming](http://twonontechies.com/bicycles-can-help-you-learn-programming/)\n",
    "\n",
    "> You can be a scientist in the science of bike ride mechanics and it still won’t help you one bit to do the actual thing."
   ]
  },
  {
   "cell_type": "markdown",
   "metadata": {
    "slideshow": {
     "slide_type": "slide"
    }
   },
   "source": [
    "The best way to learn how to program is to do something useful,\n",
    "so this introduction to Python is built around a common scientific task:\n",
    "data analysis.\n",
    "\n",
    "Our real goal isn't to teach you Python,\n",
    "but to teach you the basic concepts that all programming depends on.\n",
    "We use Python in our lessons because:\n",
    "\n",
    "1.  we have to use *something* for examples;\n",
    "2.  it's free, well-documented, and runs almost everywhere;\n",
    "3.  it has a large (and growing) user base among scientists; and\n",
    "4.  experience shows that it's easier for novices to pick up than most other languages.\n",
    "\n",
    "But the two most important things are\n",
    "to use whatever language your colleagues are using,\n",
    "so that you can share your work with them easily,\n",
    "and to use that language *well*."
   ]
  },
  {
   "cell_type": "markdown",
   "metadata": {
    "slideshow": {
     "slide_type": "slide"
    }
   },
   "source": [
    "From the `bash` lesson, we've got a directory of bed files, that look something like this:\n",
    "\n",
    "~~~\n",
    "chr10\t100023306\t100023327\tchr10:100023306-100023327(unannotated)\t2\t-\t1.79\t0.068\t5\n",
    "chr10\t100057467\t100057490\tchr10:100057467-100057490(unannotated)\t18\t+\t17.99\t0.004\t55\n",
    "chr10\t100082171\t100082191\tchr10:100082171-100082191(unannotated)\t4\t+\t3.76\t0.038\t10\n",
    "chr10\t100155012\t100155073\tchr10:100155012-100155073(miRNA|processed_transcript|protein_coding)\t78\t-\t78.44\t0.001\t636\n",
    "~~~\n",
    "\n",
    "Now, bash can glue commands together to do some basic operations on the data, but if we want to interpret the data more meaningfully (numerically, statistically, graphically), it's more appropriate to use a programming language like Python\n",
    "\n",
    "We want to:\n",
    "\n",
    "*   load that data into memory,\n",
    "*   Analyze/summarize/subset the data\n",
    "*   plot the result.\n",
    "\n",
    "To do all that, we'll have to learn a little bit about programming."
   ]
  },
  {
   "cell_type": "markdown",
   "metadata": {
    "slideshow": {
     "slide_type": "slide"
    }
   },
   "source": [
    "## Prerequisites\n",
    "\n",
    "Learners need to understand the concepts of files and directories\n",
    "(including the working directory) and how to start the Jupyter Notebook\n",
    "interpreter before tackling this lesson. This lesson references the Jupyter (IPython)\n",
    "Notebook although it can be taught through any Python interpreter.\n",
    "The commands in this lesson pertain to **Python 2**.\n",
    "\n",
    "## Getting started\n",
    "\n",
    "You need to download some files to follow this lesson:\n",
    "\n",
    "1. Download [gcb-academy-python.zip](/) and save it on your Desktop\n",
    "2. If it's not unzipped yet, double-click on it to unzip it. You should end up with a new folder called `gcb-academy-python`.\n",
    "3. Open a **bash** shell (Git Bash or Terminal)\n",
    "4. Type `ipython notebook`\n",
    "![bash ipython notebook](fig/bash-ipython-notebook.png)\n",
    "5. Wait for a web browser to open, but do not close the bash window.\n",
    "![jupyter home](fig/jupyter-notebook-start.png)"
   ]
  },
  {
   "cell_type": "markdown",
   "metadata": {
    "slideshow": {
     "slide_type": "slide"
    }
   },
   "source": [
    "## Intro to Python & Notebook\n",
    "\n",
    "1. Cells and the notebook toolbar\n",
    "2. Simple arithmetic\n",
    "3. Printing\n",
    "4. Variables\n"
   ]
  },
  {
   "cell_type": "code",
   "execution_count": null,
   "metadata": {
    "collapsed": false
   },
   "outputs": [],
   "source": [
    "5 + 3"
   ]
  },
  {
   "cell_type": "code",
   "execution_count": null,
   "metadata": {
    "collapsed": false
   },
   "outputs": [],
   "source": [
    "print \"Hello, World\""
   ]
  },
  {
   "cell_type": "code",
   "execution_count": null,
   "metadata": {
    "collapsed": false
   },
   "outputs": [],
   "source": [
    "greeting = 'Aloha'\n",
    "name = 'Dan'\n",
    "\n",
    "print greeting, name"
   ]
  },
  {
   "cell_type": "markdown",
   "metadata": {
    "slideshow": {
     "slide_type": "slide"
    }
   },
   "source": [
    "## Learning Objectives\n",
    "*   Explain what a library is, and what libraries are used for.\n",
    "*   Load a Python library and use the things it contains.\n",
    "*   Read tabular data from a file into a program.\n",
    "*   Assign values to variables.\n",
    "*   Select individual values and subsections from data.\n",
    "*   Perform operations on arrays of data.\n",
    "*   Display simple graphs.\n",
    "\n",
    "Words are useful,\n",
    "but what's more useful are the sentences and stories we build with them.\n",
    "Similarly,\n",
    "while a lot of powerful tools are built into languages like Python,\n",
    "even more live in the [libraries](reference.html#library) they are used to build.\n",
    "\n",
    "In order to load data and analyze it,\n",
    "we need to [import](reference.html#import) a library called pandas.\n",
    "In general you should use this library if you want work with data like a spreadsheet.\n",
    "Pandas works great with numerical and text data. There are other libraries for other purposes\n",
    "We can load Pandas using:"
   ]
  },
  {
   "cell_type": "code",
   "execution_count": 1,
   "metadata": {
    "collapsed": true
   },
   "outputs": [],
   "source": [
    "import pandas"
   ]
  },
  {
   "cell_type": "markdown",
   "metadata": {},
   "source": [
    "Importing a library is like getting a piece of lab equipment out of a storage locker\n",
    "and setting it up on the bench. Libraries provide additional functionality to the basic Python package, much like a new piece of equipment adds functionality to a lab space.\n",
    "Once you've loaded the library,\n",
    "we can ask the library to read our data file for us:"
   ]
  },
  {
   "cell_type": "code",
   "execution_count": 5,
   "metadata": {
    "collapsed": false
   },
   "outputs": [
    {
     "data": {
      "text/html": [
       "<div>\n",
       "<table border=\"1\" class=\"dataframe\">\n",
       "  <thead>\n",
       "    <tr style=\"text-align: right;\">\n",
       "      <th></th>\n",
       "      <th>0</th>\n",
       "      <th>1</th>\n",
       "      <th>2</th>\n",
       "      <th>3</th>\n",
       "      <th>4</th>\n",
       "      <th>5</th>\n",
       "      <th>6</th>\n",
       "      <th>7</th>\n",
       "      <th>8</th>\n",
       "    </tr>\n",
       "  </thead>\n",
       "  <tbody>\n",
       "    <tr>\n",
       "      <th>0</th>\n",
       "      <td>chr10</td>\n",
       "      <td>100023307</td>\n",
       "      <td>100023327</td>\n",
       "      <td>chr10:100023307-100023327(unannotated)</td>\n",
       "      <td>2</td>\n",
       "      <td>-</td>\n",
       "      <td>2.34</td>\n",
       "      <td>0.205</td>\n",
       "      <td>3</td>\n",
       "    </tr>\n",
       "    <tr>\n",
       "      <th>1</th>\n",
       "      <td>chr10</td>\n",
       "      <td>100082171</td>\n",
       "      <td>100082191</td>\n",
       "      <td>chr10:100082171-100082191(unannotated)</td>\n",
       "      <td>5</td>\n",
       "      <td>-</td>\n",
       "      <td>4.69</td>\n",
       "      <td>0.138</td>\n",
       "      <td>6</td>\n",
       "    </tr>\n",
       "    <tr>\n",
       "      <th>2</th>\n",
       "      <td>chr10</td>\n",
       "      <td>100082171</td>\n",
       "      <td>100082191</td>\n",
       "      <td>chr10:100082171-100082191(unannotated)</td>\n",
       "      <td>58</td>\n",
       "      <td>+</td>\n",
       "      <td>57.83</td>\n",
       "      <td>0.106</td>\n",
       "      <td>74</td>\n",
       "    </tr>\n",
       "    <tr>\n",
       "      <th>3</th>\n",
       "      <td>chr10</td>\n",
       "      <td>100152747</td>\n",
       "      <td>100152764</td>\n",
       "      <td>chr10:100152747-100152764(unannotated)</td>\n",
       "      <td>6</td>\n",
       "      <td>+</td>\n",
       "      <td>5.52</td>\n",
       "      <td>0.120</td>\n",
       "      <td>6</td>\n",
       "    </tr>\n",
       "    <tr>\n",
       "      <th>4</th>\n",
       "      <td>chr10</td>\n",
       "      <td>100155026</td>\n",
       "      <td>100155049</td>\n",
       "      <td>chr10:100155026-100155049(miRNA|processed_tran...</td>\n",
       "      <td>1000</td>\n",
       "      <td>-</td>\n",
       "      <td>2744.14</td>\n",
       "      <td>0.007</td>\n",
       "      <td>4038</td>\n",
       "    </tr>\n",
       "    <tr>\n",
       "      <th>5</th>\n",
       "      <td>chr10</td>\n",
       "      <td>100206760</td>\n",
       "      <td>100206783</td>\n",
       "      <td>chr10:100206760-100206783(unannotated)</td>\n",
       "      <td>7</td>\n",
       "      <td>+</td>\n",
       "      <td>7.48</td>\n",
       "      <td>0.120</td>\n",
       "      <td>11</td>\n",
       "    </tr>\n",
       "    <tr>\n",
       "      <th>6</th>\n",
       "      <td>chr10</td>\n",
       "      <td>100246530</td>\n",
       "      <td>100246555</td>\n",
       "      <td>chr10:100246530-100246555(unannotated)</td>\n",
       "      <td>6</td>\n",
       "      <td>+</td>\n",
       "      <td>5.63</td>\n",
       "      <td>0.138</td>\n",
       "      <td>9</td>\n",
       "    </tr>\n",
       "    <tr>\n",
       "      <th>7</th>\n",
       "      <td>chr10</td>\n",
       "      <td>1008275</td>\n",
       "      <td>1008291</td>\n",
       "      <td>chr10:1008275-1008291(unannotated)</td>\n",
       "      <td>9</td>\n",
       "      <td>+</td>\n",
       "      <td>8.79</td>\n",
       "      <td>0.106</td>\n",
       "      <td>9</td>\n",
       "    </tr>\n",
       "    <tr>\n",
       "      <th>8</th>\n",
       "      <td>chr10</td>\n",
       "      <td>101128603</td>\n",
       "      <td>101128622</td>\n",
       "      <td>chr10:101128603-101128622(unannotated)</td>\n",
       "      <td>5</td>\n",
       "      <td>+</td>\n",
       "      <td>4.94</td>\n",
       "      <td>0.138</td>\n",
       "      <td>6</td>\n",
       "    </tr>\n",
       "    <tr>\n",
       "      <th>9</th>\n",
       "      <td>chr10</td>\n",
       "      <td>101155393</td>\n",
       "      <td>101155409</td>\n",
       "      <td>chr10:101155393-101155409(unannotated)</td>\n",
       "      <td>13</td>\n",
       "      <td>-</td>\n",
       "      <td>12.70</td>\n",
       "      <td>0.081</td>\n",
       "      <td>13</td>\n",
       "    </tr>\n",
       "    <tr>\n",
       "      <th>10</th>\n",
       "      <td>chr10</td>\n",
       "      <td>101157821</td>\n",
       "      <td>101157840</td>\n",
       "      <td>chr10:101157821-101157840(unannotated)</td>\n",
       "      <td>49</td>\n",
       "      <td>+</td>\n",
       "      <td>49.36</td>\n",
       "      <td>0.205</td>\n",
       "      <td>60</td>\n",
       "    </tr>\n",
       "    <tr>\n",
       "      <th>11</th>\n",
       "      <td>chr10</td>\n",
       "      <td>101198813</td>\n",
       "      <td>101198869</td>\n",
       "      <td>chr10:101198813-101198869(unannotated)</td>\n",
       "      <td>22</td>\n",
       "      <td>+</td>\n",
       "      <td>22.05</td>\n",
       "      <td>0.017</td>\n",
       "      <td>79</td>\n",
       "    </tr>\n",
       "    <tr>\n",
       "      <th>12</th>\n",
       "      <td>chr10</td>\n",
       "      <td>101287244</td>\n",
       "      <td>101287261</td>\n",
       "      <td>chr10:101287244-101287261(unannotated)</td>\n",
       "      <td>3</td>\n",
       "      <td>-</td>\n",
       "      <td>2.76</td>\n",
       "      <td>0.205</td>\n",
       "      <td>3</td>\n",
       "    </tr>\n",
       "    <tr>\n",
       "      <th>13</th>\n",
       "      <td>chr10</td>\n",
       "      <td>101300295</td>\n",
       "      <td>101300324</td>\n",
       "      <td>chr10:101300295-101300324(unannotated)</td>\n",
       "      <td>6</td>\n",
       "      <td>+</td>\n",
       "      <td>6.47</td>\n",
       "      <td>0.120</td>\n",
       "      <td>12</td>\n",
       "    </tr>\n",
       "    <tr>\n",
       "      <th>14</th>\n",
       "      <td>chr10</td>\n",
       "      <td>101329642</td>\n",
       "      <td>101329676</td>\n",
       "      <td>chr10:101329642-101329676(unannotated)</td>\n",
       "      <td>49</td>\n",
       "      <td>-</td>\n",
       "      <td>48.73</td>\n",
       "      <td>0.017</td>\n",
       "      <td>106</td>\n",
       "    </tr>\n",
       "    <tr>\n",
       "      <th>15</th>\n",
       "      <td>chr10</td>\n",
       "      <td>101492062</td>\n",
       "      <td>101492086</td>\n",
       "      <td>chr10:101492062-101492086(nonsense_mediated_de...</td>\n",
       "      <td>7</td>\n",
       "      <td>+</td>\n",
       "      <td>7.16</td>\n",
       "      <td>0.280</td>\n",
       "      <td>11</td>\n",
       "    </tr>\n",
       "    <tr>\n",
       "      <th>16</th>\n",
       "      <td>chr10</td>\n",
       "      <td>101557635</td>\n",
       "      <td>101557664</td>\n",
       "      <td>chr10:101557635-101557664(protein_coding)</td>\n",
       "      <td>14</td>\n",
       "      <td>+</td>\n",
       "      <td>14.01</td>\n",
       "      <td>0.205</td>\n",
       "      <td>26</td>\n",
       "    </tr>\n",
       "    <tr>\n",
       "      <th>17</th>\n",
       "      <td>chr10</td>\n",
       "      <td>101565174</td>\n",
       "      <td>101565204</td>\n",
       "      <td>chr10:101565174-101565204(protein_coding)</td>\n",
       "      <td>11</td>\n",
       "      <td>+</td>\n",
       "      <td>11.46</td>\n",
       "      <td>0.280</td>\n",
       "      <td>22</td>\n",
       "    </tr>\n",
       "    <tr>\n",
       "      <th>18</th>\n",
       "      <td>chr10</td>\n",
       "      <td>101578476</td>\n",
       "      <td>101578546</td>\n",
       "      <td>chr10:101578476-101578546(unannotated)</td>\n",
       "      <td>8</td>\n",
       "      <td>+</td>\n",
       "      <td>8.04</td>\n",
       "      <td>0.164</td>\n",
       "      <td>36</td>\n",
       "    </tr>\n",
       "    <tr>\n",
       "      <th>19</th>\n",
       "      <td>chr10</td>\n",
       "      <td>101671986</td>\n",
       "      <td>101672006</td>\n",
       "      <td>chr10:101671986-101672006(unannotated)</td>\n",
       "      <td>2</td>\n",
       "      <td>-</td>\n",
       "      <td>2.34</td>\n",
       "      <td>0.280</td>\n",
       "      <td>3</td>\n",
       "    </tr>\n",
       "    <tr>\n",
       "      <th>20</th>\n",
       "      <td>chr10</td>\n",
       "      <td>101683552</td>\n",
       "      <td>101683571</td>\n",
       "      <td>chr10:101683552-101683571(unannotated)</td>\n",
       "      <td>21</td>\n",
       "      <td>-</td>\n",
       "      <td>21.39</td>\n",
       "      <td>0.096</td>\n",
       "      <td>26</td>\n",
       "    </tr>\n",
       "    <tr>\n",
       "      <th>21</th>\n",
       "      <td>chr10</td>\n",
       "      <td>101688463</td>\n",
       "      <td>101688497</td>\n",
       "      <td>chr10:101688463-101688497(unannotated)</td>\n",
       "      <td>1000</td>\n",
       "      <td>-</td>\n",
       "      <td>2213.07</td>\n",
       "      <td>0.008</td>\n",
       "      <td>4814</td>\n",
       "    </tr>\n",
       "    <tr>\n",
       "      <th>22</th>\n",
       "      <td>chr10</td>\n",
       "      <td>101731856</td>\n",
       "      <td>101731875</td>\n",
       "      <td>chr10:101731856-101731875(protein_coding)</td>\n",
       "      <td>3</td>\n",
       "      <td>-</td>\n",
       "      <td>3.29</td>\n",
       "      <td>0.280</td>\n",
       "      <td>4</td>\n",
       "    </tr>\n",
       "    <tr>\n",
       "      <th>23</th>\n",
       "      <td>chr10</td>\n",
       "      <td>101803630</td>\n",
       "      <td>101803649</td>\n",
       "      <td>chr10:101803630-101803649(unannotated)</td>\n",
       "      <td>2</td>\n",
       "      <td>-</td>\n",
       "      <td>2.47</td>\n",
       "      <td>0.205</td>\n",
       "      <td>3</td>\n",
       "    </tr>\n",
       "    <tr>\n",
       "      <th>24</th>\n",
       "      <td>chr10</td>\n",
       "      <td>101945951</td>\n",
       "      <td>101945976</td>\n",
       "      <td>chr10:101945951-101945976(unannotated)</td>\n",
       "      <td>14</td>\n",
       "      <td>+</td>\n",
       "      <td>14.38</td>\n",
       "      <td>0.280</td>\n",
       "      <td>23</td>\n",
       "    </tr>\n",
       "    <tr>\n",
       "      <th>25</th>\n",
       "      <td>chr10</td>\n",
       "      <td>101961200</td>\n",
       "      <td>101961219</td>\n",
       "      <td>chr10:101961200-101961219(unannotated)</td>\n",
       "      <td>12</td>\n",
       "      <td>-</td>\n",
       "      <td>11.52</td>\n",
       "      <td>0.062</td>\n",
       "      <td>14</td>\n",
       "    </tr>\n",
       "    <tr>\n",
       "      <th>26</th>\n",
       "      <td>chr10</td>\n",
       "      <td>101996808</td>\n",
       "      <td>101996867</td>\n",
       "      <td>chr10:101996808-101996867(unannotated)</td>\n",
       "      <td>53</td>\n",
       "      <td>-</td>\n",
       "      <td>52.72</td>\n",
       "      <td>0.051</td>\n",
       "      <td>199</td>\n",
       "    </tr>\n",
       "    <tr>\n",
       "      <th>27</th>\n",
       "      <td>chr10</td>\n",
       "      <td>101996962</td>\n",
       "      <td>101997059</td>\n",
       "      <td>chr10:101996962-101997059(snoRNA)</td>\n",
       "      <td>10</td>\n",
       "      <td>-</td>\n",
       "      <td>10.15</td>\n",
       "      <td>0.038</td>\n",
       "      <td>63</td>\n",
       "    </tr>\n",
       "    <tr>\n",
       "      <th>28</th>\n",
       "      <td>chr10</td>\n",
       "      <td>102011811</td>\n",
       "      <td>102011829</td>\n",
       "      <td>chr10:102011811-102011829(unannotated)</td>\n",
       "      <td>26</td>\n",
       "      <td>+</td>\n",
       "      <td>26.05</td>\n",
       "      <td>0.036</td>\n",
       "      <td>30</td>\n",
       "    </tr>\n",
       "    <tr>\n",
       "      <th>29</th>\n",
       "      <td>chr10</td>\n",
       "      <td>102116321</td>\n",
       "      <td>102116523</td>\n",
       "      <td>chr10:102116321-102116523(unannotated)</td>\n",
       "      <td>4</td>\n",
       "      <td>-</td>\n",
       "      <td>3.71</td>\n",
       "      <td>0.120</td>\n",
       "      <td>48</td>\n",
       "    </tr>\n",
       "    <tr>\n",
       "      <th>...</th>\n",
       "      <td>...</td>\n",
       "      <td>...</td>\n",
       "      <td>...</td>\n",
       "      <td>...</td>\n",
       "      <td>...</td>\n",
       "      <td>...</td>\n",
       "      <td>...</td>\n",
       "      <td>...</td>\n",
       "      <td>...</td>\n",
       "    </tr>\n",
       "    <tr>\n",
       "      <th>17783</th>\n",
       "      <td>chrY</td>\n",
       "      <td>16776348</td>\n",
       "      <td>16776372</td>\n",
       "      <td>chrY:16776348-16776372(unannotated)</td>\n",
       "      <td>26</td>\n",
       "      <td>-</td>\n",
       "      <td>26.05</td>\n",
       "      <td>0.059</td>\n",
       "      <td>40</td>\n",
       "    </tr>\n",
       "    <tr>\n",
       "      <th>17784</th>\n",
       "      <td>chrY</td>\n",
       "      <td>16811019</td>\n",
       "      <td>16811041</td>\n",
       "      <td>chrY:16811019-16811041(unannotated)</td>\n",
       "      <td>90</td>\n",
       "      <td>+</td>\n",
       "      <td>89.52</td>\n",
       "      <td>0.081</td>\n",
       "      <td>126</td>\n",
       "    </tr>\n",
       "    <tr>\n",
       "      <th>17785</th>\n",
       "      <td>chrY</td>\n",
       "      <td>17355759</td>\n",
       "      <td>17355775</td>\n",
       "      <td>chrY:17355759-17355775(unannotated)</td>\n",
       "      <td>47</td>\n",
       "      <td>-</td>\n",
       "      <td>46.89</td>\n",
       "      <td>0.205</td>\n",
       "      <td>48</td>\n",
       "    </tr>\n",
       "    <tr>\n",
       "      <th>17786</th>\n",
       "      <td>chrY</td>\n",
       "      <td>17973478</td>\n",
       "      <td>17973494</td>\n",
       "      <td>chrY:17973478-17973494(unannotated)</td>\n",
       "      <td>3</td>\n",
       "      <td>-</td>\n",
       "      <td>2.93</td>\n",
       "      <td>0.280</td>\n",
       "      <td>3</td>\n",
       "    </tr>\n",
       "    <tr>\n",
       "      <th>17787</th>\n",
       "      <td>chrY</td>\n",
       "      <td>17982084</td>\n",
       "      <td>17982102</td>\n",
       "      <td>chrY:17982084-17982102(unannotated)</td>\n",
       "      <td>3</td>\n",
       "      <td>+</td>\n",
       "      <td>3.47</td>\n",
       "      <td>0.280</td>\n",
       "      <td>4</td>\n",
       "    </tr>\n",
       "    <tr>\n",
       "      <th>17788</th>\n",
       "      <td>chrY</td>\n",
       "      <td>18982551</td>\n",
       "      <td>18982619</td>\n",
       "      <td>chrY:18982551-18982619(unannotated)</td>\n",
       "      <td>0</td>\n",
       "      <td>-</td>\n",
       "      <td>0.46</td>\n",
       "      <td>0.280</td>\n",
       "      <td>2</td>\n",
       "    </tr>\n",
       "    <tr>\n",
       "      <th>17789</th>\n",
       "      <td>chrY</td>\n",
       "      <td>21042683</td>\n",
       "      <td>21042706</td>\n",
       "      <td>chrY:21042683-21042706(unannotated)</td>\n",
       "      <td>2</td>\n",
       "      <td>+</td>\n",
       "      <td>2.04</td>\n",
       "      <td>0.205</td>\n",
       "      <td>3</td>\n",
       "    </tr>\n",
       "    <tr>\n",
       "      <th>17790</th>\n",
       "      <td>chrY</td>\n",
       "      <td>21697305</td>\n",
       "      <td>21697349</td>\n",
       "      <td>chrY:21697305-21697349(unannotated)</td>\n",
       "      <td>6</td>\n",
       "      <td>-</td>\n",
       "      <td>6.04</td>\n",
       "      <td>0.280</td>\n",
       "      <td>17</td>\n",
       "    </tr>\n",
       "    <tr>\n",
       "      <th>17791</th>\n",
       "      <td>chrY</td>\n",
       "      <td>21703757</td>\n",
       "      <td>21703773</td>\n",
       "      <td>chrY:21703757-21703773(unannotated)</td>\n",
       "      <td>110</td>\n",
       "      <td>+</td>\n",
       "      <td>110.39</td>\n",
       "      <td>0.096</td>\n",
       "      <td>113</td>\n",
       "    </tr>\n",
       "    <tr>\n",
       "      <th>17792</th>\n",
       "      <td>chrY</td>\n",
       "      <td>22015639</td>\n",
       "      <td>22015656</td>\n",
       "      <td>chrY:22015639-22015656(unannotated)</td>\n",
       "      <td>7</td>\n",
       "      <td>-</td>\n",
       "      <td>7.36</td>\n",
       "      <td>0.138</td>\n",
       "      <td>8</td>\n",
       "    </tr>\n",
       "    <tr>\n",
       "      <th>17793</th>\n",
       "      <td>chrY</td>\n",
       "      <td>22033209</td>\n",
       "      <td>22033232</td>\n",
       "      <td>chrY:22033209-22033232(unannotated)</td>\n",
       "      <td>9</td>\n",
       "      <td>-</td>\n",
       "      <td>8.83</td>\n",
       "      <td>0.096</td>\n",
       "      <td>13</td>\n",
       "    </tr>\n",
       "    <tr>\n",
       "      <th>17794</th>\n",
       "      <td>chrY</td>\n",
       "      <td>3111156</td>\n",
       "      <td>3111177</td>\n",
       "      <td>chrY:3111156-3111177(unannotated)</td>\n",
       "      <td>115</td>\n",
       "      <td>+</td>\n",
       "      <td>115.37</td>\n",
       "      <td>0.044</td>\n",
       "      <td>155</td>\n",
       "    </tr>\n",
       "    <tr>\n",
       "      <th>17795</th>\n",
       "      <td>chrY</td>\n",
       "      <td>3235814</td>\n",
       "      <td>3235869</td>\n",
       "      <td>chrY:3235814-3235869(unannotated)</td>\n",
       "      <td>1000</td>\n",
       "      <td>+</td>\n",
       "      <td>8193.98</td>\n",
       "      <td>0.004</td>\n",
       "      <td>28833</td>\n",
       "    </tr>\n",
       "    <tr>\n",
       "      <th>17796</th>\n",
       "      <td>chrY</td>\n",
       "      <td>3267268</td>\n",
       "      <td>3267287</td>\n",
       "      <td>chrY:3267268-3267287(unannotated)</td>\n",
       "      <td>8</td>\n",
       "      <td>+</td>\n",
       "      <td>8.23</td>\n",
       "      <td>0.081</td>\n",
       "      <td>10</td>\n",
       "    </tr>\n",
       "    <tr>\n",
       "      <th>17797</th>\n",
       "      <td>chrY</td>\n",
       "      <td>3775023</td>\n",
       "      <td>3775040</td>\n",
       "      <td>chrY:3775023-3775040(unannotated)</td>\n",
       "      <td>15</td>\n",
       "      <td>-</td>\n",
       "      <td>14.71</td>\n",
       "      <td>0.056</td>\n",
       "      <td>16</td>\n",
       "    </tr>\n",
       "    <tr>\n",
       "      <th>17798</th>\n",
       "      <td>chrY</td>\n",
       "      <td>4212820</td>\n",
       "      <td>4212873</td>\n",
       "      <td>chrY:4212820-4212873(unannotated)</td>\n",
       "      <td>10</td>\n",
       "      <td>-</td>\n",
       "      <td>10.32</td>\n",
       "      <td>0.280</td>\n",
       "      <td>35</td>\n",
       "    </tr>\n",
       "    <tr>\n",
       "      <th>17799</th>\n",
       "      <td>chrY</td>\n",
       "      <td>4474179</td>\n",
       "      <td>4474203</td>\n",
       "      <td>chrY:4474179-4474203(unannotated)</td>\n",
       "      <td>5</td>\n",
       "      <td>+</td>\n",
       "      <td>4.56</td>\n",
       "      <td>0.106</td>\n",
       "      <td>7</td>\n",
       "    </tr>\n",
       "    <tr>\n",
       "      <th>17800</th>\n",
       "      <td>chrY</td>\n",
       "      <td>6012916</td>\n",
       "      <td>6012948</td>\n",
       "      <td>chrY:6012916-6012948(unannotated)</td>\n",
       "      <td>5</td>\n",
       "      <td>+</td>\n",
       "      <td>4.88</td>\n",
       "      <td>0.081</td>\n",
       "      <td>10</td>\n",
       "    </tr>\n",
       "    <tr>\n",
       "      <th>17801</th>\n",
       "      <td>chrY</td>\n",
       "      <td>6652257</td>\n",
       "      <td>6652278</td>\n",
       "      <td>chrY:6652257-6652278(unannotated)</td>\n",
       "      <td>3</td>\n",
       "      <td>-</td>\n",
       "      <td>2.98</td>\n",
       "      <td>0.164</td>\n",
       "      <td>4</td>\n",
       "    </tr>\n",
       "    <tr>\n",
       "      <th>17802</th>\n",
       "      <td>chrY</td>\n",
       "      <td>6904933</td>\n",
       "      <td>6904952</td>\n",
       "      <td>chrY:6904933-6904952(unannotated)</td>\n",
       "      <td>23</td>\n",
       "      <td>+</td>\n",
       "      <td>23.03</td>\n",
       "      <td>0.096</td>\n",
       "      <td>28</td>\n",
       "    </tr>\n",
       "    <tr>\n",
       "      <th>17803</th>\n",
       "      <td>chrY</td>\n",
       "      <td>6931205</td>\n",
       "      <td>6931223</td>\n",
       "      <td>chrY:6931205-6931223(unannotated)</td>\n",
       "      <td>61</td>\n",
       "      <td>+</td>\n",
       "      <td>60.78</td>\n",
       "      <td>0.049</td>\n",
       "      <td>70</td>\n",
       "    </tr>\n",
       "    <tr>\n",
       "      <th>17804</th>\n",
       "      <td>chrY</td>\n",
       "      <td>7074443</td>\n",
       "      <td>7074462</td>\n",
       "      <td>chrY:7074443-7074462(unannotated)</td>\n",
       "      <td>29</td>\n",
       "      <td>-</td>\n",
       "      <td>28.79</td>\n",
       "      <td>0.036</td>\n",
       "      <td>35</td>\n",
       "    </tr>\n",
       "    <tr>\n",
       "      <th>17805</th>\n",
       "      <td>chrY</td>\n",
       "      <td>7156349</td>\n",
       "      <td>7156367</td>\n",
       "      <td>chrY:7156349-7156367(unannotated)</td>\n",
       "      <td>57</td>\n",
       "      <td>-</td>\n",
       "      <td>57.31</td>\n",
       "      <td>0.138</td>\n",
       "      <td>66</td>\n",
       "    </tr>\n",
       "    <tr>\n",
       "      <th>17806</th>\n",
       "      <td>chrY</td>\n",
       "      <td>8114995</td>\n",
       "      <td>8115022</td>\n",
       "      <td>chrY:8114995-8115022(unannotated)</td>\n",
       "      <td>303</td>\n",
       "      <td>+</td>\n",
       "      <td>302.76</td>\n",
       "      <td>0.023</td>\n",
       "      <td>523</td>\n",
       "    </tr>\n",
       "    <tr>\n",
       "      <th>17807</th>\n",
       "      <td>chrY</td>\n",
       "      <td>8193870</td>\n",
       "      <td>8193888</td>\n",
       "      <td>chrY:8193870-8193888(unannotated)</td>\n",
       "      <td>43</td>\n",
       "      <td>-</td>\n",
       "      <td>42.55</td>\n",
       "      <td>0.164</td>\n",
       "      <td>49</td>\n",
       "    </tr>\n",
       "    <tr>\n",
       "      <th>17808</th>\n",
       "      <td>chrY</td>\n",
       "      <td>8232024</td>\n",
       "      <td>8232068</td>\n",
       "      <td>chrY:8232024-8232068(Mt_tRNA_pseudogene)</td>\n",
       "      <td>1</td>\n",
       "      <td>-</td>\n",
       "      <td>1.42</td>\n",
       "      <td>0.205</td>\n",
       "      <td>4</td>\n",
       "    </tr>\n",
       "    <tr>\n",
       "      <th>17809</th>\n",
       "      <td>chrY</td>\n",
       "      <td>8310003</td>\n",
       "      <td>8310019</td>\n",
       "      <td>chrY:8310003-8310019(unannotated)</td>\n",
       "      <td>2</td>\n",
       "      <td>-</td>\n",
       "      <td>1.95</td>\n",
       "      <td>0.280</td>\n",
       "      <td>2</td>\n",
       "    </tr>\n",
       "    <tr>\n",
       "      <th>17810</th>\n",
       "      <td>chrY</td>\n",
       "      <td>8624122</td>\n",
       "      <td>8624138</td>\n",
       "      <td>chrY:8624122-8624138(unannotated)</td>\n",
       "      <td>6</td>\n",
       "      <td>-</td>\n",
       "      <td>5.86</td>\n",
       "      <td>0.120</td>\n",
       "      <td>6</td>\n",
       "    </tr>\n",
       "    <tr>\n",
       "      <th>17811</th>\n",
       "      <td>chrY</td>\n",
       "      <td>9954497</td>\n",
       "      <td>9954514</td>\n",
       "      <td>chrY:9954497-9954514(unannotated)</td>\n",
       "      <td>4</td>\n",
       "      <td>+</td>\n",
       "      <td>3.68</td>\n",
       "      <td>0.280</td>\n",
       "      <td>4</td>\n",
       "    </tr>\n",
       "    <tr>\n",
       "      <th>17812</th>\n",
       "      <td>chrY</td>\n",
       "      <td>9989907</td>\n",
       "      <td>9989924</td>\n",
       "      <td>chrY:9989907-9989924(unannotated)</td>\n",
       "      <td>4</td>\n",
       "      <td>-</td>\n",
       "      <td>3.68</td>\n",
       "      <td>0.164</td>\n",
       "      <td>4</td>\n",
       "    </tr>\n",
       "  </tbody>\n",
       "</table>\n",
       "<p>17813 rows × 9 columns</p>\n",
       "</div>"
      ],
      "text/plain": [
       "           0          1          2  \\\n",
       "0      chr10  100023307  100023327   \n",
       "1      chr10  100082171  100082191   \n",
       "2      chr10  100082171  100082191   \n",
       "3      chr10  100152747  100152764   \n",
       "4      chr10  100155026  100155049   \n",
       "5      chr10  100206760  100206783   \n",
       "6      chr10  100246530  100246555   \n",
       "7      chr10    1008275    1008291   \n",
       "8      chr10  101128603  101128622   \n",
       "9      chr10  101155393  101155409   \n",
       "10     chr10  101157821  101157840   \n",
       "11     chr10  101198813  101198869   \n",
       "12     chr10  101287244  101287261   \n",
       "13     chr10  101300295  101300324   \n",
       "14     chr10  101329642  101329676   \n",
       "15     chr10  101492062  101492086   \n",
       "16     chr10  101557635  101557664   \n",
       "17     chr10  101565174  101565204   \n",
       "18     chr10  101578476  101578546   \n",
       "19     chr10  101671986  101672006   \n",
       "20     chr10  101683552  101683571   \n",
       "21     chr10  101688463  101688497   \n",
       "22     chr10  101731856  101731875   \n",
       "23     chr10  101803630  101803649   \n",
       "24     chr10  101945951  101945976   \n",
       "25     chr10  101961200  101961219   \n",
       "26     chr10  101996808  101996867   \n",
       "27     chr10  101996962  101997059   \n",
       "28     chr10  102011811  102011829   \n",
       "29     chr10  102116321  102116523   \n",
       "...      ...        ...        ...   \n",
       "17783   chrY   16776348   16776372   \n",
       "17784   chrY   16811019   16811041   \n",
       "17785   chrY   17355759   17355775   \n",
       "17786   chrY   17973478   17973494   \n",
       "17787   chrY   17982084   17982102   \n",
       "17788   chrY   18982551   18982619   \n",
       "17789   chrY   21042683   21042706   \n",
       "17790   chrY   21697305   21697349   \n",
       "17791   chrY   21703757   21703773   \n",
       "17792   chrY   22015639   22015656   \n",
       "17793   chrY   22033209   22033232   \n",
       "17794   chrY    3111156    3111177   \n",
       "17795   chrY    3235814    3235869   \n",
       "17796   chrY    3267268    3267287   \n",
       "17797   chrY    3775023    3775040   \n",
       "17798   chrY    4212820    4212873   \n",
       "17799   chrY    4474179    4474203   \n",
       "17800   chrY    6012916    6012948   \n",
       "17801   chrY    6652257    6652278   \n",
       "17802   chrY    6904933    6904952   \n",
       "17803   chrY    6931205    6931223   \n",
       "17804   chrY    7074443    7074462   \n",
       "17805   chrY    7156349    7156367   \n",
       "17806   chrY    8114995    8115022   \n",
       "17807   chrY    8193870    8193888   \n",
       "17808   chrY    8232024    8232068   \n",
       "17809   chrY    8310003    8310019   \n",
       "17810   chrY    8624122    8624138   \n",
       "17811   chrY    9954497    9954514   \n",
       "17812   chrY    9989907    9989924   \n",
       "\n",
       "                                                       3     4  5        6  \\\n",
       "0                 chr10:100023307-100023327(unannotated)     2  -     2.34   \n",
       "1                 chr10:100082171-100082191(unannotated)     5  -     4.69   \n",
       "2                 chr10:100082171-100082191(unannotated)    58  +    57.83   \n",
       "3                 chr10:100152747-100152764(unannotated)     6  +     5.52   \n",
       "4      chr10:100155026-100155049(miRNA|processed_tran...  1000  -  2744.14   \n",
       "5                 chr10:100206760-100206783(unannotated)     7  +     7.48   \n",
       "6                 chr10:100246530-100246555(unannotated)     6  +     5.63   \n",
       "7                     chr10:1008275-1008291(unannotated)     9  +     8.79   \n",
       "8                 chr10:101128603-101128622(unannotated)     5  +     4.94   \n",
       "9                 chr10:101155393-101155409(unannotated)    13  -    12.70   \n",
       "10                chr10:101157821-101157840(unannotated)    49  +    49.36   \n",
       "11                chr10:101198813-101198869(unannotated)    22  +    22.05   \n",
       "12                chr10:101287244-101287261(unannotated)     3  -     2.76   \n",
       "13                chr10:101300295-101300324(unannotated)     6  +     6.47   \n",
       "14                chr10:101329642-101329676(unannotated)    49  -    48.73   \n",
       "15     chr10:101492062-101492086(nonsense_mediated_de...     7  +     7.16   \n",
       "16             chr10:101557635-101557664(protein_coding)    14  +    14.01   \n",
       "17             chr10:101565174-101565204(protein_coding)    11  +    11.46   \n",
       "18                chr10:101578476-101578546(unannotated)     8  +     8.04   \n",
       "19                chr10:101671986-101672006(unannotated)     2  -     2.34   \n",
       "20                chr10:101683552-101683571(unannotated)    21  -    21.39   \n",
       "21                chr10:101688463-101688497(unannotated)  1000  -  2213.07   \n",
       "22             chr10:101731856-101731875(protein_coding)     3  -     3.29   \n",
       "23                chr10:101803630-101803649(unannotated)     2  -     2.47   \n",
       "24                chr10:101945951-101945976(unannotated)    14  +    14.38   \n",
       "25                chr10:101961200-101961219(unannotated)    12  -    11.52   \n",
       "26                chr10:101996808-101996867(unannotated)    53  -    52.72   \n",
       "27                     chr10:101996962-101997059(snoRNA)    10  -    10.15   \n",
       "28                chr10:102011811-102011829(unannotated)    26  +    26.05   \n",
       "29                chr10:102116321-102116523(unannotated)     4  -     3.71   \n",
       "...                                                  ...   ... ..      ...   \n",
       "17783                chrY:16776348-16776372(unannotated)    26  -    26.05   \n",
       "17784                chrY:16811019-16811041(unannotated)    90  +    89.52   \n",
       "17785                chrY:17355759-17355775(unannotated)    47  -    46.89   \n",
       "17786                chrY:17973478-17973494(unannotated)     3  -     2.93   \n",
       "17787                chrY:17982084-17982102(unannotated)     3  +     3.47   \n",
       "17788                chrY:18982551-18982619(unannotated)     0  -     0.46   \n",
       "17789                chrY:21042683-21042706(unannotated)     2  +     2.04   \n",
       "17790                chrY:21697305-21697349(unannotated)     6  -     6.04   \n",
       "17791                chrY:21703757-21703773(unannotated)   110  +   110.39   \n",
       "17792                chrY:22015639-22015656(unannotated)     7  -     7.36   \n",
       "17793                chrY:22033209-22033232(unannotated)     9  -     8.83   \n",
       "17794                  chrY:3111156-3111177(unannotated)   115  +   115.37   \n",
       "17795                  chrY:3235814-3235869(unannotated)  1000  +  8193.98   \n",
       "17796                  chrY:3267268-3267287(unannotated)     8  +     8.23   \n",
       "17797                  chrY:3775023-3775040(unannotated)    15  -    14.71   \n",
       "17798                  chrY:4212820-4212873(unannotated)    10  -    10.32   \n",
       "17799                  chrY:4474179-4474203(unannotated)     5  +     4.56   \n",
       "17800                  chrY:6012916-6012948(unannotated)     5  +     4.88   \n",
       "17801                  chrY:6652257-6652278(unannotated)     3  -     2.98   \n",
       "17802                  chrY:6904933-6904952(unannotated)    23  +    23.03   \n",
       "17803                  chrY:6931205-6931223(unannotated)    61  +    60.78   \n",
       "17804                  chrY:7074443-7074462(unannotated)    29  -    28.79   \n",
       "17805                  chrY:7156349-7156367(unannotated)    57  -    57.31   \n",
       "17806                  chrY:8114995-8115022(unannotated)   303  +   302.76   \n",
       "17807                  chrY:8193870-8193888(unannotated)    43  -    42.55   \n",
       "17808           chrY:8232024-8232068(Mt_tRNA_pseudogene)     1  -     1.42   \n",
       "17809                  chrY:8310003-8310019(unannotated)     2  -     1.95   \n",
       "17810                  chrY:8624122-8624138(unannotated)     6  -     5.86   \n",
       "17811                  chrY:9954497-9954514(unannotated)     4  +     3.68   \n",
       "17812                  chrY:9989907-9989924(unannotated)     4  -     3.68   \n",
       "\n",
       "           7      8  \n",
       "0      0.205      3  \n",
       "1      0.138      6  \n",
       "2      0.106     74  \n",
       "3      0.120      6  \n",
       "4      0.007   4038  \n",
       "5      0.120     11  \n",
       "6      0.138      9  \n",
       "7      0.106      9  \n",
       "8      0.138      6  \n",
       "9      0.081     13  \n",
       "10     0.205     60  \n",
       "11     0.017     79  \n",
       "12     0.205      3  \n",
       "13     0.120     12  \n",
       "14     0.017    106  \n",
       "15     0.280     11  \n",
       "16     0.205     26  \n",
       "17     0.280     22  \n",
       "18     0.164     36  \n",
       "19     0.280      3  \n",
       "20     0.096     26  \n",
       "21     0.008   4814  \n",
       "22     0.280      4  \n",
       "23     0.205      3  \n",
       "24     0.280     23  \n",
       "25     0.062     14  \n",
       "26     0.051    199  \n",
       "27     0.038     63  \n",
       "28     0.036     30  \n",
       "29     0.120     48  \n",
       "...      ...    ...  \n",
       "17783  0.059     40  \n",
       "17784  0.081    126  \n",
       "17785  0.205     48  \n",
       "17786  0.280      3  \n",
       "17787  0.280      4  \n",
       "17788  0.280      2  \n",
       "17789  0.205      3  \n",
       "17790  0.280     17  \n",
       "17791  0.096    113  \n",
       "17792  0.138      8  \n",
       "17793  0.096     13  \n",
       "17794  0.044    155  \n",
       "17795  0.004  28833  \n",
       "17796  0.081     10  \n",
       "17797  0.056     16  \n",
       "17798  0.280     35  \n",
       "17799  0.106      7  \n",
       "17800  0.081     10  \n",
       "17801  0.164      4  \n",
       "17802  0.096     28  \n",
       "17803  0.049     70  \n",
       "17804  0.036     35  \n",
       "17805  0.138     66  \n",
       "17806  0.023    523  \n",
       "17807  0.164     49  \n",
       "17808  0.205      4  \n",
       "17809  0.280      2  \n",
       "17810  0.120      6  \n",
       "17811  0.280      4  \n",
       "17812  0.164      4  \n",
       "\n",
       "[17813 rows x 9 columns]"
      ]
     },
     "execution_count": 5,
     "metadata": {},
     "output_type": "execute_result"
    }
   ],
   "source": [
    "pandas.read_table('data/A549.bed', header=None)"
   ]
  },
  {
   "cell_type": "markdown",
   "metadata": {
    "slideshow": {
     "slide_type": "slide"
    }
   },
   "source": [
    "The expression `pandas.read_table(...)` is a [function call](reference.html#function-call)\n",
    "that asks Python to run the function `read_table` that belongs to the `pandas` library.\n",
    "This [dotted notation](reference.html#dotted-notation) is used everywhere in Python\n",
    "to refer to the parts of things as `thing.component`.\n",
    "\n",
    "`pandas.read_table` has three [parameters](reference.html#parameter):\n",
    "the name of the file we want to read,\n",
    "the [delimiter](reference.html#delimiter) that separates values on a line, and where our header row is.\n",
    "The file name and delimiter need to be character strings (or [strings](reference.html#string) for short),\n",
    "so we put them in quotes. The location of the header row would be a number, but we don't have a header row so we use the value `None`\n",
    "\n",
    "When we are finished typing and press Shift+Enter,\n",
    "the notebook runs our command.\n",
    "Since we haven't told it to do anything else with the function's output,\n",
    "the notebook displays it.\n",
    "In this case,\n",
    "that output is the data we just loaded.\n",
    "By default,\n",
    "only a few rows and columns are shown\n",
    "(with `...` to omit elements when displaying big arrays).\n",
    "To save space,"
   ]
  },
  {
   "cell_type": "markdown",
   "metadata": {},
   "source": [
    "Our call to `pandas.read_table` read our file,\n",
    "but didn't save the data in memory.\n",
    "To do that,\n",
    "we need to [assign](reference.html#assignment) the data frame to a [variable](reference.html#variable).\n",
    "A variable is just a name for a value,\n",
    "such as `x`, `current_temperature`, or `subject_id`.\n",
    "Python's variables must begin with a letter and are [case sensitive](reference.html#case-sensitive).\n",
    "We can create a new variable by assigning a value to it using `=`.\n",
    "As an illustration,\n",
    "let's step back and instead of considering a table of data,\n",
    "consider the simplest \"collection\" of data,\n",
    "a single value.\n",
    "The line below assigns the value `55` to a variable `weight_kg`:"
   ]
  },
  {
   "cell_type": "code",
   "execution_count": null,
   "metadata": {
    "collapsed": true
   },
   "outputs": [],
   "source": [
    "weight_kg = 55"
   ]
  },
  {
   "cell_type": "markdown",
   "metadata": {},
   "source": [
    "Once a variable has a value, we can print it to the screen:"
   ]
  },
  {
   "cell_type": "code",
   "execution_count": null,
   "metadata": {
    "collapsed": false
   },
   "outputs": [],
   "source": [
    "print weight_kg"
   ]
  },
  {
   "cell_type": "markdown",
   "metadata": {},
   "source": [
    "and do arithmetic with it:"
   ]
  },
  {
   "cell_type": "code",
   "execution_count": null,
   "metadata": {
    "collapsed": false
   },
   "outputs": [],
   "source": [
    "print 'weight in pounds:', 2.2 * weight_kg"
   ]
  },
  {
   "cell_type": "markdown",
   "metadata": {},
   "source": [
    "We can also change a variable's value by assigning it a new one:"
   ]
  },
  {
   "cell_type": "code",
   "execution_count": null,
   "metadata": {
    "collapsed": false
   },
   "outputs": [],
   "source": [
    "weight_kg = 57.5\n",
    "print 'weight in kilograms is now:', weight_kg\n"
   ]
  },
  {
   "cell_type": "markdown",
   "metadata": {},
   "source": [
    "As the example above shows,\n",
    "we can print several things at once by separating them with commas.\n",
    "\n",
    "If we imagine the variable as a sticky note with a name written on it,\n",
    "assignment is like putting the sticky note on a particular value:\n",
    "\n",
    "![Variables as Sticky Notes](fig/python-sticky-note-variables-01.svg)\n",
    "\n",
    "This means that assigning a value to one variable does *not* change the values of other variables.\n",
    "For example,\n",
    "let's store the subject's weight in pounds in a variable:"
   ]
  },
  {
   "cell_type": "code",
   "execution_count": null,
   "metadata": {
    "collapsed": false
   },
   "outputs": [],
   "source": [
    "weight_lb = 2.2 * weight_kg\n",
    "print 'weight in kilograms:', weight_kg, 'and in pounds:', weight_lb\n"
   ]
  },
  {
   "cell_type": "markdown",
   "metadata": {},
   "source": [
    "![Creating Another Variable](fig/python-sticky-note-variables-02.svg)\n",
    "\n",
    "and then change `weight_kg`:"
   ]
  },
  {
   "cell_type": "code",
   "execution_count": null,
   "metadata": {
    "collapsed": false
   },
   "outputs": [],
   "source": [
    "weight_kg = 100.0\n",
    "print 'weight in kilograms is now:', weight_kg, 'and weight in pounds is still:', weight_lb"
   ]
  },
  {
   "cell_type": "markdown",
   "metadata": {},
   "source": [
    "![Updating a Variable](fig/python-sticky-note-variables-03.svg)\n",
    "\n",
    "Since `weight_lb` doesn't \"remember\" where its value came from,\n",
    "it isn't automatically updated when `weight_kg` changes.\n",
    "This is different from the way spreadsheets work.\n",
    "\n",
    "Just as we can assign a single value to a variable, we can also assign an array of values\n",
    "to a variable using the same syntax.  Let's re-run `pandas.read_table` and save its result:"
   ]
  },
  {
   "cell_type": "code",
   "execution_count": 6,
   "metadata": {
    "collapsed": true
   },
   "outputs": [],
   "source": [
    "data = pandas.read_table('data/A549.bed', header=None)"
   ]
  },
  {
   "cell_type": "markdown",
   "metadata": {},
   "source": [
    "This statement doesn't produce any output because assignment doesn't display anything.\n",
    "If we want to check that our data has been loaded,\n",
    "we can show or print the variable's value:"
   ]
  },
  {
   "cell_type": "code",
   "execution_count": null,
   "metadata": {
    "collapsed": false
   },
   "outputs": [],
   "source": [
    "data"
   ]
  },
  {
   "cell_type": "markdown",
   "metadata": {},
   "source": [
    "Now that our data is in memory,\n",
    "we can start doing things with it.\n",
    "First,\n",
    "let's ask what [type](reference.html#type) of thing `data` refers to:"
   ]
  },
  {
   "cell_type": "code",
   "execution_count": null,
   "metadata": {
    "collapsed": false
   },
   "outputs": [],
   "source": [
    "type(data)"
   ]
  },
  {
   "cell_type": "markdown",
   "metadata": {},
   "source": [
    "The output tells us that `data` currently refers to Data Frame created by the Pandas library. This contains the data from the `wgEncodeCshlShortRnaSeqA549CellContigs.bedRnaElements` file we saw earlier. The rows correspond to regions/features, and the columns contain things like the chromosome, location, and name. \n",
    "\n",
    "We can see what its [shape](reference.html#shape) is like this:"
   ]
  },
  {
   "cell_type": "code",
   "execution_count": null,
   "metadata": {
    "collapsed": false
   },
   "outputs": [],
   "source": [
    "data.shape"
   ]
  },
  {
   "cell_type": "markdown",
   "metadata": {},
   "source": [
    "This tells us that `data` has 17813 rows and 9 columns. When we created the\n",
    "variable `data` to store our data, we didn't just create the Data Frame, we also\n",
    "created information about the array, called [members](reference.html#member) or\n",
    "attributes. This extra information describes `data` in\n",
    "the same way an adjective describes a noun.\n",
    "`data.shape` is an attribute  of `data` which described the dimensions of `data`.\n",
    "We use the same dotted notation for the attributes of variables\n",
    "that we use for the functions in libraries\n",
    "because they have the same part-and-whole relationship.\n",
    "\n",
    "If we want to get a single value from the Data Frame, we use square brackets and an attribute called `iloc`, which is short for integer location."
   ]
  },
  {
   "cell_type": "code",
   "execution_count": null,
   "metadata": {
    "collapsed": false
   },
   "outputs": [],
   "source": [
    "print 'first value in data:', data.iloc[0,0]\n",
    "print 'middle value in data:', data.iloc[8906,4]"
   ]
  },
  {
   "cell_type": "markdown",
   "metadata": {},
   "source": [
    "The expression `data.iloc[8906,4]` may not surprise you,\n",
    "but `data.iloc[0,0]` might.\n",
    "\n",
    "Programming languages like Fortran and MATLAB start counting at 1,\n",
    "because that's what human beings have done for thousands of years.\n",
    "Languages in the C family (including C++, Java, Perl, and Python) count from 0\n",
    "because that's simpler for computers to do.\n",
    "\n",
    "As a result,\n",
    "if we have an M&times;N array in Python,\n",
    "its indices go from 0 to M-1 on the first axis\n",
    "and 0 to N-1 on the second.\n",
    "It takes a bit of getting used to,\n",
    "but one way to remember the rule is that\n",
    "the index is how many steps we have to take from the start to get the item we want."
   ]
  },
  {
   "cell_type": "markdown",
   "metadata": {},
   "source": [
    "An index like `[8906, 4]` selects a single element of the Data Frame,\n",
    "but we can select whole sections as well.\n",
    "For example,\n",
    "we can select the first three fields (columns) of values\n",
    "for the first five regions (rows) like this:\n"
   ]
  },
  {
   "cell_type": "code",
   "execution_count": null,
   "metadata": {
    "collapsed": false
   },
   "outputs": [],
   "source": [
    "data.iloc[0:4,0:2]"
   ]
  },
  {
   "cell_type": "markdown",
   "metadata": {},
   "source": [
    "The [slice](reference.html#slice) `0:4` means,\n",
    "\"Start at index 0 and go up to, but not including, index 4.\"\n",
    "Again,\n",
    "the up-to-but-not-including takes a bit of getting used to,\n",
    "but the rule is that the difference between the upper and lower bounds is the number of values in the slice.\n",
    "\n",
    "We don't have to start slices at 0:"
   ]
  },
  {
   "cell_type": "code",
   "execution_count": null,
   "metadata": {
    "collapsed": false
   },
   "outputs": [],
   "source": [
    "data.iloc[5:10, 2:4]"
   ]
  },
  {
   "cell_type": "markdown",
   "metadata": {},
   "source": [
    "We also don't have to include the upper and lower bound on the slice.\n",
    "If we don't include the lower bound,\n",
    "Python uses 0 by default;\n",
    "if we don't include the upper,\n",
    "the slice runs to the end of the axis,\n",
    "and if we don't include either\n",
    "(i.e., if we just use ':' on its own),\n",
    "the slice includes everything:"
   ]
  },
  {
   "cell_type": "code",
   "execution_count": null,
   "metadata": {
    "collapsed": false
   },
   "outputs": [],
   "source": [
    "small = data.iloc[:3, 7:]\n",
    "print 'small is:', small"
   ]
  },
  {
   "cell_type": "markdown",
   "metadata": {},
   "source": [
    "When we loaded the data frame, we said `headers=None` because our file didn't have a header row. If you have a CSV or TSV file with a header row, pandas will use that for your columns by default.\n",
    "\n",
    "We can update this after the fact. by assigning a **list** of values to `data.columns`\n",
    "\n",
    "These are `.bedRnaElements` files in the **ENCODE RNA elements** format. The columns, as documented at [ucsc.edu](https://genome.ucsc.edu/FAQ/FAQformat.html#format11) are:\n",
    "\n",
    "\n",
    "1. **chrom** - Name of the chromosome (or contig, scaffold, etc.).\n",
    "2. **chromStart** - The starting position of the feature in the chromosome or scaffold. The first base in a chromosome is numbered 0.\n",
    "3. **chromEnd** - The ending position of the feature in the chromosome or scaffold. The chromEnd base is not included in the display of the feature. For example, the first 100 bases of a chromosome are defined as chromStart=0, chromEnd=100, and span the bases numbered 0-99.\n",
    "4. **name** - Name given to a region (preferably unique). Use '.' if no name is assigned.\n",
    "5. **score** - Indicates how dark the peak will be displayed in the browser (0-1000). If all scores were '0' when the data were submitted to the DCC, the DCC assigned scores 1-1000 based on signal value. Ideally the average signalValue per base spread is between 100-1000.\n",
    "6. **strand** - +/- to denote strand or orientation (whenever applicable). Use '.' if no orientation is assigned.\n",
    "7. **level** - Expression level such as RPKM or FPKM.\n",
    "8. **signif** - Statistical significance such as IDR.\n",
    "9. **score2** - Additional measurement/count e.g. number of reads."
   ]
  },
  {
   "cell_type": "code",
   "execution_count": null,
   "metadata": {
    "collapsed": true
   },
   "outputs": [],
   "source": [
    "cols = ['chrom','chromStart','chromEnd','name','score','strand','level','signif','score2']\n",
    "data.columns = cols"
   ]
  },
  {
   "cell_type": "markdown",
   "metadata": {},
   "source": [
    "Looking at `data`, we see the meaningful labels at the top, and these labels follow the data through other operations. "
   ]
  },
  {
   "cell_type": "code",
   "execution_count": null,
   "metadata": {
    "collapsed": false
   },
   "outputs": [],
   "source": [
    "data.head()"
   ]
  },
  {
   "cell_type": "markdown",
   "metadata": {},
   "source": [
    "Data Frames know how to do complex operations on their values, including basic statistics and arithmetic. We can ask the data frame for the mean value for each numeric column"
   ]
  },
  {
   "cell_type": "code",
   "execution_count": null,
   "metadata": {
    "collapsed": false
   },
   "outputs": [],
   "source": [
    "data.mean()"
   ]
  },
  {
   "cell_type": "markdown",
   "metadata": {},
   "source": [
    "`mean` is a [method](reference.html#method) of the data frame,\n",
    "i.e.,\n",
    "a function that belongs to it\n",
    "in the same way that the member `shape` does.\n",
    "If variables are nouns, methods are verbs:\n",
    "they are what the thing in question knows how to do.\n",
    "We need empty parentheses for `data.mean()`,\n",
    "even when we're not passing in any parameters,\n",
    "to tell Python to go and do something for us. `data.shape` doesn't\n",
    "need `()` because it is just a description but `data.mean()` requires the `()`\n",
    "because it is an action.\n",
    "\n",
    "Pandas data frames have lots of useful methods:"
   ]
  },
  {
   "cell_type": "code",
   "execution_count": null,
   "metadata": {
    "collapsed": false
   },
   "outputs": [],
   "source": [
    "print '** maximum **\\n', data.max(numeric_only=True), '\\n'\n",
    "print '** minimum **\\n', data.min(numeric_only=True), '\\n'\n",
    "print '** standard deviation **\\n', data.std()"
   ]
  },
  {
   "cell_type": "markdown",
   "metadata": {},
   "source": [
    "But the one I use all the time is `data.describe()`. It provides summary statistics for all the numeric columns, makes it easy to spot NA/NaN/missing values, and give you a quick overview"
   ]
  },
  {
   "cell_type": "code",
   "execution_count": null,
   "metadata": {
    "collapsed": false
   },
   "outputs": [],
   "source": [
    "data.describe()"
   ]
  },
  {
   "cell_type": "markdown",
   "metadata": {},
   "source": [
    "When analyzing data, though,\n",
    "we're often interested in specific columns like score. The `iloc` attribute works here too. But now that we have named columns, we can use `loc` instead of `iloc`, with the column names\n"
   ]
  },
  {
   "cell_type": "code",
   "execution_count": null,
   "metadata": {
    "collapsed": false
   },
   "outputs": [],
   "source": [
    "scores = data.loc[:,['score']]\n",
    "print 'Mean score:', scores.mean()"
   ]
  },
  {
   "cell_type": "markdown",
   "metadata": {},
   "source": [
    "We don't actually need to store the row in a variable of its own.\n",
    "Instead, we can combine the selection and the method call:"
   ]
  },
  {
   "cell_type": "code",
   "execution_count": null,
   "metadata": {
    "collapsed": false
   },
   "outputs": [],
   "source": [
    "print 'score std dev:', data.loc[:,['score']].std()[0]"
   ]
  },
  {
   "cell_type": "markdown",
   "metadata": {},
   "source": [
    "Like a spreadsheet, data frames are editable. We can add new columns based on existing columns"
   ]
  },
  {
   "cell_type": "code",
   "execution_count": null,
   "metadata": {
    "collapsed": false
   },
   "outputs": [],
   "source": [
    "data['chromSpan'] = data['chromEnd'] - data['chromStart']"
   ]
  },
  {
   "cell_type": "code",
   "execution_count": null,
   "metadata": {
    "collapsed": false
   },
   "outputs": [],
   "source": [
    "data.describe()"
   ]
  },
  {
   "cell_type": "markdown",
   "metadata": {},
   "source": [
    "75% of the span widths are below the mean of 35.25. Let's sort our data by the span width and see if there's anything interesting"
   ]
  },
  {
   "cell_type": "code",
   "execution_count": null,
   "metadata": {
    "collapsed": false
   },
   "outputs": [],
   "source": [
    "data.sort('chromSpan', ascending=False)"
   ]
  },
  {
   "cell_type": "markdown",
   "metadata": {},
   "source": [
    "The top 12 are on **chrM** so that might be interesting"
   ]
  },
  {
   "cell_type": "markdown",
   "metadata": {},
   "source": [
    "The mathematician Richard Hamming once said,\n",
    "\"The purpose of computing is insight, not numbers,\"\n",
    "and the best way to develop insight is often to visualize data.\n",
    "Visualization deserves an entire lecture (or course) of its own,\n",
    "and Pandas includes support for Python's `matplotlib` library."
   ]
  },
  {
   "cell_type": "markdown",
   "metadata": {},
   "source": [
    "While there is no \"official\" plotting library,\n",
    "`matplotlib` package is the de facto standard.\n",
    "\n",
    "Pandas makes it so easy to use that you can simply call the `.plot()` method on a data frame to get a plot\n",
    "\n",
    "But first, **Magic**!"
   ]
  },
  {
   "cell_type": "code",
   "execution_count": null,
   "metadata": {
    "collapsed": true
   },
   "outputs": [],
   "source": [
    "%matplotlib inline"
   ]
  },
  {
   "cell_type": "markdown",
   "metadata": {},
   "source": [
    "The `%` indicates an IPython magic function -\n",
    "a function that is only valid within the notebook environment.\n",
    "Note that you only have to execute this function once per notebook."
   ]
  },
  {
   "cell_type": "code",
   "execution_count": null,
   "metadata": {
    "collapsed": false,
    "scrolled": true
   },
   "outputs": [],
   "source": [
    "chrM = data.loc[data['chrom'] == 'chrM']\n",
    "chrM.plot(kind='bar', y='score',x='chromStart', xticks=[])"
   ]
  },
  {
   "cell_type": "code",
   "execution_count": null,
   "metadata": {
    "collapsed": false,
    "scrolled": true
   },
   "outputs": [],
   "source": [
    "grouped = data.groupby('chrom')\n",
    "grouped.max().plot(kind='bar',y='chromSpan')"
   ]
  },
  {
   "cell_type": "markdown",
   "metadata": {},
   "source": [
    "## Scientists dislike typing\n",
    "\n",
    "We will always use the syntax `import pandas` to import Pandas.\n",
    "However, in order to save typing, it is\n",
    "often suggested and seen\n",
    "to make a shortcut like so: `import pandas as pd`.\n",
    "If you ever see Python code online using a Pandas function with `pd`\n",
    "(for example, `pd.read_table(...)`), it's because they've used this shortcut."
   ]
  },
  {
   "cell_type": "markdown",
   "metadata": {},
   "source": [
    "## Challenge: Check your understanding\n",
    "\n",
    "Draw diagrams showing what variables refer to what values after each statement in the following program:\n",
    "\n",
    "~~~ {.python}\n",
    "mass = 47.5\n",
    "age = 122\n",
    "mass = mass * 2.0\n",
    "age = age - 20\n",
    "~~~\n",
    "\n",
    "## Challenge: Sorting out references\n",
    "\n",
    "What does the following program print out?\n",
    "\n",
    "~~~ {.python}\n",
    "first, second = 'Grace', 'Hopper'\n",
    "third, fourth = second, first\n",
    "print third, fourth\n",
    "~~~\n",
    "\n",
    "## Challenge: Slicing strings\n",
    "\n",
    "A section of a data frame is called a [slice](reference.html#slice).\n",
    "We can take slices of character strings as well:\n",
    "\n",
    "~~~ {.python}\n",
    "element = 'oxygen'\n",
    "print 'first three characters:', element[0:3]\n",
    "print 'last three characters:', element[3:6]\n",
    "~~~\n",
    "\n",
    "~~~ {.output}\n",
    "first three characters: oxy\n",
    "last three characters: gen\n",
    "~~~\n",
    "\n",
    "What is the value of `element[:4]`?\n",
    "What about `element[4:]`?\n",
    "Or `element[:]`?\n",
    "\n",
    "What is `element[-1]`?\n",
    "What is `element[-2]`?\n",
    "Given those answers,\n",
    "explain what `element[1:-1]` does.\n",
    "\n",
    "## Challenge: Thin slices\n",
    "\n",
    "The expression `element[3:3]` produces an [empty string](reference.html#empty-string),\n",
    "i.e., a string that contains no characters.\n",
    "If `data` holds our data frame,\n",
    "what does `data.iloc[3:3, 4:4]` produce?\n",
    "What about `data.iloc[3:3, :]`?\n",
    "\n",
    "## Challenge: Extended plotting\n",
    "\n",
    "~~~\n",
    "data.groupby('chrom').max().plot(kind='bar',y='chromSpan')\n",
    "~~~\n",
    "will produce a bar plot, showing the max `chromSpan` from each chromosome.\n",
    "If `.max()` is the method decides how to aggregate the data,\n",
    "what does `count()` tell us?\n",
    "Does the plot look different if you use `count()` with `y='score'?\n",
    "What about `mean()`? Why?"
   ]
  },
  {
   "cell_type": "code",
   "execution_count": null,
   "metadata": {
    "collapsed": true
   },
   "outputs": [],
   "source": []
  }
 ],
 "metadata": {
  "kernelspec": {
   "display_name": "Python 2",
   "language": "python",
   "name": "python2"
  },
  "language_info": {
   "codemirror_mode": {
    "name": "ipython",
    "version": 2
   },
   "file_extension": ".py",
   "mimetype": "text/x-python",
   "name": "python",
   "nbconvert_exporter": "python",
   "pygments_lexer": "ipython2",
   "version": "2.7.10"
  }
 },
 "nbformat": 4,
 "nbformat_minor": 0
}
