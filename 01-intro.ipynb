{
 "cells": [
  {
   "cell_type": "markdown",
   "metadata": {
    "slideshow": {
     "slide_type": "slide"
    }
   },
   "source": [
    "# Programming with Python\n",
    "\n",
    "Derived from [Novice Python lesson using Python 2.7 - Copyright © Software Carpentry](https://github.com/swcarpentry/python-novice-inflammation-2.7) "
   ]
  },
  {
   "cell_type": "markdown",
   "metadata": {
    "slideshow": {
     "slide_type": "fragment"
    }
   },
   "source": [
    "Programming is hard. Expectations & Takeaways\n"
   ]
  },
  {
   "cell_type": "markdown",
   "metadata": {
    "slideshow": {
     "slide_type": "slide"
    }
   },
   "source": [
    "How many books about riding a bike did you read?\n",
    "\n",
    "[What Riding A Bike Has To Do With Learning Programming](http://twonontechies.com/bicycles-can-help-you-learn-programming/)\n",
    "\n",
    "> You can be a scientist in the science of bike ride mechanics and it still won’t help you one bit to do the actual thing."
   ]
  },
  {
   "cell_type": "markdown",
   "metadata": {
    "slideshow": {
     "slide_type": "slide"
    }
   },
   "source": [
    "The best way to learn how to program is to do something useful,\n",
    "so this introduction to Python is built around a common scientific task:\n",
    "data analysis.\n",
    "\n",
    "Our real goal isn't to teach you Python,\n",
    "but to teach you the basic concepts that all programming depends on.\n",
    "We use Python in our lessons because:\n",
    "\n",
    "1.  we have to use *something* for examples;\n",
    "2.  it's free, well-documented, and runs almost everywhere;\n",
    "3.  it has a large (and growing) user base among scientists; and\n",
    "4.  experience shows that it's easier for novices to pick up than most other languages.\n",
    "\n",
    "But the two most important things are\n",
    "to use whatever language your colleagues are using,\n",
    "so that you can share your work with them easily,\n",
    "and to use that language *well*."
   ]
  },
  {
   "cell_type": "markdown",
   "metadata": {
    "slideshow": {
     "slide_type": "slide"
    }
   },
   "source": [
    "From the `bash` lesson, we've got a directory of bed files, that look something like this:\n",
    "\n",
    "~~~\n",
    "chr10\t100023306\t100023327\tchr10:100023306-100023327(unannotated)\t2\t-\t1.79\t0.068\t5\n",
    "chr10\t100057467\t100057490\tchr10:100057467-100057490(unannotated)\t18\t+\t17.99\t0.004\t55\n",
    "chr10\t100082171\t100082191\tchr10:100082171-100082191(unannotated)\t4\t+\t3.76\t0.038\t10\n",
    "chr10\t100155012\t100155073\tchr10:100155012-100155073(miRNA|processed_transcript|protein_coding)\t78\t-\t78.44\t0.001\t636\n",
    "~~~\n",
    "\n",
    "Now, bash can glue commands together to do some basic operations on the data, but if we want to interpret the data more meaningfully (numerically, statistically, graphically), it's more appropriate to use a programming language like Python\n",
    "\n",
    "We want to:\n",
    "\n",
    "*   load that data into memory,\n",
    "*   Analyze/summarize/subset the data\n",
    "*   plot the result.\n",
    "\n",
    "To do all that, we'll have to learn a little bit about programming."
   ]
  },
  {
   "cell_type": "markdown",
   "metadata": {
    "slideshow": {
     "slide_type": "slide"
    }
   },
   "source": [
    "## Prerequisites\n",
    "\n",
    "Learners need to understand the concepts of files and directories\n",
    "(including the working directory) and how to start the Jupyter Notebook\n",
    "interpreter before tackling this lesson. This lesson references the Jupyter (IPython)\n",
    "Notebook although it can be taught through any Python interpreter.\n",
    "The commands in this lesson pertain to **Python 2**.\n",
    "\n",
    "## Getting started\n",
    "\n",
    "You need to download some files to follow this lesson:\n",
    "\n",
    "1. Download [scicomp-python-1.0.0.zip](https://github.com/dleehr/scicomp-python/archive/v1.0.0.zip) and save it on your Desktop\n",
    "2. If it's not unzipped yet, double-click on it to unzip it. You should end up with a new folder called `scicomp-python-1.0.0`.\n",
    "3. Open a **bash** shell (Git Bash or Terminal)\n",
    "4. Type `ipython notebook`\n",
    "![bash ipython notebook](fig/bash-ipython-notebook.png)\n",
    "5. Wait for a web browser to open, but do not close the bash window.\n",
    "![jupyter home](fig/jupyter-notebook-start.png)"
   ]
  },
  {
   "cell_type": "markdown",
   "metadata": {
    "slideshow": {
     "slide_type": "slide"
    }
   },
   "source": [
    "## Intro to Python & Notebook\n",
    "\n",
    "1. Cells and the notebook toolbar\n",
    "2. Simple arithmetic\n",
    "3. Printing\n",
    "4. Variables\n"
   ]
  },
  {
   "cell_type": "code",
   "execution_count": 1,
   "metadata": {
    "collapsed": false
   },
   "outputs": [
    {
     "data": {
      "text/plain": [
       "8"
      ]
     },
     "execution_count": 1,
     "metadata": {},
     "output_type": "execute_result"
    }
   ],
   "source": [
    "5 + 3"
   ]
  },
  {
   "cell_type": "code",
   "execution_count": 2,
   "metadata": {
    "collapsed": false
   },
   "outputs": [
    {
     "name": "stdout",
     "output_type": "stream",
     "text": [
      "Hello, World\n"
     ]
    }
   ],
   "source": [
    "print \"Hello, World\""
   ]
  },
  {
   "cell_type": "code",
   "execution_count": 3,
   "metadata": {
    "collapsed": false
   },
   "outputs": [
    {
     "name": "stdout",
     "output_type": "stream",
     "text": [
      "Aloha \n"
     ]
    }
   ],
   "source": [
    "greeting = 'Aloha'\n",
    "name = ''\n",
    "\n",
    "print greeting, name"
   ]
  },
  {
   "cell_type": "markdown",
   "metadata": {
    "slideshow": {
     "slide_type": "slide"
    }
   },
   "source": [
    "## Learning Objectives\n",
    "*   Explain what a library is, and what libraries are used for.\n",
    "*   Load a Python library and use the things it contains.\n",
    "*   Read tabular data from a file into a program.\n",
    "*   Assign values to variables.\n",
    "*   Select individual values and subsections from data.\n",
    "*   Perform operations on arrays of data.\n",
    "*   Display simple graphs.\n",
    "\n",
    "Words are useful,\n",
    "but what's more useful are the sentences and stories we build with them.\n",
    "Similarly,\n",
    "while a lot of powerful tools are built into languages like Python,\n",
    "even more live in the [libraries](reference.html#library) they are used to build.\n",
    "\n",
    "In order to load data and analyze it,\n",
    "we need to [import](reference.html#import) a library called pandas.\n",
    "In general you should use this library if you want work with data like a spreadsheet.\n",
    "Pandas works great with numerical and text data. There are other libraries for other purposes\n",
    "We can load Pandas using:"
   ]
  },
  {
   "cell_type": "code",
   "execution_count": 4,
   "metadata": {
    "collapsed": true
   },
   "outputs": [],
   "source": [
    "import pandas"
   ]
  },
  {
   "cell_type": "markdown",
   "metadata": {},
   "source": [
    "Importing a library is like getting a piece of lab equipment out of a storage locker\n",
    "and setting it up on the bench. Libraries provide additional functionality to the basic Python package, much like a new piece of equipment adds functionality to a lab space.\n",
    "Once you've loaded the library,\n",
    "we can ask the library to read our data file for us:"
   ]
  },
  {
   "cell_type": "code",
   "execution_count": 35,
   "metadata": {
    "collapsed": false
   },
   "outputs": [
    {
     "data": {
      "text/html": [
       "<div>\n",
       "<table border=\"1\" class=\"dataframe\">\n",
       "  <thead>\n",
       "    <tr style=\"text-align: right;\">\n",
       "      <th></th>\n",
       "      <th>0</th>\n",
       "      <th>1</th>\n",
       "      <th>2</th>\n",
       "      <th>3</th>\n",
       "      <th>4</th>\n",
       "      <th>5</th>\n",
       "      <th>6</th>\n",
       "      <th>7</th>\n",
       "      <th>8</th>\n",
       "    </tr>\n",
       "  </thead>\n",
       "  <tbody>\n",
       "    <tr>\n",
       "      <th>0</th>\n",
       "      <td>chr10</td>\n",
       "      <td>100023307</td>\n",
       "      <td>100023327</td>\n",
       "      <td>chr10:100023307-100023327(unannotated)</td>\n",
       "      <td>2</td>\n",
       "      <td>-</td>\n",
       "      <td>2.34</td>\n",
       "      <td>0.205</td>\n",
       "      <td>3</td>\n",
       "    </tr>\n",
       "    <tr>\n",
       "      <th>1</th>\n",
       "      <td>chr10</td>\n",
       "      <td>100082171</td>\n",
       "      <td>100082191</td>\n",
       "      <td>chr10:100082171-100082191(unannotated)</td>\n",
       "      <td>5</td>\n",
       "      <td>-</td>\n",
       "      <td>4.69</td>\n",
       "      <td>0.138</td>\n",
       "      <td>6</td>\n",
       "    </tr>\n",
       "    <tr>\n",
       "      <th>2</th>\n",
       "      <td>chr10</td>\n",
       "      <td>100082171</td>\n",
       "      <td>100082191</td>\n",
       "      <td>chr10:100082171-100082191(unannotated)</td>\n",
       "      <td>58</td>\n",
       "      <td>+</td>\n",
       "      <td>57.83</td>\n",
       "      <td>0.106</td>\n",
       "      <td>74</td>\n",
       "    </tr>\n",
       "    <tr>\n",
       "      <th>3</th>\n",
       "      <td>chr10</td>\n",
       "      <td>100152747</td>\n",
       "      <td>100152764</td>\n",
       "      <td>chr10:100152747-100152764(unannotated)</td>\n",
       "      <td>6</td>\n",
       "      <td>+</td>\n",
       "      <td>5.52</td>\n",
       "      <td>0.120</td>\n",
       "      <td>6</td>\n",
       "    </tr>\n",
       "    <tr>\n",
       "      <th>4</th>\n",
       "      <td>chr10</td>\n",
       "      <td>100155026</td>\n",
       "      <td>100155049</td>\n",
       "      <td>chr10:100155026-100155049(miRNA|processed_tran...</td>\n",
       "      <td>1000</td>\n",
       "      <td>-</td>\n",
       "      <td>2744.14</td>\n",
       "      <td>0.007</td>\n",
       "      <td>4038</td>\n",
       "    </tr>\n",
       "  </tbody>\n",
       "</table>\n",
       "</div>"
      ],
      "text/plain": [
       "       0          1          2  \\\n",
       "0  chr10  100023307  100023327   \n",
       "1  chr10  100082171  100082191   \n",
       "2  chr10  100082171  100082191   \n",
       "3  chr10  100152747  100152764   \n",
       "4  chr10  100155026  100155049   \n",
       "\n",
       "                                                   3     4  5        6      7  \\\n",
       "0             chr10:100023307-100023327(unannotated)     2  -     2.34  0.205   \n",
       "1             chr10:100082171-100082191(unannotated)     5  -     4.69  0.138   \n",
       "2             chr10:100082171-100082191(unannotated)    58  +    57.83  0.106   \n",
       "3             chr10:100152747-100152764(unannotated)     6  +     5.52  0.120   \n",
       "4  chr10:100155026-100155049(miRNA|processed_tran...  1000  -  2744.14  0.007   \n",
       "\n",
       "      8  \n",
       "0     3  \n",
       "1     6  \n",
       "2    74  \n",
       "3     6  \n",
       "4  4038  "
      ]
     },
     "execution_count": 35,
     "metadata": {},
     "output_type": "execute_result"
    }
   ],
   "source": [
    "pandas.read_table('data/A549.bed', header=None)"
   ]
  },
  {
   "cell_type": "markdown",
   "metadata": {
    "slideshow": {
     "slide_type": "slide"
    }
   },
   "source": [
    "The expression `pandas.read_table(...)` is a [function call](reference.html#function-call)\n",
    "that asks Python to run the function `read_table` that belongs to the `pandas` library.\n",
    "This [dotted notation](reference.html#dotted-notation) is used everywhere in Python\n",
    "to refer to the parts of things as `thing.component`.\n",
    "\n",
    "`pandas.read_table` has three [parameters](reference.html#parameter):\n",
    "the name of the file we want to read,\n",
    "the [delimiter](reference.html#delimiter) that separates values on a line, and where our header row is.\n",
    "The file name and delimiter need to be character strings (or [strings](reference.html#string) for short),\n",
    "so we put them in quotes. The location of the header row would be a number, but we don't have a header row so we use the value `None`\n",
    "\n",
    "When we are finished typing and press Shift+Enter,\n",
    "the notebook runs our command.\n",
    "Since we haven't told it to do anything else with the function's output,\n",
    "the notebook displays it.\n",
    "In this case,\n",
    "that output is the data we just loaded.\n",
    "By default,\n",
    "only a few rows and columns are shown\n",
    "(with `...` to omit elements when displaying big arrays).\n",
    "To save space,"
   ]
  },
  {
   "cell_type": "markdown",
   "metadata": {},
   "source": [
    "Our call to `pandas.read_table` read our file,\n",
    "but didn't save the data in memory.\n",
    "To do that,\n",
    "we need to [assign](reference.html#assignment) the data frame to a [variable](reference.html#variable).\n",
    "A variable is just a name for a value,\n",
    "such as `x`, `current_temperature`, or `subject_id`.\n",
    "Python's variables must begin with a letter and are [case sensitive](reference.html#case-sensitive).\n",
    "We can create a new variable by assigning a value to it using `=`.\n",
    "As an illustration,\n",
    "let's step back and instead of considering a table of data,\n",
    "consider the simplest \"collection\" of data,\n",
    "a single value.\n",
    "The line below assigns the value `55` to a variable `weight_kg`:"
   ]
  },
  {
   "cell_type": "code",
   "execution_count": 6,
   "metadata": {
    "collapsed": true
   },
   "outputs": [],
   "source": [
    "weight_kg = 55"
   ]
  },
  {
   "cell_type": "markdown",
   "metadata": {},
   "source": [
    "Once a variable has a value, we can print it to the screen:"
   ]
  },
  {
   "cell_type": "code",
   "execution_count": 7,
   "metadata": {
    "collapsed": false
   },
   "outputs": [
    {
     "name": "stdout",
     "output_type": "stream",
     "text": [
      "55\n"
     ]
    }
   ],
   "source": [
    "print weight_kg"
   ]
  },
  {
   "cell_type": "markdown",
   "metadata": {},
   "source": [
    "and do arithmetic with it:"
   ]
  },
  {
   "cell_type": "code",
   "execution_count": 8,
   "metadata": {
    "collapsed": false
   },
   "outputs": [
    {
     "name": "stdout",
     "output_type": "stream",
     "text": [
      "weight in pounds: 121.0\n"
     ]
    }
   ],
   "source": [
    "print 'weight in pounds:', 2.2 * weight_kg"
   ]
  },
  {
   "cell_type": "markdown",
   "metadata": {},
   "source": [
    "We can also change a variable's value by assigning it a new one:"
   ]
  },
  {
   "cell_type": "code",
   "execution_count": 9,
   "metadata": {
    "collapsed": false
   },
   "outputs": [
    {
     "name": "stdout",
     "output_type": "stream",
     "text": [
      "weight in kilograms is now: 57.5\n"
     ]
    }
   ],
   "source": [
    "weight_kg = 57.5\n",
    "print 'weight in kilograms is now:', weight_kg\n"
   ]
  },
  {
   "cell_type": "markdown",
   "metadata": {},
   "source": [
    "As the example above shows,\n",
    "we can print several things at once by separating them with commas.\n",
    "\n",
    "If we imagine the variable as a sticky note with a name written on it,\n",
    "assignment is like putting the sticky note on a particular value:\n",
    "\n",
    "![Variables as Sticky Notes](fig/python-sticky-note-variables-01.svg)\n",
    "\n",
    "This means that assigning a value to one variable does *not* change the values of other variables.\n",
    "For example,\n",
    "let's store the subject's weight in pounds in a variable:"
   ]
  },
  {
   "cell_type": "code",
   "execution_count": 10,
   "metadata": {
    "collapsed": false
   },
   "outputs": [
    {
     "name": "stdout",
     "output_type": "stream",
     "text": [
      "weight in kilograms: 57.5 and in pounds: 126.5\n"
     ]
    }
   ],
   "source": [
    "weight_lb = 2.2 * weight_kg\n",
    "print 'weight in kilograms:', weight_kg, 'and in pounds:', weight_lb\n"
   ]
  },
  {
   "cell_type": "markdown",
   "metadata": {},
   "source": [
    "![Creating Another Variable](fig/python-sticky-note-variables-02.svg)\n",
    "\n",
    "and then change `weight_kg`:"
   ]
  },
  {
   "cell_type": "code",
   "execution_count": 11,
   "metadata": {
    "collapsed": false
   },
   "outputs": [
    {
     "name": "stdout",
     "output_type": "stream",
     "text": [
      "weight in kilograms is now: 100.0 and weight in pounds is still: 126.5\n"
     ]
    }
   ],
   "source": [
    "weight_kg = 100.0\n",
    "print 'weight in kilograms is now:', weight_kg, 'and weight in pounds is still:', weight_lb"
   ]
  },
  {
   "cell_type": "markdown",
   "metadata": {},
   "source": [
    "![Updating a Variable](fig/python-sticky-note-variables-03.svg)\n",
    "\n",
    "Since `weight_lb` doesn't \"remember\" where its value came from,\n",
    "it isn't automatically updated when `weight_kg` changes.\n",
    "This is different from the way spreadsheets work.\n",
    "\n",
    "Just as we can assign a single value to a variable, we can also assign an array of values\n",
    "to a variable using the same syntax.  Let's re-run `pandas.read_table` and save its result:"
   ]
  },
  {
   "cell_type": "code",
   "execution_count": 12,
   "metadata": {
    "collapsed": true
   },
   "outputs": [],
   "source": [
    "data = pandas.read_table('data/A549.bed', header=None)"
   ]
  },
  {
   "cell_type": "markdown",
   "metadata": {},
   "source": [
    "This statement doesn't produce any output because assignment doesn't display anything.\n",
    "If we want to check that our data has been loaded,\n",
    "we can show or print the variable's value:"
   ]
  },
  {
   "cell_type": "code",
   "execution_count": 36,
   "metadata": {
    "collapsed": false
   },
   "outputs": [
    {
     "data": {
      "text/html": [
       "<div>\n",
       "<table border=\"1\" class=\"dataframe\">\n",
       "  <thead>\n",
       "    <tr style=\"text-align: right;\">\n",
       "      <th></th>\n",
       "      <th>chrom</th>\n",
       "      <th>chromStart</th>\n",
       "      <th>chromEnd</th>\n",
       "      <th>name</th>\n",
       "      <th>score</th>\n",
       "      <th>strand</th>\n",
       "      <th>level</th>\n",
       "      <th>signif</th>\n",
       "      <th>score2</th>\n",
       "      <th>chromSpan</th>\n",
       "    </tr>\n",
       "  </thead>\n",
       "  <tbody>\n",
       "    <tr>\n",
       "      <th>0</th>\n",
       "      <td>chr10</td>\n",
       "      <td>100023307</td>\n",
       "      <td>100023327</td>\n",
       "      <td>chr10:100023307-100023327(unannotated)</td>\n",
       "      <td>2</td>\n",
       "      <td>-</td>\n",
       "      <td>2.34</td>\n",
       "      <td>0.205</td>\n",
       "      <td>3</td>\n",
       "      <td>20</td>\n",
       "    </tr>\n",
       "    <tr>\n",
       "      <th>1</th>\n",
       "      <td>chr10</td>\n",
       "      <td>100082171</td>\n",
       "      <td>100082191</td>\n",
       "      <td>chr10:100082171-100082191(unannotated)</td>\n",
       "      <td>5</td>\n",
       "      <td>-</td>\n",
       "      <td>4.69</td>\n",
       "      <td>0.138</td>\n",
       "      <td>6</td>\n",
       "      <td>20</td>\n",
       "    </tr>\n",
       "    <tr>\n",
       "      <th>2</th>\n",
       "      <td>chr10</td>\n",
       "      <td>100082171</td>\n",
       "      <td>100082191</td>\n",
       "      <td>chr10:100082171-100082191(unannotated)</td>\n",
       "      <td>58</td>\n",
       "      <td>+</td>\n",
       "      <td>57.83</td>\n",
       "      <td>0.106</td>\n",
       "      <td>74</td>\n",
       "      <td>20</td>\n",
       "    </tr>\n",
       "    <tr>\n",
       "      <th>3</th>\n",
       "      <td>chr10</td>\n",
       "      <td>100152747</td>\n",
       "      <td>100152764</td>\n",
       "      <td>chr10:100152747-100152764(unannotated)</td>\n",
       "      <td>6</td>\n",
       "      <td>+</td>\n",
       "      <td>5.52</td>\n",
       "      <td>0.120</td>\n",
       "      <td>6</td>\n",
       "      <td>17</td>\n",
       "    </tr>\n",
       "    <tr>\n",
       "      <th>4</th>\n",
       "      <td>chr10</td>\n",
       "      <td>100155026</td>\n",
       "      <td>100155049</td>\n",
       "      <td>chr10:100155026-100155049(miRNA|processed_tran...</td>\n",
       "      <td>1000</td>\n",
       "      <td>-</td>\n",
       "      <td>2744.14</td>\n",
       "      <td>0.007</td>\n",
       "      <td>4038</td>\n",
       "      <td>23</td>\n",
       "    </tr>\n",
       "  </tbody>\n",
       "</table>\n",
       "</div>"
      ],
      "text/plain": [
       "   chrom  chromStart   chromEnd  \\\n",
       "0  chr10   100023307  100023327   \n",
       "1  chr10   100082171  100082191   \n",
       "2  chr10   100082171  100082191   \n",
       "3  chr10   100152747  100152764   \n",
       "4  chr10   100155026  100155049   \n",
       "\n",
       "                                                name  score strand    level  \\\n",
       "0             chr10:100023307-100023327(unannotated)      2      -     2.34   \n",
       "1             chr10:100082171-100082191(unannotated)      5      -     4.69   \n",
       "2             chr10:100082171-100082191(unannotated)     58      +    57.83   \n",
       "3             chr10:100152747-100152764(unannotated)      6      +     5.52   \n",
       "4  chr10:100155026-100155049(miRNA|processed_tran...   1000      -  2744.14   \n",
       "\n",
       "   signif  score2  chromSpan  \n",
       "0   0.205       3         20  \n",
       "1   0.138       6         20  \n",
       "2   0.106      74         20  \n",
       "3   0.120       6         17  \n",
       "4   0.007    4038         23  "
      ]
     },
     "execution_count": 36,
     "metadata": {},
     "output_type": "execute_result"
    }
   ],
   "source": [
    "data"
   ]
  },
  {
   "cell_type": "markdown",
   "metadata": {},
   "source": [
    "Now that our data is in memory,\n",
    "we can start doing things with it.\n",
    "First,\n",
    "let's ask what [type](reference.html#type) of thing `data` refers to:"
   ]
  },
  {
   "cell_type": "code",
   "execution_count": 14,
   "metadata": {
    "collapsed": false
   },
   "outputs": [
    {
     "data": {
      "text/plain": [
       "pandas.core.frame.DataFrame"
      ]
     },
     "execution_count": 14,
     "metadata": {},
     "output_type": "execute_result"
    }
   ],
   "source": [
    "type(data)"
   ]
  },
  {
   "cell_type": "markdown",
   "metadata": {},
   "source": [
    "The output tells us that `data` currently refers to Data Frame created by the Pandas library. This contains the data from the `wgEncodeCshlShortRnaSeqA549CellContigs.bedRnaElements` file we saw earlier. The rows correspond to regions/features, and the columns contain things like the chromosome, location, and name. \n",
    "\n",
    "We can see what its [shape](reference.html#shape) is like this:"
   ]
  },
  {
   "cell_type": "code",
   "execution_count": 15,
   "metadata": {
    "collapsed": false
   },
   "outputs": [
    {
     "data": {
      "text/plain": [
       "(17813, 9)"
      ]
     },
     "execution_count": 15,
     "metadata": {},
     "output_type": "execute_result"
    }
   ],
   "source": [
    "data.shape"
   ]
  },
  {
   "cell_type": "markdown",
   "metadata": {},
   "source": [
    "This tells us that `data` has 17813 rows and 9 columns. When we created the\n",
    "variable `data` to store our data, we didn't just create the Data Frame, we also\n",
    "created information about the array, called [members](reference.html#member) or\n",
    "attributes. This extra information describes `data` in\n",
    "the same way an adjective describes a noun.\n",
    "`data.shape` is an attribute  of `data` which described the dimensions of `data`.\n",
    "We use the same dotted notation for the attributes of variables\n",
    "that we use for the functions in libraries\n",
    "because they have the same part-and-whole relationship.\n",
    "\n",
    "If we want to get a single value from the Data Frame, we use square brackets and an attribute called `iloc`, which is short for integer location."
   ]
  },
  {
   "cell_type": "code",
   "execution_count": 16,
   "metadata": {
    "collapsed": false
   },
   "outputs": [
    {
     "name": "stdout",
     "output_type": "stream",
     "text": [
      "first value in data: chr10\n",
      "middle value in data: 7\n"
     ]
    }
   ],
   "source": [
    "print 'first value in data:', data.iloc[0,0]\n",
    "print 'middle value in data:', data.iloc[8906,4]"
   ]
  },
  {
   "cell_type": "markdown",
   "metadata": {},
   "source": [
    "The expression `data.iloc[8906,4]` may not surprise you,\n",
    "but `data.iloc[0,0]` might.\n",
    "\n",
    "Programming languages like Fortran and MATLAB start counting at 1,\n",
    "because that's what human beings have done for thousands of years.\n",
    "Languages in the C family (including C++, Java, Perl, and Python) count from 0\n",
    "because that's simpler for computers to do.\n",
    "\n",
    "As a result,\n",
    "if we have an M&times;N array in Python,\n",
    "its indices go from 0 to M-1 on the first axis\n",
    "and 0 to N-1 on the second.\n",
    "It takes a bit of getting used to,\n",
    "but one way to remember the rule is that\n",
    "the index is how many steps we have to take from the start to get the item we want."
   ]
  },
  {
   "cell_type": "markdown",
   "metadata": {},
   "source": [
    "An index like `[8906, 4]` selects a single element of the Data Frame,\n",
    "but we can select whole sections as well.\n",
    "For example,\n",
    "we can select the first three fields (columns) of values\n",
    "for the first five regions (rows) like this:\n"
   ]
  },
  {
   "cell_type": "code",
   "execution_count": 17,
   "metadata": {
    "collapsed": false
   },
   "outputs": [
    {
     "data": {
      "text/html": [
       "<div>\n",
       "<table border=\"1\" class=\"dataframe\">\n",
       "  <thead>\n",
       "    <tr style=\"text-align: right;\">\n",
       "      <th></th>\n",
       "      <th>0</th>\n",
       "      <th>1</th>\n",
       "    </tr>\n",
       "  </thead>\n",
       "  <tbody>\n",
       "    <tr>\n",
       "      <th>0</th>\n",
       "      <td>chr10</td>\n",
       "      <td>100023307</td>\n",
       "    </tr>\n",
       "    <tr>\n",
       "      <th>1</th>\n",
       "      <td>chr10</td>\n",
       "      <td>100082171</td>\n",
       "    </tr>\n",
       "    <tr>\n",
       "      <th>2</th>\n",
       "      <td>chr10</td>\n",
       "      <td>100082171</td>\n",
       "    </tr>\n",
       "    <tr>\n",
       "      <th>3</th>\n",
       "      <td>chr10</td>\n",
       "      <td>100152747</td>\n",
       "    </tr>\n",
       "  </tbody>\n",
       "</table>\n",
       "</div>"
      ],
      "text/plain": [
       "       0          1\n",
       "0  chr10  100023307\n",
       "1  chr10  100082171\n",
       "2  chr10  100082171\n",
       "3  chr10  100152747"
      ]
     },
     "execution_count": 17,
     "metadata": {},
     "output_type": "execute_result"
    }
   ],
   "source": [
    "data.iloc[0:4,0:2]"
   ]
  },
  {
   "cell_type": "markdown",
   "metadata": {},
   "source": [
    "The [slice](reference.html#slice) `0:4` means,\n",
    "\"Start at index 0 and go up to, but not including, index 4.\"\n",
    "Again,\n",
    "the up-to-but-not-including takes a bit of getting used to,\n",
    "but the rule is that the difference between the upper and lower bounds is the number of values in the slice.\n",
    "\n",
    "We don't have to start slices at 0:"
   ]
  },
  {
   "cell_type": "code",
   "execution_count": 18,
   "metadata": {
    "collapsed": false
   },
   "outputs": [
    {
     "data": {
      "text/html": [
       "<div>\n",
       "<table border=\"1\" class=\"dataframe\">\n",
       "  <thead>\n",
       "    <tr style=\"text-align: right;\">\n",
       "      <th></th>\n",
       "      <th>2</th>\n",
       "      <th>3</th>\n",
       "    </tr>\n",
       "  </thead>\n",
       "  <tbody>\n",
       "    <tr>\n",
       "      <th>5</th>\n",
       "      <td>100206783</td>\n",
       "      <td>chr10:100206760-100206783(unannotated)</td>\n",
       "    </tr>\n",
       "    <tr>\n",
       "      <th>6</th>\n",
       "      <td>100246555</td>\n",
       "      <td>chr10:100246530-100246555(unannotated)</td>\n",
       "    </tr>\n",
       "    <tr>\n",
       "      <th>7</th>\n",
       "      <td>1008291</td>\n",
       "      <td>chr10:1008275-1008291(unannotated)</td>\n",
       "    </tr>\n",
       "    <tr>\n",
       "      <th>8</th>\n",
       "      <td>101128622</td>\n",
       "      <td>chr10:101128603-101128622(unannotated)</td>\n",
       "    </tr>\n",
       "    <tr>\n",
       "      <th>9</th>\n",
       "      <td>101155409</td>\n",
       "      <td>chr10:101155393-101155409(unannotated)</td>\n",
       "    </tr>\n",
       "  </tbody>\n",
       "</table>\n",
       "</div>"
      ],
      "text/plain": [
       "           2                                       3\n",
       "5  100206783  chr10:100206760-100206783(unannotated)\n",
       "6  100246555  chr10:100246530-100246555(unannotated)\n",
       "7    1008291      chr10:1008275-1008291(unannotated)\n",
       "8  101128622  chr10:101128603-101128622(unannotated)\n",
       "9  101155409  chr10:101155393-101155409(unannotated)"
      ]
     },
     "execution_count": 18,
     "metadata": {},
     "output_type": "execute_result"
    }
   ],
   "source": [
    "data.iloc[5:10, 2:4]"
   ]
  },
  {
   "cell_type": "markdown",
   "metadata": {},
   "source": [
    "We also don't have to include the upper and lower bound on the slice.\n",
    "If we don't include the lower bound,\n",
    "Python uses 0 by default;\n",
    "if we don't include the upper,\n",
    "the slice runs to the end of the axis,\n",
    "and if we don't include either\n",
    "(i.e., if we just use ':' on its own),\n",
    "the slice includes everything:"
   ]
  },
  {
   "cell_type": "code",
   "execution_count": 19,
   "metadata": {
    "collapsed": false
   },
   "outputs": [
    {
     "name": "stdout",
     "output_type": "stream",
     "text": [
      "small is:        7   8\n",
      "0  0.205   3\n",
      "1  0.138   6\n",
      "2  0.106  74\n"
     ]
    }
   ],
   "source": [
    "small = data.iloc[:3, 7:]\n",
    "print 'small is:', small"
   ]
  },
  {
   "cell_type": "markdown",
   "metadata": {},
   "source": [
    "When we loaded the data frame, we said `headers=None` because our file didn't have a header row. If you have a CSV or TSV file with a header row, pandas will use that for your columns by default.\n",
    "\n",
    "We can update this after the fact. by assigning a **list** of values to `data.columns`\n",
    "\n",
    "These are `.bedRnaElements` files in the **ENCODE RNA elements** format. The columns, as documented at [ucsc.edu](https://genome.ucsc.edu/FAQ/FAQformat.html#format11) are:\n",
    "\n",
    "\n",
    "1. **chrom** - Name of the chromosome (or contig, scaffold, etc.).\n",
    "2. **chromStart** - The starting position of the feature in the chromosome or scaffold. The first base in a chromosome is numbered 0.\n",
    "3. **chromEnd** - The ending position of the feature in the chromosome or scaffold. The chromEnd base is not included in the display of the feature. For example, the first 100 bases of a chromosome are defined as chromStart=0, chromEnd=100, and span the bases numbered 0-99.\n",
    "4. **name** - Name given to a region (preferably unique). Use '.' if no name is assigned.\n",
    "5. **score** - Indicates how dark the peak will be displayed in the browser (0-1000). If all scores were '0' when the data were submitted to the DCC, the DCC assigned scores 1-1000 based on signal value. Ideally the average signalValue per base spread is between 100-1000.\n",
    "6. **strand** - +/- to denote strand or orientation (whenever applicable). Use '.' if no orientation is assigned.\n",
    "7. **level** - Expression level such as RPKM or FPKM.\n",
    "8. **signif** - Statistical significance such as IDR.\n",
    "9. **score2** - Additional measurement/count e.g. number of reads."
   ]
  },
  {
   "cell_type": "code",
   "execution_count": 20,
   "metadata": {
    "collapsed": true
   },
   "outputs": [],
   "source": [
    "cols = ['chrom','chromStart','chromEnd','name','score','strand','level','signif','score2']\n",
    "data.columns = cols"
   ]
  },
  {
   "cell_type": "markdown",
   "metadata": {},
   "source": [
    "Looking at `data`, we see the meaningful labels at the top, and these labels follow the data through other operations. "
   ]
  },
  {
   "cell_type": "code",
   "execution_count": 21,
   "metadata": {
    "collapsed": false
   },
   "outputs": [
    {
     "data": {
      "text/html": [
       "<div>\n",
       "<table border=\"1\" class=\"dataframe\">\n",
       "  <thead>\n",
       "    <tr style=\"text-align: right;\">\n",
       "      <th></th>\n",
       "      <th>chrom</th>\n",
       "      <th>chromStart</th>\n",
       "      <th>chromEnd</th>\n",
       "      <th>name</th>\n",
       "      <th>score</th>\n",
       "      <th>strand</th>\n",
       "      <th>level</th>\n",
       "      <th>signif</th>\n",
       "      <th>score2</th>\n",
       "    </tr>\n",
       "  </thead>\n",
       "  <tbody>\n",
       "    <tr>\n",
       "      <th>0</th>\n",
       "      <td>chr10</td>\n",
       "      <td>100023307</td>\n",
       "      <td>100023327</td>\n",
       "      <td>chr10:100023307-100023327(unannotated)</td>\n",
       "      <td>2</td>\n",
       "      <td>-</td>\n",
       "      <td>2.34</td>\n",
       "      <td>0.205</td>\n",
       "      <td>3</td>\n",
       "    </tr>\n",
       "    <tr>\n",
       "      <th>1</th>\n",
       "      <td>chr10</td>\n",
       "      <td>100082171</td>\n",
       "      <td>100082191</td>\n",
       "      <td>chr10:100082171-100082191(unannotated)</td>\n",
       "      <td>5</td>\n",
       "      <td>-</td>\n",
       "      <td>4.69</td>\n",
       "      <td>0.138</td>\n",
       "      <td>6</td>\n",
       "    </tr>\n",
       "    <tr>\n",
       "      <th>2</th>\n",
       "      <td>chr10</td>\n",
       "      <td>100082171</td>\n",
       "      <td>100082191</td>\n",
       "      <td>chr10:100082171-100082191(unannotated)</td>\n",
       "      <td>58</td>\n",
       "      <td>+</td>\n",
       "      <td>57.83</td>\n",
       "      <td>0.106</td>\n",
       "      <td>74</td>\n",
       "    </tr>\n",
       "    <tr>\n",
       "      <th>3</th>\n",
       "      <td>chr10</td>\n",
       "      <td>100152747</td>\n",
       "      <td>100152764</td>\n",
       "      <td>chr10:100152747-100152764(unannotated)</td>\n",
       "      <td>6</td>\n",
       "      <td>+</td>\n",
       "      <td>5.52</td>\n",
       "      <td>0.120</td>\n",
       "      <td>6</td>\n",
       "    </tr>\n",
       "    <tr>\n",
       "      <th>4</th>\n",
       "      <td>chr10</td>\n",
       "      <td>100155026</td>\n",
       "      <td>100155049</td>\n",
       "      <td>chr10:100155026-100155049(miRNA|processed_tran...</td>\n",
       "      <td>1000</td>\n",
       "      <td>-</td>\n",
       "      <td>2744.14</td>\n",
       "      <td>0.007</td>\n",
       "      <td>4038</td>\n",
       "    </tr>\n",
       "  </tbody>\n",
       "</table>\n",
       "</div>"
      ],
      "text/plain": [
       "   chrom  chromStart   chromEnd  \\\n",
       "0  chr10   100023307  100023327   \n",
       "1  chr10   100082171  100082191   \n",
       "2  chr10   100082171  100082191   \n",
       "3  chr10   100152747  100152764   \n",
       "4  chr10   100155026  100155049   \n",
       "\n",
       "                                                name  score strand    level  \\\n",
       "0             chr10:100023307-100023327(unannotated)      2      -     2.34   \n",
       "1             chr10:100082171-100082191(unannotated)      5      -     4.69   \n",
       "2             chr10:100082171-100082191(unannotated)     58      +    57.83   \n",
       "3             chr10:100152747-100152764(unannotated)      6      +     5.52   \n",
       "4  chr10:100155026-100155049(miRNA|processed_tran...   1000      -  2744.14   \n",
       "\n",
       "   signif  score2  \n",
       "0   0.205       3  \n",
       "1   0.138       6  \n",
       "2   0.106      74  \n",
       "3   0.120       6  \n",
       "4   0.007    4038  "
      ]
     },
     "execution_count": 21,
     "metadata": {},
     "output_type": "execute_result"
    }
   ],
   "source": [
    "data.head()"
   ]
  },
  {
   "cell_type": "markdown",
   "metadata": {},
   "source": [
    "Data Frames know how to do complex operations on their values, including basic statistics and arithmetic. We can ask the data frame for the mean value for each numeric column"
   ]
  },
  {
   "cell_type": "code",
   "execution_count": 22,
   "metadata": {
    "collapsed": false
   },
   "outputs": [
    {
     "data": {
      "text/plain": [
       "chromStart    76298532.994723\n",
       "chromEnd      76298568.245551\n",
       "score               66.395554\n",
       "level              705.733062\n",
       "signif               0.154229\n",
       "score2            3532.125751\n",
       "dtype: float64"
      ]
     },
     "execution_count": 22,
     "metadata": {},
     "output_type": "execute_result"
    }
   ],
   "source": [
    "data.mean()"
   ]
  },
  {
   "cell_type": "markdown",
   "metadata": {},
   "source": [
    "`mean` is a [method](reference.html#method) of the data frame,\n",
    "i.e.,\n",
    "a function that belongs to it\n",
    "in the same way that the member `shape` does.\n",
    "If variables are nouns, methods are verbs:\n",
    "they are what the thing in question knows how to do.\n",
    "We need empty parentheses for `data.mean()`,\n",
    "even when we're not passing in any parameters,\n",
    "to tell Python to go and do something for us. `data.shape` doesn't\n",
    "need `()` because it is just a description but `data.mean()` requires the `()`\n",
    "because it is an action.\n",
    "\n",
    "Pandas data frames have lots of useful methods:"
   ]
  },
  {
   "cell_type": "code",
   "execution_count": 23,
   "metadata": {
    "collapsed": false
   },
   "outputs": [
    {
     "name": "stdout",
     "output_type": "stream",
     "text": [
      "** maximum **\n",
      "chromStart    2.492006e+08\n",
      "chromEnd      2.492007e+08\n",
      "score         1.000000e+03\n",
      "level         3.220229e+06\n",
      "signif        4.800000e-01\n",
      "score2        1.792414e+07\n",
      "dtype: float64 \n",
      "\n",
      "** minimum **\n",
      "chromStart      0.00\n",
      "chromEnd      131.00\n",
      "score           0.00\n",
      "level           0.26\n",
      "signif          0.00\n",
      "score2          2.00\n",
      "dtype: float64 \n",
      "\n",
      "** standard deviation **\n",
      "chromStart    56853662.772984\n",
      "chromEnd      56853659.838583\n",
      "score              182.967235\n",
      "level            26082.928803\n",
      "signif               0.094065\n",
      "score2          146115.671167\n",
      "dtype: float64\n"
     ]
    }
   ],
   "source": [
    "print '** maximum **\\n', data.max(numeric_only=True), '\\n'\n",
    "print '** minimum **\\n', data.min(numeric_only=True), '\\n'\n",
    "print '** standard deviation **\\n', data.std()"
   ]
  },
  {
   "cell_type": "markdown",
   "metadata": {},
   "source": [
    "But the one I use all the time is `data.describe()`. It provides summary statistics for all the numeric columns, makes it easy to spot NA/NaN/missing values, and give you a quick overview"
   ]
  },
  {
   "cell_type": "code",
   "execution_count": 24,
   "metadata": {
    "collapsed": false
   },
   "outputs": [
    {
     "data": {
      "text/html": [
       "<div>\n",
       "<table border=\"1\" class=\"dataframe\">\n",
       "  <thead>\n",
       "    <tr style=\"text-align: right;\">\n",
       "      <th></th>\n",
       "      <th>chromStart</th>\n",
       "      <th>chromEnd</th>\n",
       "      <th>score</th>\n",
       "      <th>level</th>\n",
       "      <th>signif</th>\n",
       "      <th>score2</th>\n",
       "    </tr>\n",
       "  </thead>\n",
       "  <tbody>\n",
       "    <tr>\n",
       "      <th>count</th>\n",
       "      <td>1.781300e+04</td>\n",
       "      <td>1.781300e+04</td>\n",
       "      <td>17813.000000</td>\n",
       "      <td>17813.000000</td>\n",
       "      <td>17813.000000</td>\n",
       "      <td>17813.000000</td>\n",
       "    </tr>\n",
       "    <tr>\n",
       "      <th>mean</th>\n",
       "      <td>7.629853e+07</td>\n",
       "      <td>7.629857e+07</td>\n",
       "      <td>66.395554</td>\n",
       "      <td>705.733062</td>\n",
       "      <td>0.154229</td>\n",
       "      <td>3532.125751</td>\n",
       "    </tr>\n",
       "    <tr>\n",
       "      <th>std</th>\n",
       "      <td>5.685366e+07</td>\n",
       "      <td>5.685366e+07</td>\n",
       "      <td>182.967235</td>\n",
       "      <td>26082.928803</td>\n",
       "      <td>0.094065</td>\n",
       "      <td>146115.671167</td>\n",
       "    </tr>\n",
       "    <tr>\n",
       "      <th>min</th>\n",
       "      <td>0.000000e+00</td>\n",
       "      <td>1.310000e+02</td>\n",
       "      <td>0.000000</td>\n",
       "      <td>0.260000</td>\n",
       "      <td>0.000000</td>\n",
       "      <td>2.000000</td>\n",
       "    </tr>\n",
       "    <tr>\n",
       "      <th>25%</th>\n",
       "      <td>3.051529e+07</td>\n",
       "      <td>3.051532e+07</td>\n",
       "      <td>3.000000</td>\n",
       "      <td>3.320000</td>\n",
       "      <td>0.070000</td>\n",
       "      <td>5.000000</td>\n",
       "    </tr>\n",
       "    <tr>\n",
       "      <th>50%</th>\n",
       "      <td>6.388359e+07</td>\n",
       "      <td>6.388360e+07</td>\n",
       "      <td>11.000000</td>\n",
       "      <td>11.030000</td>\n",
       "      <td>0.164000</td>\n",
       "      <td>22.000000</td>\n",
       "    </tr>\n",
       "    <tr>\n",
       "      <th>75%</th>\n",
       "      <td>1.138683e+08</td>\n",
       "      <td>1.138684e+08</td>\n",
       "      <td>34.000000</td>\n",
       "      <td>33.670000</td>\n",
       "      <td>0.280000</td>\n",
       "      <td>60.000000</td>\n",
       "    </tr>\n",
       "    <tr>\n",
       "      <th>max</th>\n",
       "      <td>2.492006e+08</td>\n",
       "      <td>2.492007e+08</td>\n",
       "      <td>1000.000000</td>\n",
       "      <td>3220228.810000</td>\n",
       "      <td>0.480000</td>\n",
       "      <td>17924138.000000</td>\n",
       "    </tr>\n",
       "  </tbody>\n",
       "</table>\n",
       "</div>"
      ],
      "text/plain": [
       "         chromStart      chromEnd         score           level        signif  \\\n",
       "count  1.781300e+04  1.781300e+04  17813.000000    17813.000000  17813.000000   \n",
       "mean   7.629853e+07  7.629857e+07     66.395554      705.733062      0.154229   \n",
       "std    5.685366e+07  5.685366e+07    182.967235    26082.928803      0.094065   \n",
       "min    0.000000e+00  1.310000e+02      0.000000        0.260000      0.000000   \n",
       "25%    3.051529e+07  3.051532e+07      3.000000        3.320000      0.070000   \n",
       "50%    6.388359e+07  6.388360e+07     11.000000       11.030000      0.164000   \n",
       "75%    1.138683e+08  1.138684e+08     34.000000       33.670000      0.280000   \n",
       "max    2.492006e+08  2.492007e+08   1000.000000  3220228.810000      0.480000   \n",
       "\n",
       "                score2  \n",
       "count     17813.000000  \n",
       "mean       3532.125751  \n",
       "std      146115.671167  \n",
       "min           2.000000  \n",
       "25%           5.000000  \n",
       "50%          22.000000  \n",
       "75%          60.000000  \n",
       "max    17924138.000000  "
      ]
     },
     "execution_count": 24,
     "metadata": {},
     "output_type": "execute_result"
    }
   ],
   "source": [
    "data.describe()"
   ]
  },
  {
   "cell_type": "markdown",
   "metadata": {},
   "source": [
    "When analyzing data, though,\n",
    "we're often interested in specific columns like score. The `iloc` attribute works here too. But now that we have named columns, we can use `loc` instead of `iloc`, with the column names\n"
   ]
  },
  {
   "cell_type": "code",
   "execution_count": 25,
   "metadata": {
    "collapsed": false
   },
   "outputs": [
    {
     "name": "stdout",
     "output_type": "stream",
     "text": [
      "Mean score: score    66.395554\n",
      "dtype: float64\n"
     ]
    }
   ],
   "source": [
    "scores = data.loc[:,['score']]\n",
    "print 'Mean score:', scores.mean()"
   ]
  },
  {
   "cell_type": "markdown",
   "metadata": {},
   "source": [
    "We don't actually need to store the row in a variable of its own.\n",
    "Instead, we can combine the selection and the method call:"
   ]
  },
  {
   "cell_type": "code",
   "execution_count": 26,
   "metadata": {
    "collapsed": false
   },
   "outputs": [
    {
     "name": "stdout",
     "output_type": "stream",
     "text": [
      "score std dev: 182.96723548\n"
     ]
    }
   ],
   "source": [
    "print 'score std dev:', data.loc[:,['score']].std()[0]"
   ]
  },
  {
   "cell_type": "markdown",
   "metadata": {},
   "source": [
    "Like a spreadsheet, data frames are editable. We can add new columns based on existing columns"
   ]
  },
  {
   "cell_type": "code",
   "execution_count": 27,
   "metadata": {
    "collapsed": false
   },
   "outputs": [],
   "source": [
    "data['chromSpan'] = data['chromEnd'] - data['chromStart']"
   ]
  },
  {
   "cell_type": "code",
   "execution_count": 28,
   "metadata": {
    "collapsed": false
   },
   "outputs": [
    {
     "data": {
      "text/html": [
       "<div>\n",
       "<table border=\"1\" class=\"dataframe\">\n",
       "  <thead>\n",
       "    <tr style=\"text-align: right;\">\n",
       "      <th></th>\n",
       "      <th>chromStart</th>\n",
       "      <th>chromEnd</th>\n",
       "      <th>score</th>\n",
       "      <th>level</th>\n",
       "      <th>signif</th>\n",
       "      <th>score2</th>\n",
       "      <th>chromSpan</th>\n",
       "    </tr>\n",
       "  </thead>\n",
       "  <tbody>\n",
       "    <tr>\n",
       "      <th>count</th>\n",
       "      <td>1.781300e+04</td>\n",
       "      <td>1.781300e+04</td>\n",
       "      <td>17813.000000</td>\n",
       "      <td>17813.000000</td>\n",
       "      <td>17813.000000</td>\n",
       "      <td>17813.000000</td>\n",
       "      <td>17813.000000</td>\n",
       "    </tr>\n",
       "    <tr>\n",
       "      <th>mean</th>\n",
       "      <td>7.629853e+07</td>\n",
       "      <td>7.629857e+07</td>\n",
       "      <td>66.395554</td>\n",
       "      <td>705.733062</td>\n",
       "      <td>0.154229</td>\n",
       "      <td>3532.125751</td>\n",
       "      <td>35.250828</td>\n",
       "    </tr>\n",
       "    <tr>\n",
       "      <th>std</th>\n",
       "      <td>5.685366e+07</td>\n",
       "      <td>5.685366e+07</td>\n",
       "      <td>182.967235</td>\n",
       "      <td>26082.928803</td>\n",
       "      <td>0.094065</td>\n",
       "      <td>146115.671167</td>\n",
       "      <td>39.690362</td>\n",
       "    </tr>\n",
       "    <tr>\n",
       "      <th>min</th>\n",
       "      <td>0.000000e+00</td>\n",
       "      <td>1.310000e+02</td>\n",
       "      <td>0.000000</td>\n",
       "      <td>0.260000</td>\n",
       "      <td>0.000000</td>\n",
       "      <td>2.000000</td>\n",
       "      <td>16.000000</td>\n",
       "    </tr>\n",
       "    <tr>\n",
       "      <th>25%</th>\n",
       "      <td>3.051529e+07</td>\n",
       "      <td>3.051532e+07</td>\n",
       "      <td>3.000000</td>\n",
       "      <td>3.320000</td>\n",
       "      <td>0.070000</td>\n",
       "      <td>5.000000</td>\n",
       "      <td>19.000000</td>\n",
       "    </tr>\n",
       "    <tr>\n",
       "      <th>50%</th>\n",
       "      <td>6.388359e+07</td>\n",
       "      <td>6.388360e+07</td>\n",
       "      <td>11.000000</td>\n",
       "      <td>11.030000</td>\n",
       "      <td>0.164000</td>\n",
       "      <td>22.000000</td>\n",
       "      <td>23.000000</td>\n",
       "    </tr>\n",
       "    <tr>\n",
       "      <th>75%</th>\n",
       "      <td>1.138683e+08</td>\n",
       "      <td>1.138684e+08</td>\n",
       "      <td>34.000000</td>\n",
       "      <td>33.670000</td>\n",
       "      <td>0.280000</td>\n",
       "      <td>60.000000</td>\n",
       "      <td>34.000000</td>\n",
       "    </tr>\n",
       "    <tr>\n",
       "      <th>max</th>\n",
       "      <td>2.492006e+08</td>\n",
       "      <td>2.492007e+08</td>\n",
       "      <td>1000.000000</td>\n",
       "      <td>3220228.810000</td>\n",
       "      <td>0.480000</td>\n",
       "      <td>17924138.000000</td>\n",
       "      <td>1564.000000</td>\n",
       "    </tr>\n",
       "  </tbody>\n",
       "</table>\n",
       "</div>"
      ],
      "text/plain": [
       "         chromStart      chromEnd         score           level        signif  \\\n",
       "count  1.781300e+04  1.781300e+04  17813.000000    17813.000000  17813.000000   \n",
       "mean   7.629853e+07  7.629857e+07     66.395554      705.733062      0.154229   \n",
       "std    5.685366e+07  5.685366e+07    182.967235    26082.928803      0.094065   \n",
       "min    0.000000e+00  1.310000e+02      0.000000        0.260000      0.000000   \n",
       "25%    3.051529e+07  3.051532e+07      3.000000        3.320000      0.070000   \n",
       "50%    6.388359e+07  6.388360e+07     11.000000       11.030000      0.164000   \n",
       "75%    1.138683e+08  1.138684e+08     34.000000       33.670000      0.280000   \n",
       "max    2.492006e+08  2.492007e+08   1000.000000  3220228.810000      0.480000   \n",
       "\n",
       "                score2     chromSpan  \n",
       "count     17813.000000  17813.000000  \n",
       "mean       3532.125751     35.250828  \n",
       "std      146115.671167     39.690362  \n",
       "min           2.000000     16.000000  \n",
       "25%           5.000000     19.000000  \n",
       "50%          22.000000     23.000000  \n",
       "75%          60.000000     34.000000  \n",
       "max    17924138.000000   1564.000000  "
      ]
     },
     "execution_count": 28,
     "metadata": {},
     "output_type": "execute_result"
    }
   ],
   "source": [
    "data.describe()"
   ]
  },
  {
   "cell_type": "markdown",
   "metadata": {},
   "source": [
    "75% of the span widths are below the mean of 35.25. Let's sort our data by the span width and see if there's anything interesting"
   ]
  },
  {
   "cell_type": "code",
   "execution_count": 37,
   "metadata": {
    "collapsed": false
   },
   "outputs": [
    {
     "data": {
      "text/html": [
       "<div>\n",
       "<table border=\"1\" class=\"dataframe\">\n",
       "  <thead>\n",
       "    <tr style=\"text-align: right;\">\n",
       "      <th></th>\n",
       "      <th>chrom</th>\n",
       "      <th>chromStart</th>\n",
       "      <th>chromEnd</th>\n",
       "      <th>name</th>\n",
       "      <th>score</th>\n",
       "      <th>strand</th>\n",
       "      <th>level</th>\n",
       "      <th>signif</th>\n",
       "      <th>score2</th>\n",
       "      <th>chromSpan</th>\n",
       "    </tr>\n",
       "  </thead>\n",
       "  <tbody>\n",
       "    <tr>\n",
       "      <th>17060</th>\n",
       "      <td>chrM</td>\n",
       "      <td>1673</td>\n",
       "      <td>3237</td>\n",
       "      <td>chrM:1673-3237(unannotated)</td>\n",
       "      <td>75</td>\n",
       "      <td>-</td>\n",
       "      <td>74.75</td>\n",
       "      <td>0.004</td>\n",
       "      <td>7480</td>\n",
       "      <td>1564</td>\n",
       "    </tr>\n",
       "    <tr>\n",
       "      <th>17029</th>\n",
       "      <td>chrM</td>\n",
       "      <td>11404</td>\n",
       "      <td>12391</td>\n",
       "      <td>chrM:11404-12391(Mt_tRNA|protein_coding)</td>\n",
       "      <td>294</td>\n",
       "      <td>+</td>\n",
       "      <td>293.56</td>\n",
       "      <td>0.002</td>\n",
       "      <td>18537</td>\n",
       "      <td>987</td>\n",
       "    </tr>\n",
       "    <tr>\n",
       "      <th>17032</th>\n",
       "      <td>chrM</td>\n",
       "      <td>12397</td>\n",
       "      <td>13323</td>\n",
       "      <td>chrM:12397-13323(unannotated)</td>\n",
       "      <td>125</td>\n",
       "      <td>-</td>\n",
       "      <td>125.38</td>\n",
       "      <td>0.004</td>\n",
       "      <td>7428</td>\n",
       "      <td>926</td>\n",
       "    </tr>\n",
       "    <tr>\n",
       "      <th>17056</th>\n",
       "      <td>chrM</td>\n",
       "      <td>15665</td>\n",
       "      <td>16548</td>\n",
       "      <td>chrM:15665-16548(Mt_tRNA)</td>\n",
       "      <td>1000</td>\n",
       "      <td>-</td>\n",
       "      <td>1602.88</td>\n",
       "      <td>0.001</td>\n",
       "      <td>90551</td>\n",
       "      <td>883</td>\n",
       "    </tr>\n",
       "    <tr>\n",
       "      <th>17052</th>\n",
       "      <td>chrM</td>\n",
       "      <td>14812</td>\n",
       "      <td>15660</td>\n",
       "      <td>chrM:14812-15660(unannotated)</td>\n",
       "      <td>666</td>\n",
       "      <td>-</td>\n",
       "      <td>665.56</td>\n",
       "      <td>0.001</td>\n",
       "      <td>36109</td>\n",
       "      <td>848</td>\n",
       "    </tr>\n",
       "  </tbody>\n",
       "</table>\n",
       "</div>"
      ],
      "text/plain": [
       "      chrom  chromStart  chromEnd                                      name  \\\n",
       "17060  chrM        1673      3237               chrM:1673-3237(unannotated)   \n",
       "17029  chrM       11404     12391  chrM:11404-12391(Mt_tRNA|protein_coding)   \n",
       "17032  chrM       12397     13323             chrM:12397-13323(unannotated)   \n",
       "17056  chrM       15665     16548                 chrM:15665-16548(Mt_tRNA)   \n",
       "17052  chrM       14812     15660             chrM:14812-15660(unannotated)   \n",
       "\n",
       "       score strand    level  signif  score2  chromSpan  \n",
       "17060     75      -    74.75   0.004    7480       1564  \n",
       "17029    294      +   293.56   0.002   18537        987  \n",
       "17032    125      -   125.38   0.004    7428        926  \n",
       "17056   1000      -  1602.88   0.001   90551        883  \n",
       "17052    666      -   665.56   0.001   36109        848  "
      ]
     },
     "execution_count": 37,
     "metadata": {},
     "output_type": "execute_result"
    }
   ],
   "source": [
    "data.sort('chromSpan', ascending=False)"
   ]
  },
  {
   "cell_type": "markdown",
   "metadata": {},
   "source": [
    "The top 12 are on **chrM** so that might be interesting"
   ]
  },
  {
   "cell_type": "markdown",
   "metadata": {},
   "source": [
    "The mathematician Richard Hamming once said,\n",
    "\"The purpose of computing is insight, not numbers,\"\n",
    "and the best way to develop insight is often to visualize data.\n",
    "Visualization deserves an entire lecture (or course) of its own,\n",
    "and Pandas includes support for Python's `matplotlib` library."
   ]
  },
  {
   "cell_type": "markdown",
   "metadata": {},
   "source": [
    "While there is no \"official\" plotting library,\n",
    "`matplotlib` package is the de facto standard.\n",
    "\n",
    "Pandas makes it so easy to use that you can simply call the `.plot()` method on a data frame to get a plot\n",
    "\n",
    "But first, **Magic**!"
   ]
  },
  {
   "cell_type": "code",
   "execution_count": 30,
   "metadata": {
    "collapsed": true
   },
   "outputs": [],
   "source": [
    "%matplotlib inline"
   ]
  },
  {
   "cell_type": "markdown",
   "metadata": {},
   "source": [
    "The `%` indicates an IPython magic function -\n",
    "a function that is only valid within the notebook environment.\n",
    "Note that you only have to execute this function once per notebook."
   ]
  },
  {
   "cell_type": "code",
   "execution_count": 31,
   "metadata": {
    "collapsed": false,
    "scrolled": true
   },
   "outputs": [
    {
     "data": {
      "text/plain": [
       "<matplotlib.axes._subplots.AxesSubplot at 0x10aebd290>"
      ]
     },
     "execution_count": 31,
     "metadata": {},
     "output_type": "execute_result"
    },
    {
     "data": {
      "image/png": "[encoded data removed]",
      "text/plain": [
       "<matplotlib.figure.Figure at 0x109ebdfd0>"
      ]
     },
     "metadata": {},
     "output_type": "display_data"
    }
   ],
   "source": [
    "chrM = data.loc[data['chrom'] == 'chrM']\n",
    "chrM.plot(kind='bar', y='score',x='chromStart', xticks=[])"
   ]
  },
  {
   "cell_type": "code",
   "execution_count": 32,
   "metadata": {
    "collapsed": false,
    "scrolled": true
   },
   "outputs": [
    {
     "data": {
      "text/plain": [
       "<matplotlib.axes._subplots.AxesSubplot at 0x10b118450>"
      ]
     },
     "execution_count": 32,
     "metadata": {},
     "output_type": "execute_result"
    },
    {
     "data": {
      "image/png": "[encoded data removed]",
      "text/plain": [
       "<matplotlib.figure.Figure at 0x10af68c50>"
      ]
     },
     "metadata": {},
     "output_type": "display_data"
    }
   ],
   "source": [
    "grouped = data.groupby('chrom')\n",
    "grouped.max().plot(kind='bar',y='chromSpan')"
   ]
  },
  {
   "cell_type": "markdown",
   "metadata": {},
   "source": [
    "## Scientists dislike typing\n",
    "\n",
    "We will always use the syntax `import pandas` to import Pandas.\n",
    "However, in order to save typing, it is\n",
    "often suggested and seen\n",
    "to make a shortcut like so: `import pandas as pd`.\n",
    "If you ever see Python code online using a Pandas function with `pd`\n",
    "(for example, `pd.read_table(...)`), it's because they've used this shortcut."
   ]
  },
  {
   "cell_type": "markdown",
   "metadata": {},
   "source": [
    "## Challenge: Check your understanding\n",
    "\n",
    "Draw diagrams showing what variables refer to what values after each statement in the following program:\n",
    "\n",
    "~~~ {.python}\n",
    "mass = 47.5\n",
    "age = 122\n",
    "mass = mass * 2.0\n",
    "age = age - 20\n",
    "~~~\n",
    "\n",
    "## Challenge: Sorting out references\n",
    "\n",
    "What does the following program print out?\n",
    "\n",
    "~~~ {.python}\n",
    "first, second = 'Grace', 'Hopper'\n",
    "third, fourth = second, first\n",
    "print third, fourth\n",
    "~~~\n",
    "\n",
    "## Challenge: Slicing strings\n",
    "\n",
    "A section of a data frame is called a [slice](reference.html#slice).\n",
    "We can take slices of character strings as well:\n",
    "\n",
    "~~~ {.python}\n",
    "element = 'oxygen'\n",
    "print 'first three characters:', element[0:3]\n",
    "print 'last three characters:', element[3:6]\n",
    "~~~\n",
    "\n",
    "~~~ {.output}\n",
    "first three characters: oxy\n",
    "last three characters: gen\n",
    "~~~\n",
    "\n",
    "What is the value of `element[:4]`?\n",
    "What about `element[4:]`?\n",
    "Or `element[:]`?\n",
    "\n",
    "What is `element[-1]`?\n",
    "What is `element[-2]`?\n",
    "Given those answers,\n",
    "explain what `element[1:-1]` does."
   ]
  },
  {
   "cell_type": "code",
   "execution_count": null,
   "metadata": {
    "collapsed": true
   },
   "outputs": [],
   "source": []
  },
  {
   "cell_type": "markdown",
   "metadata": {},
   "source": [
    "## Challenge: Thin slices\n",
    "\n",
    "The expression `element[3:3]` produces an [empty string](reference.html#empty-string),\n",
    "i.e., a string that contains no characters.\n",
    "If `data` holds our data frame,\n",
    "what does `data.iloc[3:3, 4:4]` produce?\n",
    "What about `data.iloc[3:3, :]`?"
   ]
  },
  {
   "cell_type": "code",
   "execution_count": null,
   "metadata": {
    "collapsed": true
   },
   "outputs": [],
   "source": []
  },
  {
   "cell_type": "markdown",
   "metadata": {},
   "source": [
    "## Challenge: Extended plotting\n",
    "\n",
    "~~~\n",
    "data.groupby('chrom').max().plot(kind='bar',y='chromSpan')\n",
    "~~~\n",
    "will produce a bar plot, showing the max `chromSpan` from each chromosome.\n",
    "If `.max()` is the method decides how to aggregate the data,\n",
    "what does `count()` tell us?\n",
    "\n",
    "Does the plot look different if you use `count()` with `y='score'`?\n",
    "\n",
    "What about `mean()`? Why?"
   ]
  },
  {
   "cell_type": "code",
   "execution_count": null,
   "metadata": {
    "collapsed": true
   },
   "outputs": [],
   "source": []
  }
 ],
 "metadata": {
  "kernelspec": {
   "display_name": "Python 2",
   "language": "python",
   "name": "python2"
  },
  "language_info": {
   "codemirror_mode": {
    "name": "ipython",
    "version": 2
   },
   "file_extension": ".py",
   "mimetype": "text/x-python",
   "name": "python",
   "nbconvert_exporter": "python",
   "pygments_lexer": "ipython2",
   "version": "2.7.10"
  }
 },
 "nbformat": 4,
 "nbformat_minor": 0
}
